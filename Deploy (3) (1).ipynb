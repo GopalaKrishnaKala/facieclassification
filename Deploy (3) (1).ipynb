{
 "cells": [
  {
   "cell_type": "markdown",
   "id": "11af9936",
   "metadata": {},
   "source": [
    "# Name:\n",
    "## Kala Sri Naga Sai Gopala Krishna\n"
   ]
  },
  {
   "cell_type": "markdown",
   "id": "6ee0cbc4",
   "metadata": {},
   "source": [
    "### Based on the metrics used above, find 3 top performing models (sufficiently different hyperparameters or belong to different techniques).\n",
    "#### Saved the models as a Pickle file in the previous notebook"
   ]
  },
  {
   "cell_type": "code",
   "execution_count": 23,
   "id": "f739d71c",
   "metadata": {},
   "outputs": [],
   "source": [
    "import pandas as pd\n",
    "import numpy as np"
   ]
  },
  {
   "cell_type": "code",
   "execution_count": 24,
   "id": "f8df1eec",
   "metadata": {},
   "outputs": [],
   "source": [
    "df = pd.read_excel('Volve.xlsx', sheet_name = 'well 1')"
   ]
  },
  {
   "cell_type": "code",
   "execution_count": 25,
   "id": "f6501d76",
   "metadata": {
    "scrolled": true
   },
   "outputs": [
    {
     "data": {
      "text/html": [
       "<div>\n",
       "<style scoped>\n",
       "    .dataframe tbody tr th:only-of-type {\n",
       "        vertical-align: middle;\n",
       "    }\n",
       "\n",
       "    .dataframe tbody tr th {\n",
       "        vertical-align: top;\n",
       "    }\n",
       "\n",
       "    .dataframe thead th {\n",
       "        text-align: right;\n",
       "    }\n",
       "</style>\n",
       "<table border=\"1\" class=\"dataframe\">\n",
       "  <thead>\n",
       "    <tr style=\"text-align: right;\">\n",
       "      <th></th>\n",
       "      <th>Depth</th>\n",
       "      <th>Well</th>\n",
       "      <th>GR</th>\n",
       "      <th>RT</th>\n",
       "      <th>RHOB</th>\n",
       "      <th>NPHI</th>\n",
       "    </tr>\n",
       "  </thead>\n",
       "  <tbody>\n",
       "    <tr>\n",
       "      <th>0</th>\n",
       "      <td>4175.5</td>\n",
       "      <td>13</td>\n",
       "      <td>20.6032</td>\n",
       "      <td>4.1812</td>\n",
       "      <td>2.6117</td>\n",
       "      <td>0.0770</td>\n",
       "    </tr>\n",
       "    <tr>\n",
       "      <th>1</th>\n",
       "      <td>4176.0</td>\n",
       "      <td>13</td>\n",
       "      <td>21.4990</td>\n",
       "      <td>4.5516</td>\n",
       "      <td>2.6131</td>\n",
       "      <td>0.0798</td>\n",
       "    </tr>\n",
       "    <tr>\n",
       "      <th>2</th>\n",
       "      <td>4176.5</td>\n",
       "      <td>13</td>\n",
       "      <td>22.4472</td>\n",
       "      <td>4.4804</td>\n",
       "      <td>2.6334</td>\n",
       "      <td>0.0801</td>\n",
       "    </tr>\n",
       "    <tr>\n",
       "      <th>3</th>\n",
       "      <td>4177.0</td>\n",
       "      <td>13</td>\n",
       "      <td>29.6713</td>\n",
       "      <td>4.3859</td>\n",
       "      <td>2.6328</td>\n",
       "      <td>0.1005</td>\n",
       "    </tr>\n",
       "    <tr>\n",
       "      <th>4</th>\n",
       "      <td>4177.5</td>\n",
       "      <td>13</td>\n",
       "      <td>34.7014</td>\n",
       "      <td>4.8566</td>\n",
       "      <td>2.6183</td>\n",
       "      <td>0.1001</td>\n",
       "    </tr>\n",
       "  </tbody>\n",
       "</table>\n",
       "</div>"
      ],
      "text/plain": [
       "    Depth  Well       GR      RT    RHOB    NPHI\n",
       "0  4175.5    13  20.6032  4.1812  2.6117  0.0770\n",
       "1  4176.0    13  21.4990  4.5516  2.6131  0.0798\n",
       "2  4176.5    13  22.4472  4.4804  2.6334  0.0801\n",
       "3  4177.0    13  29.6713  4.3859  2.6328  0.1005\n",
       "4  4177.5    13  34.7014  4.8566  2.6183  0.1001"
      ]
     },
     "execution_count": 25,
     "metadata": {},
     "output_type": "execute_result"
    }
   ],
   "source": [
    "df.head()"
   ]
  },
  {
   "cell_type": "markdown",
   "id": "bd5c111c",
   "metadata": {},
   "source": [
    "#### Importing all the necessary files"
   ]
  },
  {
   "cell_type": "markdown",
   "id": "e2af7545",
   "metadata": {},
   "source": [
    "#### Deploy the 3 top performing models on Well 1. When deploying, ensure all feature engineering and preprocessing is performed in the right sequence/order. Well 1 needs to be used for only deployment."
   ]
  },
  {
   "cell_type": "code",
   "execution_count": 26,
   "id": "b2897ed3",
   "metadata": {},
   "outputs": [],
   "source": [
    "import pickle\n",
    "\n",
    "# Export the label encoder\n",
    "with open('to_drop.pkl', 'rb') as file:\n",
    "    to_drop = pickle.load(file)\n",
    "\n",
    "# Export the Quantile Transformer\n",
    "with open('quantile_transformer.pkl', 'rb') as file:\n",
    "    quantile_transformer = pickle.load(file)\n",
    "\n",
    "# Export the Standard Scaler\n",
    "with open('standard_scaler.pkl', 'rb') as file:\n",
    "    scl = pickle.load(file)\n",
    "\n",
    "# Export KMeans clustering model\n",
    "with open('kmeans_model.pkl', 'rb') as file:\n",
    "    kmeans = pickle.load(file)\n",
    "\n",
    "# Export Agglomerative clustering model\n",
    "with open('agglomerative_model.pkl', 'rb') as file:\n",
    "    agglomerative = pickle.load(file)\n",
    "    \n",
    "import pickle\n",
    "\n",
    "# Load the pickle file\n",
    "with open('feature_selection_scores.pkl', 'rb') as f:\n",
    "    saved_data = pickle.load(f)\n",
    "\n",
    "# Retrieve F-score, p-values, and MI score\n",
    "F = saved_data['F_score']\n",
    "p = saved_data['p_values']\n",
    "mi = saved_data['mi_score']\n",
    "\n",
    "# Now you can use F_loaded, p_loaded, and mi_loaded as needed\n"
   ]
  },
  {
   "cell_type": "code",
   "execution_count": 27,
   "id": "670eeca8",
   "metadata": {},
   "outputs": [],
   "source": [
    "top_models = []\n",
    "for i in range(1, 4):\n",
    "    file_name = f\"model{i}.pkl\"\n",
    "    with open(file_name, 'rb') as file:\n",
    "        model = pickle.load(file)\n",
    "        top_models.append(model)\n"
   ]
  },
  {
   "cell_type": "code",
   "execution_count": 28,
   "id": "08e82b19",
   "metadata": {},
   "outputs": [
    {
     "data": {
      "text/html": [
       "<style>#sk-container-id-2 {color: black;background-color: white;}#sk-container-id-2 pre{padding: 0;}#sk-container-id-2 div.sk-toggleable {background-color: white;}#sk-container-id-2 label.sk-toggleable__label {cursor: pointer;display: block;width: 100%;margin-bottom: 0;padding: 0.3em;box-sizing: border-box;text-align: center;}#sk-container-id-2 label.sk-toggleable__label-arrow:before {content: \"▸\";float: left;margin-right: 0.25em;color: #696969;}#sk-container-id-2 label.sk-toggleable__label-arrow:hover:before {color: black;}#sk-container-id-2 div.sk-estimator:hover label.sk-toggleable__label-arrow:before {color: black;}#sk-container-id-2 div.sk-toggleable__content {max-height: 0;max-width: 0;overflow: hidden;text-align: left;background-color: #f0f8ff;}#sk-container-id-2 div.sk-toggleable__content pre {margin: 0.2em;color: black;border-radius: 0.25em;background-color: #f0f8ff;}#sk-container-id-2 input.sk-toggleable__control:checked~div.sk-toggleable__content {max-height: 200px;max-width: 100%;overflow: auto;}#sk-container-id-2 input.sk-toggleable__control:checked~label.sk-toggleable__label-arrow:before {content: \"▾\";}#sk-container-id-2 div.sk-estimator input.sk-toggleable__control:checked~label.sk-toggleable__label {background-color: #d4ebff;}#sk-container-id-2 div.sk-label input.sk-toggleable__control:checked~label.sk-toggleable__label {background-color: #d4ebff;}#sk-container-id-2 input.sk-hidden--visually {border: 0;clip: rect(1px 1px 1px 1px);clip: rect(1px, 1px, 1px, 1px);height: 1px;margin: -1px;overflow: hidden;padding: 0;position: absolute;width: 1px;}#sk-container-id-2 div.sk-estimator {font-family: monospace;background-color: #f0f8ff;border: 1px dotted black;border-radius: 0.25em;box-sizing: border-box;margin-bottom: 0.5em;}#sk-container-id-2 div.sk-estimator:hover {background-color: #d4ebff;}#sk-container-id-2 div.sk-parallel-item::after {content: \"\";width: 100%;border-bottom: 1px solid gray;flex-grow: 1;}#sk-container-id-2 div.sk-label:hover label.sk-toggleable__label {background-color: #d4ebff;}#sk-container-id-2 div.sk-serial::before {content: \"\";position: absolute;border-left: 1px solid gray;box-sizing: border-box;top: 0;bottom: 0;left: 50%;z-index: 0;}#sk-container-id-2 div.sk-serial {display: flex;flex-direction: column;align-items: center;background-color: white;padding-right: 0.2em;padding-left: 0.2em;position: relative;}#sk-container-id-2 div.sk-item {position: relative;z-index: 1;}#sk-container-id-2 div.sk-parallel {display: flex;align-items: stretch;justify-content: center;background-color: white;position: relative;}#sk-container-id-2 div.sk-item::before, #sk-container-id-2 div.sk-parallel-item::before {content: \"\";position: absolute;border-left: 1px solid gray;box-sizing: border-box;top: 0;bottom: 0;left: 50%;z-index: -1;}#sk-container-id-2 div.sk-parallel-item {display: flex;flex-direction: column;z-index: 1;position: relative;background-color: white;}#sk-container-id-2 div.sk-parallel-item:first-child::after {align-self: flex-end;width: 50%;}#sk-container-id-2 div.sk-parallel-item:last-child::after {align-self: flex-start;width: 50%;}#sk-container-id-2 div.sk-parallel-item:only-child::after {width: 0;}#sk-container-id-2 div.sk-dashed-wrapped {border: 1px dashed gray;margin: 0 0.4em 0.5em 0.4em;box-sizing: border-box;padding-bottom: 0.4em;background-color: white;}#sk-container-id-2 div.sk-label label {font-family: monospace;font-weight: bold;display: inline-block;line-height: 1.2em;}#sk-container-id-2 div.sk-label-container {text-align: center;}#sk-container-id-2 div.sk-container {/* jupyter's `normalize.less` sets `[hidden] { display: none; }` but bootstrap.min.css set `[hidden] { display: none !important; }` so we also need the `!important` here to be able to override the default hidden behavior on the sphinx rendered scikit-learn.org. See: https://github.com/scikit-learn/scikit-learn/issues/21755 */display: inline-block !important;position: relative;}#sk-container-id-2 div.sk-text-repr-fallback {display: none;}</style><div id=\"sk-container-id-2\" class=\"sk-top-container\"><div class=\"sk-text-repr-fallback\"><pre>GridSearchCV(cv=5, estimator=GradientBoostingClassifier(),\n",
       "             param_grid={&#x27;learning_rate&#x27;: [0.01, 0.1, 1],\n",
       "                         &#x27;max_depth&#x27;: [3, 5, 7],\n",
       "                         &#x27;n_estimators&#x27;: [50, 100, 200]},\n",
       "             scoring=&#x27;f1_weighted&#x27;, verbose=3)</pre><b>In a Jupyter environment, please rerun this cell to show the HTML representation or trust the notebook. <br />On GitHub, the HTML representation is unable to render, please try loading this page with nbviewer.org.</b></div><div class=\"sk-container\" hidden><div class=\"sk-item sk-dashed-wrapped\"><div class=\"sk-label-container\"><div class=\"sk-label sk-toggleable\"><input class=\"sk-toggleable__control sk-hidden--visually\" id=\"sk-estimator-id-4\" type=\"checkbox\" ><label for=\"sk-estimator-id-4\" class=\"sk-toggleable__label sk-toggleable__label-arrow\">GridSearchCV</label><div class=\"sk-toggleable__content\"><pre>GridSearchCV(cv=5, estimator=GradientBoostingClassifier(),\n",
       "             param_grid={&#x27;learning_rate&#x27;: [0.01, 0.1, 1],\n",
       "                         &#x27;max_depth&#x27;: [3, 5, 7],\n",
       "                         &#x27;n_estimators&#x27;: [50, 100, 200]},\n",
       "             scoring=&#x27;f1_weighted&#x27;, verbose=3)</pre></div></div></div><div class=\"sk-parallel\"><div class=\"sk-parallel-item\"><div class=\"sk-item\"><div class=\"sk-label-container\"><div class=\"sk-label sk-toggleable\"><input class=\"sk-toggleable__control sk-hidden--visually\" id=\"sk-estimator-id-5\" type=\"checkbox\" ><label for=\"sk-estimator-id-5\" class=\"sk-toggleable__label sk-toggleable__label-arrow\">estimator: GradientBoostingClassifier</label><div class=\"sk-toggleable__content\"><pre>GradientBoostingClassifier()</pre></div></div></div><div class=\"sk-serial\"><div class=\"sk-item\"><div class=\"sk-estimator sk-toggleable\"><input class=\"sk-toggleable__control sk-hidden--visually\" id=\"sk-estimator-id-6\" type=\"checkbox\" ><label for=\"sk-estimator-id-6\" class=\"sk-toggleable__label sk-toggleable__label-arrow\">GradientBoostingClassifier</label><div class=\"sk-toggleable__content\"><pre>GradientBoostingClassifier()</pre></div></div></div></div></div></div></div></div></div></div>"
      ],
      "text/plain": [
       "GridSearchCV(cv=5, estimator=GradientBoostingClassifier(),\n",
       "             param_grid={'learning_rate': [0.01, 0.1, 1],\n",
       "                         'max_depth': [3, 5, 7],\n",
       "                         'n_estimators': [50, 100, 200]},\n",
       "             scoring='f1_weighted', verbose=3)"
      ]
     },
     "execution_count": 28,
     "metadata": {},
     "output_type": "execute_result"
    }
   ],
   "source": [
    "top_models[0]"
   ]
  },
  {
   "cell_type": "code",
   "execution_count": 29,
   "id": "8e1cb734",
   "metadata": {},
   "outputs": [
    {
     "data": {
      "text/plain": [
       "Depth    False\n",
       "Well     False\n",
       "GR       False\n",
       "RT       False\n",
       "RHOB     False\n",
       "NPHI     False\n",
       "dtype: bool"
      ]
     },
     "execution_count": 29,
     "metadata": {},
     "output_type": "execute_result"
    }
   ],
   "source": [
    "df.isna().any(axis = 0)"
   ]
  },
  {
   "cell_type": "code",
   "execution_count": 30,
   "id": "b9decb63",
   "metadata": {},
   "outputs": [],
   "source": [
    "df['RTOB'] = np.log((df['RT'] * (df['RHOB'])))"
   ]
  },
  {
   "cell_type": "code",
   "execution_count": 31,
   "id": "ba5b08f7",
   "metadata": {},
   "outputs": [],
   "source": [
    "df['RHPI'] = df['RHOB'] - (df['NPHI']**2)\n"
   ]
  },
  {
   "cell_type": "code",
   "execution_count": 32,
   "id": "5497558f",
   "metadata": {},
   "outputs": [],
   "source": [
    "X = df"
   ]
  },
  {
   "cell_type": "code",
   "execution_count": 33,
   "id": "baa6cc4e",
   "metadata": {},
   "outputs": [],
   "source": [
    "cols_to_transform = X.columns"
   ]
  },
  {
   "cell_type": "code",
   "execution_count": null,
   "id": "c221467a",
   "metadata": {},
   "outputs": [],
   "source": []
  },
  {
   "cell_type": "code",
   "execution_count": 34,
   "id": "03c41441",
   "metadata": {},
   "outputs": [],
   "source": [
    "X[cols_to_transform] = quantile_transformer.transform(X[cols_to_transform])"
   ]
  },
  {
   "cell_type": "code",
   "execution_count": 35,
   "id": "038dcb5c",
   "metadata": {},
   "outputs": [
    {
     "data": {
      "text/plain": [
       "pandas.core.frame.DataFrame"
      ]
     },
     "execution_count": 35,
     "metadata": {},
     "output_type": "execute_result"
    }
   ],
   "source": [
    "type(X)"
   ]
  },
  {
   "cell_type": "code",
   "execution_count": 36,
   "id": "c92e4f06",
   "metadata": {},
   "outputs": [],
   "source": [
    "X.drop(to_drop, axis=1, inplace=True)"
   ]
  },
  {
   "cell_type": "code",
   "execution_count": 37,
   "id": "0e732ef8",
   "metadata": {},
   "outputs": [
    {
     "data": {
      "text/plain": [
       "(827, 6)"
      ]
     },
     "execution_count": 37,
     "metadata": {},
     "output_type": "execute_result"
    }
   ],
   "source": [
    "X.shape"
   ]
  },
  {
   "cell_type": "code",
   "execution_count": null,
   "id": "07b58bca",
   "metadata": {},
   "outputs": [],
   "source": []
  },
  {
   "cell_type": "code",
   "execution_count": null,
   "id": "3e3e6a87",
   "metadata": {},
   "outputs": [],
   "source": []
  },
  {
   "cell_type": "code",
   "execution_count": 39,
   "id": "1823ffb5",
   "metadata": {},
   "outputs": [
    {
     "data": {
      "text/plain": [
       "(827, 6)"
      ]
     },
     "execution_count": 39,
     "metadata": {},
     "output_type": "execute_result"
    }
   ],
   "source": [
    "X.shape"
   ]
  },
  {
   "cell_type": "code",
   "execution_count": 40,
   "id": "b8f7f5e7",
   "metadata": {},
   "outputs": [],
   "source": [
    "X = scl.transform(df)"
   ]
  },
  {
   "cell_type": "code",
   "execution_count": 41,
   "id": "40347ebf",
   "metadata": {},
   "outputs": [],
   "source": [
    "X = X[:,(F > 15) | (mi > 0.3)]"
   ]
  },
  {
   "cell_type": "code",
   "execution_count": 42,
   "id": "dd1b9669",
   "metadata": {},
   "outputs": [],
   "source": [
    "kmeans_cluster_labels_test = kmeans.predict(X)"
   ]
  },
  {
   "cell_type": "code",
   "execution_count": 43,
   "id": "fd1c8ce9",
   "metadata": {},
   "outputs": [],
   "source": [
    "agglomerative_cluster_labels_test = agglomerative.fit_predict(X)"
   ]
  },
  {
   "cell_type": "code",
   "execution_count": 44,
   "id": "43e5fa64",
   "metadata": {},
   "outputs": [],
   "source": [
    "X_s_c = np.column_stack((X, kmeans_cluster_labels_test, agglomerative_cluster_labels_test))"
   ]
  },
  {
   "cell_type": "code",
   "execution_count": 45,
   "id": "3fe3d775",
   "metadata": {},
   "outputs": [
    {
     "data": {
      "text/plain": [
       "(827, 7)"
      ]
     },
     "execution_count": 45,
     "metadata": {},
     "output_type": "execute_result"
    }
   ],
   "source": [
    "X_s_c.shape"
   ]
  },
  {
   "cell_type": "code",
   "execution_count": 46,
   "id": "a7446125",
   "metadata": {},
   "outputs": [
    {
     "data": {
      "text/html": [
       "<style>#sk-container-id-3 {color: black;background-color: white;}#sk-container-id-3 pre{padding: 0;}#sk-container-id-3 div.sk-toggleable {background-color: white;}#sk-container-id-3 label.sk-toggleable__label {cursor: pointer;display: block;width: 100%;margin-bottom: 0;padding: 0.3em;box-sizing: border-box;text-align: center;}#sk-container-id-3 label.sk-toggleable__label-arrow:before {content: \"▸\";float: left;margin-right: 0.25em;color: #696969;}#sk-container-id-3 label.sk-toggleable__label-arrow:hover:before {color: black;}#sk-container-id-3 div.sk-estimator:hover label.sk-toggleable__label-arrow:before {color: black;}#sk-container-id-3 div.sk-toggleable__content {max-height: 0;max-width: 0;overflow: hidden;text-align: left;background-color: #f0f8ff;}#sk-container-id-3 div.sk-toggleable__content pre {margin: 0.2em;color: black;border-radius: 0.25em;background-color: #f0f8ff;}#sk-container-id-3 input.sk-toggleable__control:checked~div.sk-toggleable__content {max-height: 200px;max-width: 100%;overflow: auto;}#sk-container-id-3 input.sk-toggleable__control:checked~label.sk-toggleable__label-arrow:before {content: \"▾\";}#sk-container-id-3 div.sk-estimator input.sk-toggleable__control:checked~label.sk-toggleable__label {background-color: #d4ebff;}#sk-container-id-3 div.sk-label input.sk-toggleable__control:checked~label.sk-toggleable__label {background-color: #d4ebff;}#sk-container-id-3 input.sk-hidden--visually {border: 0;clip: rect(1px 1px 1px 1px);clip: rect(1px, 1px, 1px, 1px);height: 1px;margin: -1px;overflow: hidden;padding: 0;position: absolute;width: 1px;}#sk-container-id-3 div.sk-estimator {font-family: monospace;background-color: #f0f8ff;border: 1px dotted black;border-radius: 0.25em;box-sizing: border-box;margin-bottom: 0.5em;}#sk-container-id-3 div.sk-estimator:hover {background-color: #d4ebff;}#sk-container-id-3 div.sk-parallel-item::after {content: \"\";width: 100%;border-bottom: 1px solid gray;flex-grow: 1;}#sk-container-id-3 div.sk-label:hover label.sk-toggleable__label {background-color: #d4ebff;}#sk-container-id-3 div.sk-serial::before {content: \"\";position: absolute;border-left: 1px solid gray;box-sizing: border-box;top: 0;bottom: 0;left: 50%;z-index: 0;}#sk-container-id-3 div.sk-serial {display: flex;flex-direction: column;align-items: center;background-color: white;padding-right: 0.2em;padding-left: 0.2em;position: relative;}#sk-container-id-3 div.sk-item {position: relative;z-index: 1;}#sk-container-id-3 div.sk-parallel {display: flex;align-items: stretch;justify-content: center;background-color: white;position: relative;}#sk-container-id-3 div.sk-item::before, #sk-container-id-3 div.sk-parallel-item::before {content: \"\";position: absolute;border-left: 1px solid gray;box-sizing: border-box;top: 0;bottom: 0;left: 50%;z-index: -1;}#sk-container-id-3 div.sk-parallel-item {display: flex;flex-direction: column;z-index: 1;position: relative;background-color: white;}#sk-container-id-3 div.sk-parallel-item:first-child::after {align-self: flex-end;width: 50%;}#sk-container-id-3 div.sk-parallel-item:last-child::after {align-self: flex-start;width: 50%;}#sk-container-id-3 div.sk-parallel-item:only-child::after {width: 0;}#sk-container-id-3 div.sk-dashed-wrapped {border: 1px dashed gray;margin: 0 0.4em 0.5em 0.4em;box-sizing: border-box;padding-bottom: 0.4em;background-color: white;}#sk-container-id-3 div.sk-label label {font-family: monospace;font-weight: bold;display: inline-block;line-height: 1.2em;}#sk-container-id-3 div.sk-label-container {text-align: center;}#sk-container-id-3 div.sk-container {/* jupyter's `normalize.less` sets `[hidden] { display: none; }` but bootstrap.min.css set `[hidden] { display: none !important; }` so we also need the `!important` here to be able to override the default hidden behavior on the sphinx rendered scikit-learn.org. See: https://github.com/scikit-learn/scikit-learn/issues/21755 */display: inline-block !important;position: relative;}#sk-container-id-3 div.sk-text-repr-fallback {display: none;}</style><div id=\"sk-container-id-3\" class=\"sk-top-container\"><div class=\"sk-text-repr-fallback\"><pre>GridSearchCV(cv=5, estimator=GradientBoostingClassifier(),\n",
       "             param_grid={&#x27;learning_rate&#x27;: [0.01, 0.1, 1],\n",
       "                         &#x27;max_depth&#x27;: [3, 5, 7],\n",
       "                         &#x27;n_estimators&#x27;: [50, 100, 200]},\n",
       "             scoring=&#x27;f1_weighted&#x27;, verbose=3)</pre><b>In a Jupyter environment, please rerun this cell to show the HTML representation or trust the notebook. <br />On GitHub, the HTML representation is unable to render, please try loading this page with nbviewer.org.</b></div><div class=\"sk-container\" hidden><div class=\"sk-item sk-dashed-wrapped\"><div class=\"sk-label-container\"><div class=\"sk-label sk-toggleable\"><input class=\"sk-toggleable__control sk-hidden--visually\" id=\"sk-estimator-id-7\" type=\"checkbox\" ><label for=\"sk-estimator-id-7\" class=\"sk-toggleable__label sk-toggleable__label-arrow\">GridSearchCV</label><div class=\"sk-toggleable__content\"><pre>GridSearchCV(cv=5, estimator=GradientBoostingClassifier(),\n",
       "             param_grid={&#x27;learning_rate&#x27;: [0.01, 0.1, 1],\n",
       "                         &#x27;max_depth&#x27;: [3, 5, 7],\n",
       "                         &#x27;n_estimators&#x27;: [50, 100, 200]},\n",
       "             scoring=&#x27;f1_weighted&#x27;, verbose=3)</pre></div></div></div><div class=\"sk-parallel\"><div class=\"sk-parallel-item\"><div class=\"sk-item\"><div class=\"sk-label-container\"><div class=\"sk-label sk-toggleable\"><input class=\"sk-toggleable__control sk-hidden--visually\" id=\"sk-estimator-id-8\" type=\"checkbox\" ><label for=\"sk-estimator-id-8\" class=\"sk-toggleable__label sk-toggleable__label-arrow\">estimator: GradientBoostingClassifier</label><div class=\"sk-toggleable__content\"><pre>GradientBoostingClassifier()</pre></div></div></div><div class=\"sk-serial\"><div class=\"sk-item\"><div class=\"sk-estimator sk-toggleable\"><input class=\"sk-toggleable__control sk-hidden--visually\" id=\"sk-estimator-id-9\" type=\"checkbox\" ><label for=\"sk-estimator-id-9\" class=\"sk-toggleable__label sk-toggleable__label-arrow\">GradientBoostingClassifier</label><div class=\"sk-toggleable__content\"><pre>GradientBoostingClassifier()</pre></div></div></div></div></div></div></div></div></div></div>"
      ],
      "text/plain": [
       "GridSearchCV(cv=5, estimator=GradientBoostingClassifier(),\n",
       "             param_grid={'learning_rate': [0.01, 0.1, 1],\n",
       "                         'max_depth': [3, 5, 7],\n",
       "                         'n_estimators': [50, 100, 200]},\n",
       "             scoring='f1_weighted', verbose=3)"
      ]
     },
     "execution_count": 46,
     "metadata": {},
     "output_type": "execute_result"
    }
   ],
   "source": [
    "top_models[0]"
   ]
  },
  {
   "cell_type": "code",
   "execution_count": 48,
   "id": "72492162",
   "metadata": {},
   "outputs": [],
   "source": [
    "facies1 = top_models[0].predict(X_s_c)"
   ]
  },
  {
   "cell_type": "code",
   "execution_count": 50,
   "id": "fac7706a",
   "metadata": {},
   "outputs": [],
   "source": [
    "facies2 = top_models[1].predict(X_s_c)"
   ]
  },
  {
   "cell_type": "code",
   "execution_count": 51,
   "id": "b4d797b8",
   "metadata": {},
   "outputs": [],
   "source": [
    "facies3 = top_models[2].predict(X_s_c)"
   ]
  },
  {
   "cell_type": "markdown",
   "id": "524ccd89",
   "metadata": {},
   "source": [
    "### Plot the variations in predictions of the 3 top performing models on Well 1 as a function of depth"
   ]
  },
  {
   "cell_type": "code",
   "execution_count": 56,
   "id": "f3fd764e",
   "metadata": {},
   "outputs": [
    {
     "data": {
      "image/png": "[encoded data removed]",
      "text/plain": [
       "<Figure size 1000x600 with 1 Axes>"
      ]
     },
     "metadata": {},
     "output_type": "display_data"
    }
   ],
   "source": [
    "import matplotlib.pyplot as plt\n",
    "\n",
    "# Extract depth values\n",
    "depth_values = df['Depth']\n",
    "\n",
    "# Plot predictions of the three models\n",
    "plt.figure(figsize=(10, 6))\n",
    "\n",
    "plt.plot(depth_values, facies1, label='Model 1 Predictions')\n",
    "plt.plot(depth_values, facies2, label='Model 2 Predictions')\n",
    "plt.plot(depth_values, facies3, label='Model 3 Predictions')\n",
    "\n",
    "plt.xlabel('Depth')\n",
    "plt.ylabel('Facies Predictions')\n",
    "plt.title('Predictions of Top Performing Models on Well 1')\n",
    "plt.legend()\n",
    "plt.grid(True)\n",
    "\n",
    "plt.show()\n"
   ]
  },
  {
   "cell_type": "markdown",
   "id": "9abacd73",
   "metadata": {},
   "source": [
    "### Export the predictions of the 3 top-performing models for Well 1 along with depth and GR log to a separate XLS file (Prediction.xlsx)."
   ]
  },
  {
   "cell_type": "code",
   "execution_count": 58,
   "id": "7fd0f05a",
   "metadata": {},
   "outputs": [],
   "source": [
    "import pandas as pd\n",
    "\n",
    "# Map numerical predictions back to original labels\n",
    "facies_mapping = {0: 'CB', 1: 'SH', 2: 'SS', 3: 'UN'}\n",
    "\n",
    "# Map numerical predictions to original labels\n",
    "facies1_labels = [facies_mapping[pred] for pred in facies1]\n",
    "facies2_labels = [facies_mapping[pred] for pred in facies2]\n",
    "facies3_labels = [facies_mapping[pred] for pred in facies3]\n",
    "\n",
    "# Create a DataFrame to store the predictions along with depth and GR log\n",
    "predictions_df = pd.DataFrame({\n",
    "    'Depth': depth_values,\n",
    "    'GR': df['GR'],\n",
    "    'Model 1 Predictions': facies1_labels,\n",
    "    'Model 2 Predictions': facies2_labels,\n",
    "    'Model 3 Predictions': facies3_labels\n",
    "})\n",
    "\n",
    "# Save the DataFrame to an Excel file\n",
    "predictions_df.to_excel('Prediction.xlsx', index=False)\n"
   ]
  },
  {
   "cell_type": "markdown",
   "id": "d3685a32",
   "metadata": {},
   "source": [
    "### END"
   ]
  }
 ],
 "metadata": {
  "kernelspec": {
   "display_name": "Python 3 (ipykernel)",
   "language": "python",
   "name": "python3"
  },
  "language_info": {
   "codemirror_mode": {
    "name": "ipython",
    "version": 3
   },
   "file_extension": ".py",
   "mimetype": "text/x-python",
   "name": "python",
   "nbconvert_exporter": "python",
   "pygments_lexer": "ipython3",
   "version": "3.10.10"
  }
 },
 "nbformat": 4,
 "nbformat_minor": 5
}
