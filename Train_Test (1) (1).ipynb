{
 "cells": [
  {
   "cell_type": "markdown",
   "id": "e89bc756",
   "metadata": {},
   "source": [
    "# Name:\n",
    "## Kala Sri Naga Sai Gopala Krishna\n"
   ]
  },
  {
   "cell_type": "markdown",
   "id": "424cf040",
   "metadata": {},
   "source": [
    "# Read the Data"
   ]
  },
  {
   "cell_type": "code",
   "execution_count": 1,
   "id": "c629638e",
   "metadata": {},
   "outputs": [],
   "source": [
    "import pandas as pd\n",
    "import numpy as np"
   ]
  },
  {
   "cell_type": "code",
   "execution_count": 2,
   "id": "09bee296",
   "metadata": {},
   "outputs": [],
   "source": [
    "df1 = pd.read_excel('Volve.xlsx', sheet_name = 'well 2')"
   ]
  },
  {
   "cell_type": "code",
   "execution_count": 3,
   "id": "12190af0",
   "metadata": {},
   "outputs": [],
   "source": [
    "df2 = pd.read_excel('Volve.xlsx', sheet_name = 'well 3')"
   ]
  },
  {
   "cell_type": "code",
   "execution_count": 4,
   "id": "a17458f8",
   "metadata": {},
   "outputs": [],
   "source": [
    "df = pd.concat([df1, df2], axis=0)"
   ]
  },
  {
   "cell_type": "code",
   "execution_count": 5,
   "id": "5b45677a",
   "metadata": {},
   "outputs": [
    {
     "data": {
      "text/html": [
       "<div>\n",
       "<style scoped>\n",
       "    .dataframe tbody tr th:only-of-type {\n",
       "        vertical-align: middle;\n",
       "    }\n",
       "\n",
       "    .dataframe tbody tr th {\n",
       "        vertical-align: top;\n",
       "    }\n",
       "\n",
       "    .dataframe thead th {\n",
       "        text-align: right;\n",
       "    }\n",
       "</style>\n",
       "<table border=\"1\" class=\"dataframe\">\n",
       "  <thead>\n",
       "    <tr style=\"text-align: right;\">\n",
       "      <th></th>\n",
       "      <th>Depth</th>\n",
       "      <th>Well</th>\n",
       "      <th>GR</th>\n",
       "      <th>RT</th>\n",
       "      <th>RHOB</th>\n",
       "      <th>NPHI</th>\n",
       "      <th>Facies</th>\n",
       "    </tr>\n",
       "  </thead>\n",
       "  <tbody>\n",
       "    <tr>\n",
       "      <th>0</th>\n",
       "      <td>3178.5</td>\n",
       "      <td>14</td>\n",
       "      <td>50.2190</td>\n",
       "      <td>0.5888</td>\n",
       "      <td>2.3296</td>\n",
       "      <td>0.3657</td>\n",
       "      <td>SH</td>\n",
       "    </tr>\n",
       "    <tr>\n",
       "      <th>1</th>\n",
       "      <td>3179.0</td>\n",
       "      <td>14</td>\n",
       "      <td>47.2468</td>\n",
       "      <td>0.7768</td>\n",
       "      <td>2.3170</td>\n",
       "      <td>0.3776</td>\n",
       "      <td>UN</td>\n",
       "    </tr>\n",
       "    <tr>\n",
       "      <th>2</th>\n",
       "      <td>3179.5</td>\n",
       "      <td>14</td>\n",
       "      <td>49.5247</td>\n",
       "      <td>1.0707</td>\n",
       "      <td>2.2960</td>\n",
       "      <td>0.5390</td>\n",
       "      <td>SH</td>\n",
       "    </tr>\n",
       "    <tr>\n",
       "      <th>3</th>\n",
       "      <td>3180.0</td>\n",
       "      <td>14</td>\n",
       "      <td>44.9124</td>\n",
       "      <td>1.4460</td>\n",
       "      <td>2.2514</td>\n",
       "      <td>0.5482</td>\n",
       "      <td>UN</td>\n",
       "    </tr>\n",
       "    <tr>\n",
       "      <th>4</th>\n",
       "      <td>3180.5</td>\n",
       "      <td>14</td>\n",
       "      <td>47.0048</td>\n",
       "      <td>0.9542</td>\n",
       "      <td>2.2733</td>\n",
       "      <td>0.5076</td>\n",
       "      <td>UN</td>\n",
       "    </tr>\n",
       "  </tbody>\n",
       "</table>\n",
       "</div>"
      ],
      "text/plain": [
       "    Depth  Well       GR      RT    RHOB    NPHI Facies\n",
       "0  3178.5    14  50.2190  0.5888  2.3296  0.3657     SH\n",
       "1  3179.0    14  47.2468  0.7768  2.3170  0.3776     UN\n",
       "2  3179.5    14  49.5247  1.0707  2.2960  0.5390     SH\n",
       "3  3180.0    14  44.9124  1.4460  2.2514  0.5482     UN\n",
       "4  3180.5    14  47.0048  0.9542  2.2733  0.5076     UN"
      ]
     },
     "execution_count": 5,
     "metadata": {},
     "output_type": "execute_result"
    }
   ],
   "source": [
    "df.head()"
   ]
  },
  {
   "cell_type": "code",
   "execution_count": 6,
   "id": "1935510f",
   "metadata": {},
   "outputs": [
    {
     "data": {
      "text/html": [
       "<div>\n",
       "<style scoped>\n",
       "    .dataframe tbody tr th:only-of-type {\n",
       "        vertical-align: middle;\n",
       "    }\n",
       "\n",
       "    .dataframe tbody tr th {\n",
       "        vertical-align: top;\n",
       "    }\n",
       "\n",
       "    .dataframe thead th {\n",
       "        text-align: right;\n",
       "    }\n",
       "</style>\n",
       "<table border=\"1\" class=\"dataframe\">\n",
       "  <thead>\n",
       "    <tr style=\"text-align: right;\">\n",
       "      <th></th>\n",
       "      <th>Depth</th>\n",
       "      <th>Well</th>\n",
       "      <th>GR</th>\n",
       "      <th>RT</th>\n",
       "      <th>RHOB</th>\n",
       "      <th>NPHI</th>\n",
       "      <th>Facies</th>\n",
       "    </tr>\n",
       "  </thead>\n",
       "  <tbody>\n",
       "    <tr>\n",
       "      <th>0</th>\n",
       "      <td>3178.5</td>\n",
       "      <td>14</td>\n",
       "      <td>50.2190</td>\n",
       "      <td>0.5888</td>\n",
       "      <td>2.3296</td>\n",
       "      <td>0.3657</td>\n",
       "      <td>SH</td>\n",
       "    </tr>\n",
       "    <tr>\n",
       "      <th>1</th>\n",
       "      <td>3179.0</td>\n",
       "      <td>14</td>\n",
       "      <td>47.2468</td>\n",
       "      <td>0.7768</td>\n",
       "      <td>2.3170</td>\n",
       "      <td>0.3776</td>\n",
       "      <td>UN</td>\n",
       "    </tr>\n",
       "    <tr>\n",
       "      <th>2</th>\n",
       "      <td>3179.5</td>\n",
       "      <td>14</td>\n",
       "      <td>49.5247</td>\n",
       "      <td>1.0707</td>\n",
       "      <td>2.2960</td>\n",
       "      <td>0.5390</td>\n",
       "      <td>SH</td>\n",
       "    </tr>\n",
       "    <tr>\n",
       "      <th>3</th>\n",
       "      <td>3180.0</td>\n",
       "      <td>14</td>\n",
       "      <td>44.9124</td>\n",
       "      <td>1.4460</td>\n",
       "      <td>2.2514</td>\n",
       "      <td>0.5482</td>\n",
       "      <td>UN</td>\n",
       "    </tr>\n",
       "    <tr>\n",
       "      <th>4</th>\n",
       "      <td>3180.5</td>\n",
       "      <td>14</td>\n",
       "      <td>47.0048</td>\n",
       "      <td>0.9542</td>\n",
       "      <td>2.2733</td>\n",
       "      <td>0.5076</td>\n",
       "      <td>UN</td>\n",
       "    </tr>\n",
       "    <tr>\n",
       "      <th>...</th>\n",
       "      <td>...</td>\n",
       "      <td>...</td>\n",
       "      <td>...</td>\n",
       "      <td>...</td>\n",
       "      <td>...</td>\n",
       "      <td>...</td>\n",
       "      <td>...</td>\n",
       "    </tr>\n",
       "    <tr>\n",
       "      <th>1154</th>\n",
       "      <td>4083.5</td>\n",
       "      <td>15</td>\n",
       "      <td>59.7060</td>\n",
       "      <td>1.7590</td>\n",
       "      <td>2.4851</td>\n",
       "      <td>0.1416</td>\n",
       "      <td>CB</td>\n",
       "    </tr>\n",
       "    <tr>\n",
       "      <th>1155</th>\n",
       "      <td>4084.0</td>\n",
       "      <td>15</td>\n",
       "      <td>58.4170</td>\n",
       "      <td>1.6510</td>\n",
       "      <td>2.4860</td>\n",
       "      <td>0.1416</td>\n",
       "      <td>CB</td>\n",
       "    </tr>\n",
       "    <tr>\n",
       "      <th>1156</th>\n",
       "      <td>4084.5</td>\n",
       "      <td>15</td>\n",
       "      <td>57.4990</td>\n",
       "      <td>1.5970</td>\n",
       "      <td>2.5311</td>\n",
       "      <td>0.1527</td>\n",
       "      <td>CB</td>\n",
       "    </tr>\n",
       "    <tr>\n",
       "      <th>1157</th>\n",
       "      <td>4085.0</td>\n",
       "      <td>15</td>\n",
       "      <td>56.7850</td>\n",
       "      <td>1.4820</td>\n",
       "      <td>2.4731</td>\n",
       "      <td>0.1785</td>\n",
       "      <td>CB</td>\n",
       "    </tr>\n",
       "    <tr>\n",
       "      <th>1158</th>\n",
       "      <td>4085.5</td>\n",
       "      <td>15</td>\n",
       "      <td>61.7220</td>\n",
       "      <td>1.4350</td>\n",
       "      <td>2.4920</td>\n",
       "      <td>0.1566</td>\n",
       "      <td>CB</td>\n",
       "    </tr>\n",
       "  </tbody>\n",
       "</table>\n",
       "<p>3241 rows × 7 columns</p>\n",
       "</div>"
      ],
      "text/plain": [
       "       Depth  Well       GR      RT    RHOB    NPHI Facies\n",
       "0     3178.5    14  50.2190  0.5888  2.3296  0.3657     SH\n",
       "1     3179.0    14  47.2468  0.7768  2.3170  0.3776     UN\n",
       "2     3179.5    14  49.5247  1.0707  2.2960  0.5390     SH\n",
       "3     3180.0    14  44.9124  1.4460  2.2514  0.5482     UN\n",
       "4     3180.5    14  47.0048  0.9542  2.2733  0.5076     UN\n",
       "...      ...   ...      ...     ...     ...     ...    ...\n",
       "1154  4083.5    15  59.7060  1.7590  2.4851  0.1416     CB\n",
       "1155  4084.0    15  58.4170  1.6510  2.4860  0.1416     CB\n",
       "1156  4084.5    15  57.4990  1.5970  2.5311  0.1527     CB\n",
       "1157  4085.0    15  56.7850  1.4820  2.4731  0.1785     CB\n",
       "1158  4085.5    15  61.7220  1.4350  2.4920  0.1566     CB\n",
       "\n",
       "[3241 rows x 7 columns]"
      ]
     },
     "execution_count": 6,
     "metadata": {},
     "output_type": "execute_result"
    }
   ],
   "source": [
    "df"
   ]
  },
  {
   "cell_type": "code",
   "execution_count": 7,
   "id": "61b9ab8b",
   "metadata": {},
   "outputs": [
    {
     "data": {
      "text/html": [
       "<div>\n",
       "<style scoped>\n",
       "    .dataframe tbody tr th:only-of-type {\n",
       "        vertical-align: middle;\n",
       "    }\n",
       "\n",
       "    .dataframe tbody tr th {\n",
       "        vertical-align: top;\n",
       "    }\n",
       "\n",
       "    .dataframe thead th {\n",
       "        text-align: right;\n",
       "    }\n",
       "</style>\n",
       "<table border=\"1\" class=\"dataframe\">\n",
       "  <thead>\n",
       "    <tr style=\"text-align: right;\">\n",
       "      <th></th>\n",
       "      <th>Depth</th>\n",
       "      <th>Well</th>\n",
       "      <th>GR</th>\n",
       "      <th>RT</th>\n",
       "      <th>RHOB</th>\n",
       "      <th>NPHI</th>\n",
       "    </tr>\n",
       "  </thead>\n",
       "  <tbody>\n",
       "    <tr>\n",
       "      <th>count</th>\n",
       "      <td>3241.000000</td>\n",
       "      <td>3241.000000</td>\n",
       "      <td>3241.000000</td>\n",
       "      <td>3241.000000</td>\n",
       "      <td>3241.000000</td>\n",
       "      <td>3241.000000</td>\n",
       "    </tr>\n",
       "    <tr>\n",
       "      <th>mean</th>\n",
       "      <td>3733.609380</td>\n",
       "      <td>14.357606</td>\n",
       "      <td>51.379917</td>\n",
       "      <td>4.292569</td>\n",
       "      <td>2.432688</td>\n",
       "      <td>0.207456</td>\n",
       "    </tr>\n",
       "    <tr>\n",
       "      <th>std</th>\n",
       "      <td>265.253354</td>\n",
       "      <td>0.479369</td>\n",
       "      <td>57.700965</td>\n",
       "      <td>14.524740</td>\n",
       "      <td>0.147662</td>\n",
       "      <td>0.104241</td>\n",
       "    </tr>\n",
       "    <tr>\n",
       "      <th>min</th>\n",
       "      <td>3178.500000</td>\n",
       "      <td>14.000000</td>\n",
       "      <td>3.655000</td>\n",
       "      <td>0.094000</td>\n",
       "      <td>1.805100</td>\n",
       "      <td>0.013500</td>\n",
       "    </tr>\n",
       "    <tr>\n",
       "      <th>25%</th>\n",
       "      <td>3542.000000</td>\n",
       "      <td>14.000000</td>\n",
       "      <td>17.433000</td>\n",
       "      <td>1.014000</td>\n",
       "      <td>2.311000</td>\n",
       "      <td>0.133600</td>\n",
       "    </tr>\n",
       "    <tr>\n",
       "      <th>50%</th>\n",
       "      <td>3747.500000</td>\n",
       "      <td>14.000000</td>\n",
       "      <td>34.083600</td>\n",
       "      <td>1.864900</td>\n",
       "      <td>2.459000</td>\n",
       "      <td>0.187900</td>\n",
       "    </tr>\n",
       "    <tr>\n",
       "      <th>75%</th>\n",
       "      <td>3950.500000</td>\n",
       "      <td>15.000000</td>\n",
       "      <td>71.846000</td>\n",
       "      <td>3.697700</td>\n",
       "      <td>2.550000</td>\n",
       "      <td>0.267500</td>\n",
       "    </tr>\n",
       "    <tr>\n",
       "      <th>max</th>\n",
       "      <td>4220.500000</td>\n",
       "      <td>15.000000</td>\n",
       "      <td>1567.590000</td>\n",
       "      <td>461.170000</td>\n",
       "      <td>3.149300</td>\n",
       "      <td>0.853200</td>\n",
       "    </tr>\n",
       "  </tbody>\n",
       "</table>\n",
       "</div>"
      ],
      "text/plain": [
       "             Depth         Well           GR           RT         RHOB  \\\n",
       "count  3241.000000  3241.000000  3241.000000  3241.000000  3241.000000   \n",
       "mean   3733.609380    14.357606    51.379917     4.292569     2.432688   \n",
       "std     265.253354     0.479369    57.700965    14.524740     0.147662   \n",
       "min    3178.500000    14.000000     3.655000     0.094000     1.805100   \n",
       "25%    3542.000000    14.000000    17.433000     1.014000     2.311000   \n",
       "50%    3747.500000    14.000000    34.083600     1.864900     2.459000   \n",
       "75%    3950.500000    15.000000    71.846000     3.697700     2.550000   \n",
       "max    4220.500000    15.000000  1567.590000   461.170000     3.149300   \n",
       "\n",
       "              NPHI  \n",
       "count  3241.000000  \n",
       "mean      0.207456  \n",
       "std       0.104241  \n",
       "min       0.013500  \n",
       "25%       0.133600  \n",
       "50%       0.187900  \n",
       "75%       0.267500  \n",
       "max       0.853200  "
      ]
     },
     "execution_count": 7,
     "metadata": {},
     "output_type": "execute_result"
    }
   ],
   "source": [
    "df.describe()"
   ]
  },
  {
   "cell_type": "code",
   "execution_count": 8,
   "id": "605a9e95",
   "metadata": {},
   "outputs": [
    {
     "data": {
      "text/plain": [
       "Depth     False\n",
       "Well      False\n",
       "GR        False\n",
       "RT        False\n",
       "RHOB      False\n",
       "NPHI      False\n",
       "Facies    False\n",
       "dtype: bool"
      ]
     },
     "execution_count": 8,
     "metadata": {},
     "output_type": "execute_result"
    }
   ],
   "source": [
    "df.isna().any(axis = 0)"
   ]
  },
  {
   "cell_type": "markdown",
   "id": "0575514d",
   "metadata": {},
   "source": [
    "# There are no Null Values in the Dataset\n",
    "# Encoding the target"
   ]
  },
  {
   "cell_type": "code",
   "execution_count": 9,
   "id": "bff19bd8",
   "metadata": {},
   "outputs": [],
   "source": [
    "from sklearn.preprocessing import LabelEncoder\n",
    "label_encoder=LabelEncoder()\n",
    "df['Facies']=label_encoder.fit_transform(df['Facies'])"
   ]
  },
  {
   "cell_type": "code",
   "execution_count": 129,
   "id": "563711ca",
   "metadata": {},
   "outputs": [
    {
     "name": "stdout",
     "output_type": "stream",
     "text": [
      "{'CB': 0, 'SH': 1, 'SS': 2, 'UN': 3}\n"
     ]
    }
   ],
   "source": [
    "label_mapping = dict(zip(label_encoder.classes_, label_encoder.transform(label_encoder.classes_)))\n",
    "\n",
    "# Print the label mapping\n",
    "print(label_mapping)"
   ]
  },
  {
   "cell_type": "code",
   "execution_count": 127,
   "id": "85edc1fe",
   "metadata": {},
   "outputs": [
    {
     "data": {
      "text/plain": [
       "Index(['Depth', 'Well', 'GR', 'RT', 'RHOB', 'NPHI', 'Facies', 'RTOB', 'RHPI'], dtype='object')"
      ]
     },
     "execution_count": 127,
     "metadata": {},
     "output_type": "execute_result"
    }
   ],
   "source": [
    "df.columns"
   ]
  },
  {
   "cell_type": "code",
   "execution_count": null,
   "id": "dba9419a",
   "metadata": {},
   "outputs": [],
   "source": []
  },
  {
   "cell_type": "code",
   "execution_count": 128,
   "id": "2cf0744e",
   "metadata": {},
   "outputs": [
    {
     "data": {
      "text/html": [
       "<div>\n",
       "<style scoped>\n",
       "    .dataframe tbody tr th:only-of-type {\n",
       "        vertical-align: middle;\n",
       "    }\n",
       "\n",
       "    .dataframe tbody tr th {\n",
       "        vertical-align: top;\n",
       "    }\n",
       "\n",
       "    .dataframe thead th {\n",
       "        text-align: right;\n",
       "    }\n",
       "</style>\n",
       "<table border=\"1\" class=\"dataframe\">\n",
       "  <thead>\n",
       "    <tr style=\"text-align: right;\">\n",
       "      <th></th>\n",
       "      <th>Depth</th>\n",
       "      <th>Well</th>\n",
       "      <th>GR</th>\n",
       "      <th>RT</th>\n",
       "      <th>RHOB</th>\n",
       "      <th>NPHI</th>\n",
       "      <th>Facies</th>\n",
       "      <th>RTOB</th>\n",
       "      <th>RHPI</th>\n",
       "    </tr>\n",
       "  </thead>\n",
       "  <tbody>\n",
       "    <tr>\n",
       "      <th>0</th>\n",
       "      <td>3178.5</td>\n",
       "      <td>14</td>\n",
       "      <td>50.2190</td>\n",
       "      <td>0.5888</td>\n",
       "      <td>2.3296</td>\n",
       "      <td>0.3657</td>\n",
       "      <td>1</td>\n",
       "      <td>0.316028</td>\n",
       "      <td>2.195864</td>\n",
       "    </tr>\n",
       "    <tr>\n",
       "      <th>1</th>\n",
       "      <td>3179.0</td>\n",
       "      <td>14</td>\n",
       "      <td>47.2468</td>\n",
       "      <td>0.7768</td>\n",
       "      <td>2.3170</td>\n",
       "      <td>0.3776</td>\n",
       "      <td>3</td>\n",
       "      <td>0.587701</td>\n",
       "      <td>2.174418</td>\n",
       "    </tr>\n",
       "    <tr>\n",
       "      <th>2</th>\n",
       "      <td>3179.5</td>\n",
       "      <td>14</td>\n",
       "      <td>49.5247</td>\n",
       "      <td>1.0707</td>\n",
       "      <td>2.2960</td>\n",
       "      <td>0.5390</td>\n",
       "      <td>1</td>\n",
       "      <td>0.899481</td>\n",
       "      <td>2.005479</td>\n",
       "    </tr>\n",
       "    <tr>\n",
       "      <th>4</th>\n",
       "      <td>3180.5</td>\n",
       "      <td>14</td>\n",
       "      <td>47.0048</td>\n",
       "      <td>0.9542</td>\n",
       "      <td>2.2733</td>\n",
       "      <td>0.5076</td>\n",
       "      <td>3</td>\n",
       "      <td>0.774351</td>\n",
       "      <td>2.015642</td>\n",
       "    </tr>\n",
       "    <tr>\n",
       "      <th>5</th>\n",
       "      <td>3181.0</td>\n",
       "      <td>14</td>\n",
       "      <td>49.0612</td>\n",
       "      <td>0.5514</td>\n",
       "      <td>2.2463</td>\n",
       "      <td>0.4549</td>\n",
       "      <td>1</td>\n",
       "      <td>0.213990</td>\n",
       "      <td>2.039366</td>\n",
       "    </tr>\n",
       "  </tbody>\n",
       "</table>\n",
       "</div>"
      ],
      "text/plain": [
       "    Depth  Well       GR      RT    RHOB    NPHI  Facies      RTOB      RHPI\n",
       "0  3178.5    14  50.2190  0.5888  2.3296  0.3657       1  0.316028  2.195864\n",
       "1  3179.0    14  47.2468  0.7768  2.3170  0.3776       3  0.587701  2.174418\n",
       "2  3179.5    14  49.5247  1.0707  2.2960  0.5390       1  0.899481  2.005479\n",
       "4  3180.5    14  47.0048  0.9542  2.2733  0.5076       3  0.774351  2.015642\n",
       "5  3181.0    14  49.0612  0.5514  2.2463  0.4549       1  0.213990  2.039366"
      ]
     },
     "execution_count": 128,
     "metadata": {},
     "output_type": "execute_result"
    }
   ],
   "source": [
    "df.head()"
   ]
  },
  {
   "cell_type": "code",
   "execution_count": 12,
   "id": "f3960061",
   "metadata": {},
   "outputs": [
    {
     "data": {
      "image/png": "[encoded data removed]",
      "text/plain": [
       "<Figure size 900x600 with 1 Axes>"
      ]
     },
     "metadata": {},
     "output_type": "display_data"
    },
    {
     "data": {
      "image/png": "[encoded data removed]",
      "text/plain": [
       "<Figure size 900x600 with 1 Axes>"
      ]
     },
     "metadata": {},
     "output_type": "display_data"
    },
    {
     "data": {
      "image/png": "[encoded data removed]",
      "text/plain": [
       "<Figure size 900x600 with 1 Axes>"
      ]
     },
     "metadata": {},
     "output_type": "display_data"
    },
    {
     "data": {
      "image/png": "[encoded data removed]",
      "text/plain": [
       "<Figure size 900x600 with 1 Axes>"
      ]
     },
     "metadata": {},
     "output_type": "display_data"
    },
    {
     "data": {
      "image/png": "[encoded data removed]",
      "text/plain": [
       "<Figure size 900x600 with 1 Axes>"
      ]
     },
     "metadata": {},
     "output_type": "display_data"
    },
    {
     "data": {
      "image/png": "[encoded data removed]",
      "text/plain": [
       "<Figure size 900x600 with 1 Axes>"
      ]
     },
     "metadata": {},
     "output_type": "display_data"
    },
    {
     "data": {
      "image/png": "[encoded data removed]",
      "text/plain": [
       "<Figure size 900x600 with 1 Axes>"
      ]
     },
     "metadata": {},
     "output_type": "display_data"
    }
   ],
   "source": [
    "import matplotlib.pyplot as plt\n",
    "import seaborn as sns\n",
    "\n",
    "for column in df.columns:\n",
    "    plt.figure(figsize=(9, 6))\n",
    "    #sns.histplot(df[column], kde=True)\n",
    "    df[column].hist(edgecolor='black')\n",
    "    plt.title(column)\n",
    "    plt.show()"
   ]
  },
  {
   "cell_type": "code",
   "execution_count": 13,
   "id": "ae18102e",
   "metadata": {},
   "outputs": [],
   "source": [
    "#df['GR'] = np.log(df['GR'])\n",
    "#df['RT'] = np.log(df['RT'])\n",
    "#df['NPHI'] = np.log(df['NPHI'])\n"
   ]
  },
  {
   "cell_type": "markdown",
   "id": "03782032",
   "metadata": {},
   "source": [
    "# Creating 2 new features"
   ]
  },
  {
   "cell_type": "code",
   "execution_count": 15,
   "id": "48a03e3e",
   "metadata": {},
   "outputs": [],
   "source": [
    "df['RTOB'] = np.log((df['RT'] * (df['RHOB'])))\n"
   ]
  },
  {
   "cell_type": "code",
   "execution_count": 16,
   "id": "182b24de",
   "metadata": {},
   "outputs": [],
   "source": [
    "df['RHPI'] = df['RHOB'] - (df['NPHI']**2)\n",
    "\n",
    "\n"
   ]
  },
  {
   "cell_type": "code",
   "execution_count": 17,
   "id": "699aff2c",
   "metadata": {},
   "outputs": [
    {
     "data": {
      "text/html": [
       "<div>\n",
       "<style scoped>\n",
       "    .dataframe tbody tr th:only-of-type {\n",
       "        vertical-align: middle;\n",
       "    }\n",
       "\n",
       "    .dataframe tbody tr th {\n",
       "        vertical-align: top;\n",
       "    }\n",
       "\n",
       "    .dataframe thead th {\n",
       "        text-align: right;\n",
       "    }\n",
       "</style>\n",
       "<table border=\"1\" class=\"dataframe\">\n",
       "  <thead>\n",
       "    <tr style=\"text-align: right;\">\n",
       "      <th></th>\n",
       "      <th>Depth</th>\n",
       "      <th>Well</th>\n",
       "      <th>GR</th>\n",
       "      <th>RT</th>\n",
       "      <th>RHOB</th>\n",
       "      <th>NPHI</th>\n",
       "      <th>Facies</th>\n",
       "      <th>RTOB</th>\n",
       "      <th>RHPI</th>\n",
       "    </tr>\n",
       "  </thead>\n",
       "  <tbody>\n",
       "    <tr>\n",
       "      <th>0</th>\n",
       "      <td>3178.5</td>\n",
       "      <td>14</td>\n",
       "      <td>50.2190</td>\n",
       "      <td>0.5888</td>\n",
       "      <td>2.3296</td>\n",
       "      <td>0.3657</td>\n",
       "      <td>1</td>\n",
       "      <td>0.316028</td>\n",
       "      <td>2.195864</td>\n",
       "    </tr>\n",
       "    <tr>\n",
       "      <th>1</th>\n",
       "      <td>3179.0</td>\n",
       "      <td>14</td>\n",
       "      <td>47.2468</td>\n",
       "      <td>0.7768</td>\n",
       "      <td>2.3170</td>\n",
       "      <td>0.3776</td>\n",
       "      <td>3</td>\n",
       "      <td>0.587701</td>\n",
       "      <td>2.174418</td>\n",
       "    </tr>\n",
       "    <tr>\n",
       "      <th>2</th>\n",
       "      <td>3179.5</td>\n",
       "      <td>14</td>\n",
       "      <td>49.5247</td>\n",
       "      <td>1.0707</td>\n",
       "      <td>2.2960</td>\n",
       "      <td>0.5390</td>\n",
       "      <td>1</td>\n",
       "      <td>0.899481</td>\n",
       "      <td>2.005479</td>\n",
       "    </tr>\n",
       "    <tr>\n",
       "      <th>3</th>\n",
       "      <td>3180.0</td>\n",
       "      <td>14</td>\n",
       "      <td>44.9124</td>\n",
       "      <td>1.4460</td>\n",
       "      <td>2.2514</td>\n",
       "      <td>0.5482</td>\n",
       "      <td>3</td>\n",
       "      <td>1.180353</td>\n",
       "      <td>1.950877</td>\n",
       "    </tr>\n",
       "    <tr>\n",
       "      <th>4</th>\n",
       "      <td>3180.5</td>\n",
       "      <td>14</td>\n",
       "      <td>47.0048</td>\n",
       "      <td>0.9542</td>\n",
       "      <td>2.2733</td>\n",
       "      <td>0.5076</td>\n",
       "      <td>3</td>\n",
       "      <td>0.774351</td>\n",
       "      <td>2.015642</td>\n",
       "    </tr>\n",
       "  </tbody>\n",
       "</table>\n",
       "</div>"
      ],
      "text/plain": [
       "    Depth  Well       GR      RT    RHOB    NPHI  Facies      RTOB      RHPI\n",
       "0  3178.5    14  50.2190  0.5888  2.3296  0.3657       1  0.316028  2.195864\n",
       "1  3179.0    14  47.2468  0.7768  2.3170  0.3776       3  0.587701  2.174418\n",
       "2  3179.5    14  49.5247  1.0707  2.2960  0.5390       1  0.899481  2.005479\n",
       "3  3180.0    14  44.9124  1.4460  2.2514  0.5482       3  1.180353  1.950877\n",
       "4  3180.5    14  47.0048  0.9542  2.2733  0.5076       3  0.774351  2.015642"
      ]
     },
     "execution_count": 17,
     "metadata": {},
     "output_type": "execute_result"
    }
   ],
   "source": [
    "df.head()"
   ]
  },
  {
   "cell_type": "code",
   "execution_count": null,
   "id": "d1747379",
   "metadata": {},
   "outputs": [],
   "source": []
  },
  {
   "cell_type": "code",
   "execution_count": 18,
   "id": "9c3cf095",
   "metadata": {},
   "outputs": [
    {
     "data": {
      "image/png": "[encoded data removed]",
      "text/plain": [
       "<Figure size 1200x1200 with 2 Axes>"
      ]
     },
     "metadata": {},
     "output_type": "display_data"
    }
   ],
   "source": [
    "import matplotlib.pyplot as plt\n",
    "import seaborn as sns\n",
    "\n",
    "\n",
    "corr_matrix = df.corr(method = \"pearson\")\n",
    "\n",
    "fig, ax = plt.subplots(figsize=(12, 12))\n",
    "\n",
    "# Using Seaborn HeatMap\n",
    "sns.heatmap(corr_matrix,  square = True, linewidths = .8, cbar_kws = {'shrink': .4,  'ticks' : [-1, -.5, 0, 0.5, 1]},\n",
    "            cmap = 'coolwarm', vmin = -1,  vmax = 1, annot = True, annot_kws = {'size': 6})\n",
    "\n",
    "# Setting Axis Properties\n",
    "ax.set_yticklabels(corr_matrix.columns, rotation = 0, size = 10)\n",
    "ax.set_xticklabels(corr_matrix.columns, rotation = 90, size =10)\n",
    "ax.set_title(\"Correlation Matrix\", size = 30)\n",
    "\n",
    "sns.set_style({'xtick.bottom': True}, {'ytick.left': True})"
   ]
  },
  {
   "cell_type": "code",
   "execution_count": 19,
   "id": "e61e7134",
   "metadata": {},
   "outputs": [
    {
     "data": {
      "text/plain": [
       "Well     -0.043091\n",
       "GR        0.123834\n",
       "RT       -0.006271\n",
       "RHOB     -0.571477\n",
       "NPHI      0.405681\n",
       "Facies    1.000000\n",
       "RTOB     -0.375306\n",
       "RHPI     -0.571712\n",
       "Name: Facies, dtype: float64"
      ]
     },
     "execution_count": 19,
     "metadata": {},
     "output_type": "execute_result"
    }
   ],
   "source": [
    "df[df.columns[1:]].corr()['Facies'][:]"
   ]
  },
  {
   "cell_type": "markdown",
   "id": "a6f6fc3c",
   "metadata": {},
   "source": [
    "### As we can see that the two new features created are not weakly correlated with the target"
   ]
  },
  {
   "cell_type": "code",
   "execution_count": 20,
   "id": "594153ea",
   "metadata": {},
   "outputs": [
    {
     "data": {
      "text/html": [
       "<div>\n",
       "<style scoped>\n",
       "    .dataframe tbody tr th:only-of-type {\n",
       "        vertical-align: middle;\n",
       "    }\n",
       "\n",
       "    .dataframe tbody tr th {\n",
       "        vertical-align: top;\n",
       "    }\n",
       "\n",
       "    .dataframe thead th {\n",
       "        text-align: right;\n",
       "    }\n",
       "</style>\n",
       "<table border=\"1\" class=\"dataframe\">\n",
       "  <thead>\n",
       "    <tr style=\"text-align: right;\">\n",
       "      <th></th>\n",
       "      <th>Depth</th>\n",
       "      <th>Well</th>\n",
       "      <th>GR</th>\n",
       "      <th>RT</th>\n",
       "      <th>RHOB</th>\n",
       "      <th>NPHI</th>\n",
       "      <th>Facies</th>\n",
       "      <th>RTOB</th>\n",
       "      <th>RHPI</th>\n",
       "    </tr>\n",
       "  </thead>\n",
       "  <tbody>\n",
       "    <tr>\n",
       "      <th>0</th>\n",
       "      <td>3178.5</td>\n",
       "      <td>14</td>\n",
       "      <td>50.2190</td>\n",
       "      <td>0.5888</td>\n",
       "      <td>2.3296</td>\n",
       "      <td>0.3657</td>\n",
       "      <td>1</td>\n",
       "      <td>0.316028</td>\n",
       "      <td>2.195864</td>\n",
       "    </tr>\n",
       "    <tr>\n",
       "      <th>1</th>\n",
       "      <td>3179.0</td>\n",
       "      <td>14</td>\n",
       "      <td>47.2468</td>\n",
       "      <td>0.7768</td>\n",
       "      <td>2.3170</td>\n",
       "      <td>0.3776</td>\n",
       "      <td>3</td>\n",
       "      <td>0.587701</td>\n",
       "      <td>2.174418</td>\n",
       "    </tr>\n",
       "    <tr>\n",
       "      <th>2</th>\n",
       "      <td>3179.5</td>\n",
       "      <td>14</td>\n",
       "      <td>49.5247</td>\n",
       "      <td>1.0707</td>\n",
       "      <td>2.2960</td>\n",
       "      <td>0.5390</td>\n",
       "      <td>1</td>\n",
       "      <td>0.899481</td>\n",
       "      <td>2.005479</td>\n",
       "    </tr>\n",
       "    <tr>\n",
       "      <th>3</th>\n",
       "      <td>3180.0</td>\n",
       "      <td>14</td>\n",
       "      <td>44.9124</td>\n",
       "      <td>1.4460</td>\n",
       "      <td>2.2514</td>\n",
       "      <td>0.5482</td>\n",
       "      <td>3</td>\n",
       "      <td>1.180353</td>\n",
       "      <td>1.950877</td>\n",
       "    </tr>\n",
       "    <tr>\n",
       "      <th>4</th>\n",
       "      <td>3180.5</td>\n",
       "      <td>14</td>\n",
       "      <td>47.0048</td>\n",
       "      <td>0.9542</td>\n",
       "      <td>2.2733</td>\n",
       "      <td>0.5076</td>\n",
       "      <td>3</td>\n",
       "      <td>0.774351</td>\n",
       "      <td>2.015642</td>\n",
       "    </tr>\n",
       "  </tbody>\n",
       "</table>\n",
       "</div>"
      ],
      "text/plain": [
       "    Depth  Well       GR      RT    RHOB    NPHI  Facies      RTOB      RHPI\n",
       "0  3178.5    14  50.2190  0.5888  2.3296  0.3657       1  0.316028  2.195864\n",
       "1  3179.0    14  47.2468  0.7768  2.3170  0.3776       3  0.587701  2.174418\n",
       "2  3179.5    14  49.5247  1.0707  2.2960  0.5390       1  0.899481  2.005479\n",
       "3  3180.0    14  44.9124  1.4460  2.2514  0.5482       3  1.180353  1.950877\n",
       "4  3180.5    14  47.0048  0.9542  2.2733  0.5076       3  0.774351  2.015642"
      ]
     },
     "execution_count": 20,
     "metadata": {},
     "output_type": "execute_result"
    }
   ],
   "source": [
    "df.head()"
   ]
  },
  {
   "cell_type": "markdown",
   "id": "30525951",
   "metadata": {},
   "source": [
    "# Perform all preprocessing: outlier detection, scaling, co-linearity check (Pearson), association\n",
    "# test (F-test and Mutual Information), and feature transformation (Quantile Transformer). – 2"
   ]
  },
  {
   "cell_type": "markdown",
   "id": "0ad88bac",
   "metadata": {},
   "source": [
    "### Outlier Detection and Removal"
   ]
  },
  {
   "cell_type": "code",
   "execution_count": 21,
   "id": "45c94773",
   "metadata": {},
   "outputs": [],
   "source": [
    "from sklearn.ensemble import IsolationForest"
   ]
  },
  {
   "cell_type": "code",
   "execution_count": 22,
   "id": "59782a9f",
   "metadata": {},
   "outputs": [],
   "source": [
    "outliers_fraction = 0.02"
   ]
  },
  {
   "cell_type": "code",
   "execution_count": 23,
   "id": "b3c2ddc6",
   "metadata": {},
   "outputs": [
    {
     "data": {
      "text/plain": [
       "(3241, 9)"
      ]
     },
     "execution_count": 23,
     "metadata": {},
     "output_type": "execute_result"
    }
   ],
   "source": [
    "df.shape"
   ]
  },
  {
   "cell_type": "code",
   "execution_count": 24,
   "id": "a29dee37",
   "metadata": {},
   "outputs": [],
   "source": [
    "from sklearn import preprocessing\n",
    "import seaborn"
   ]
  },
  {
   "cell_type": "code",
   "execution_count": 25,
   "id": "cb60abec",
   "metadata": {},
   "outputs": [
    {
     "name": "stderr",
     "output_type": "stream",
     "text": [
      "C:\\Users\\Gopala Kala\\AppData\\Local\\Programs\\Python\\Python310\\lib\\site-packages\\sklearn\\base.py:439: UserWarning: X does not have valid feature names, but IsolationForest was fitted with feature names\n",
      "  warnings.warn(\n"
     ]
    },
    {
     "data": {
      "text/html": [
       "<style>#sk-container-id-1 {color: black;background-color: white;}#sk-container-id-1 pre{padding: 0;}#sk-container-id-1 div.sk-toggleable {background-color: white;}#sk-container-id-1 label.sk-toggleable__label {cursor: pointer;display: block;width: 100%;margin-bottom: 0;padding: 0.3em;box-sizing: border-box;text-align: center;}#sk-container-id-1 label.sk-toggleable__label-arrow:before {content: \"▸\";float: left;margin-right: 0.25em;color: #696969;}#sk-container-id-1 label.sk-toggleable__label-arrow:hover:before {color: black;}#sk-container-id-1 div.sk-estimator:hover label.sk-toggleable__label-arrow:before {color: black;}#sk-container-id-1 div.sk-toggleable__content {max-height: 0;max-width: 0;overflow: hidden;text-align: left;background-color: #f0f8ff;}#sk-container-id-1 div.sk-toggleable__content pre {margin: 0.2em;color: black;border-radius: 0.25em;background-color: #f0f8ff;}#sk-container-id-1 input.sk-toggleable__control:checked~div.sk-toggleable__content {max-height: 200px;max-width: 100%;overflow: auto;}#sk-container-id-1 input.sk-toggleable__control:checked~label.sk-toggleable__label-arrow:before {content: \"▾\";}#sk-container-id-1 div.sk-estimator input.sk-toggleable__control:checked~label.sk-toggleable__label {background-color: #d4ebff;}#sk-container-id-1 div.sk-label input.sk-toggleable__control:checked~label.sk-toggleable__label {background-color: #d4ebff;}#sk-container-id-1 input.sk-hidden--visually {border: 0;clip: rect(1px 1px 1px 1px);clip: rect(1px, 1px, 1px, 1px);height: 1px;margin: -1px;overflow: hidden;padding: 0;position: absolute;width: 1px;}#sk-container-id-1 div.sk-estimator {font-family: monospace;background-color: #f0f8ff;border: 1px dotted black;border-radius: 0.25em;box-sizing: border-box;margin-bottom: 0.5em;}#sk-container-id-1 div.sk-estimator:hover {background-color: #d4ebff;}#sk-container-id-1 div.sk-parallel-item::after {content: \"\";width: 100%;border-bottom: 1px solid gray;flex-grow: 1;}#sk-container-id-1 div.sk-label:hover label.sk-toggleable__label {background-color: #d4ebff;}#sk-container-id-1 div.sk-serial::before {content: \"\";position: absolute;border-left: 1px solid gray;box-sizing: border-box;top: 0;bottom: 0;left: 50%;z-index: 0;}#sk-container-id-1 div.sk-serial {display: flex;flex-direction: column;align-items: center;background-color: white;padding-right: 0.2em;padding-left: 0.2em;position: relative;}#sk-container-id-1 div.sk-item {position: relative;z-index: 1;}#sk-container-id-1 div.sk-parallel {display: flex;align-items: stretch;justify-content: center;background-color: white;position: relative;}#sk-container-id-1 div.sk-item::before, #sk-container-id-1 div.sk-parallel-item::before {content: \"\";position: absolute;border-left: 1px solid gray;box-sizing: border-box;top: 0;bottom: 0;left: 50%;z-index: -1;}#sk-container-id-1 div.sk-parallel-item {display: flex;flex-direction: column;z-index: 1;position: relative;background-color: white;}#sk-container-id-1 div.sk-parallel-item:first-child::after {align-self: flex-end;width: 50%;}#sk-container-id-1 div.sk-parallel-item:last-child::after {align-self: flex-start;width: 50%;}#sk-container-id-1 div.sk-parallel-item:only-child::after {width: 0;}#sk-container-id-1 div.sk-dashed-wrapped {border: 1px dashed gray;margin: 0 0.4em 0.5em 0.4em;box-sizing: border-box;padding-bottom: 0.4em;background-color: white;}#sk-container-id-1 div.sk-label label {font-family: monospace;font-weight: bold;display: inline-block;line-height: 1.2em;}#sk-container-id-1 div.sk-label-container {text-align: center;}#sk-container-id-1 div.sk-container {/* jupyter's `normalize.less` sets `[hidden] { display: none; }` but bootstrap.min.css set `[hidden] { display: none !important; }` so we also need the `!important` here to be able to override the default hidden behavior on the sphinx rendered scikit-learn.org. See: https://github.com/scikit-learn/scikit-learn/issues/21755 */display: inline-block !important;position: relative;}#sk-container-id-1 div.sk-text-repr-fallback {display: none;}</style><div id=\"sk-container-id-1\" class=\"sk-top-container\"><div class=\"sk-text-repr-fallback\"><pre>IsolationForest(contamination=0.02, max_features=0.8, max_samples=0.8,\n",
       "                n_estimators=300)</pre><b>In a Jupyter environment, please rerun this cell to show the HTML representation or trust the notebook. <br />On GitHub, the HTML representation is unable to render, please try loading this page with nbviewer.org.</b></div><div class=\"sk-container\" hidden><div class=\"sk-item\"><div class=\"sk-estimator sk-toggleable\"><input class=\"sk-toggleable__control sk-hidden--visually\" id=\"sk-estimator-id-1\" type=\"checkbox\" checked><label for=\"sk-estimator-id-1\" class=\"sk-toggleable__label sk-toggleable__label-arrow\">IsolationForest</label><div class=\"sk-toggleable__content\"><pre>IsolationForest(contamination=0.02, max_features=0.8, max_samples=0.8,\n",
       "                n_estimators=300)</pre></div></div></div></div></div>"
      ],
      "text/plain": [
       "IsolationForest(contamination=0.02, max_features=0.8, max_samples=0.8,\n",
       "                n_estimators=300)"
      ]
     },
     "execution_count": 25,
     "metadata": {},
     "output_type": "execute_result"
    }
   ],
   "source": [
    "model =  IsolationForest(n_estimators=300, max_samples = 0.8, max_features= 0.8, contamination = outliers_fraction)\n",
    "\n",
    "model.fit(df)"
   ]
  },
  {
   "cell_type": "code",
   "execution_count": 26,
   "id": "b788c7fc",
   "metadata": {},
   "outputs": [
    {
     "data": {
      "text/plain": [
       "array([1, 1, 1, ..., 1, 1, 1])"
      ]
     },
     "execution_count": 26,
     "metadata": {},
     "output_type": "execute_result"
    }
   ],
   "source": [
    "model.predict(df)"
   ]
  },
  {
   "cell_type": "code",
   "execution_count": 27,
   "id": "13190240",
   "metadata": {},
   "outputs": [],
   "source": [
    "df['anomaly'] = model.predict(df)"
   ]
  },
  {
   "cell_type": "code",
   "execution_count": 28,
   "id": "9d53ed4d",
   "metadata": {},
   "outputs": [
    {
     "name": "stdout",
     "output_type": "stream",
     "text": [
      "0    3176\n",
      "1      65\n",
      "Name: anomaly, dtype: int64\n"
     ]
    }
   ],
   "source": [
    "df['anomaly'] = df['anomaly'].map( {1: 0, -1: 1})  \n",
    "                # map 1 to 0 and -1 to 1....so, 1 is outlier\n",
    "\n",
    "print(df['anomaly'].value_counts())"
   ]
  },
  {
   "cell_type": "code",
   "execution_count": 29,
   "id": "de5dda89",
   "metadata": {},
   "outputs": [
    {
     "data": {
      "text/html": [
       "<div>\n",
       "<style scoped>\n",
       "    .dataframe tbody tr th:only-of-type {\n",
       "        vertical-align: middle;\n",
       "    }\n",
       "\n",
       "    .dataframe tbody tr th {\n",
       "        vertical-align: top;\n",
       "    }\n",
       "\n",
       "    .dataframe thead th {\n",
       "        text-align: right;\n",
       "    }\n",
       "</style>\n",
       "<table border=\"1\" class=\"dataframe\">\n",
       "  <thead>\n",
       "    <tr style=\"text-align: right;\">\n",
       "      <th></th>\n",
       "      <th>Depth</th>\n",
       "      <th>Well</th>\n",
       "      <th>GR</th>\n",
       "      <th>RT</th>\n",
       "      <th>RHOB</th>\n",
       "      <th>NPHI</th>\n",
       "      <th>Facies</th>\n",
       "      <th>RTOB</th>\n",
       "      <th>RHPI</th>\n",
       "      <th>anomaly</th>\n",
       "    </tr>\n",
       "  </thead>\n",
       "  <tbody>\n",
       "    <tr>\n",
       "      <th>0</th>\n",
       "      <td>3178.5</td>\n",
       "      <td>14</td>\n",
       "      <td>50.2190</td>\n",
       "      <td>0.5888</td>\n",
       "      <td>2.3296</td>\n",
       "      <td>0.3657</td>\n",
       "      <td>1</td>\n",
       "      <td>0.316028</td>\n",
       "      <td>2.195864</td>\n",
       "      <td>0</td>\n",
       "    </tr>\n",
       "    <tr>\n",
       "      <th>1</th>\n",
       "      <td>3179.0</td>\n",
       "      <td>14</td>\n",
       "      <td>47.2468</td>\n",
       "      <td>0.7768</td>\n",
       "      <td>2.3170</td>\n",
       "      <td>0.3776</td>\n",
       "      <td>3</td>\n",
       "      <td>0.587701</td>\n",
       "      <td>2.174418</td>\n",
       "      <td>0</td>\n",
       "    </tr>\n",
       "    <tr>\n",
       "      <th>2</th>\n",
       "      <td>3179.5</td>\n",
       "      <td>14</td>\n",
       "      <td>49.5247</td>\n",
       "      <td>1.0707</td>\n",
       "      <td>2.2960</td>\n",
       "      <td>0.5390</td>\n",
       "      <td>1</td>\n",
       "      <td>0.899481</td>\n",
       "      <td>2.005479</td>\n",
       "      <td>0</td>\n",
       "    </tr>\n",
       "    <tr>\n",
       "      <th>3</th>\n",
       "      <td>3180.0</td>\n",
       "      <td>14</td>\n",
       "      <td>44.9124</td>\n",
       "      <td>1.4460</td>\n",
       "      <td>2.2514</td>\n",
       "      <td>0.5482</td>\n",
       "      <td>3</td>\n",
       "      <td>1.180353</td>\n",
       "      <td>1.950877</td>\n",
       "      <td>1</td>\n",
       "    </tr>\n",
       "    <tr>\n",
       "      <th>4</th>\n",
       "      <td>3180.5</td>\n",
       "      <td>14</td>\n",
       "      <td>47.0048</td>\n",
       "      <td>0.9542</td>\n",
       "      <td>2.2733</td>\n",
       "      <td>0.5076</td>\n",
       "      <td>3</td>\n",
       "      <td>0.774351</td>\n",
       "      <td>2.015642</td>\n",
       "      <td>0</td>\n",
       "    </tr>\n",
       "  </tbody>\n",
       "</table>\n",
       "</div>"
      ],
      "text/plain": [
       "    Depth  Well       GR      RT    RHOB    NPHI  Facies      RTOB      RHPI  \\\n",
       "0  3178.5    14  50.2190  0.5888  2.3296  0.3657       1  0.316028  2.195864   \n",
       "1  3179.0    14  47.2468  0.7768  2.3170  0.3776       3  0.587701  2.174418   \n",
       "2  3179.5    14  49.5247  1.0707  2.2960  0.5390       1  0.899481  2.005479   \n",
       "3  3180.0    14  44.9124  1.4460  2.2514  0.5482       3  1.180353  1.950877   \n",
       "4  3180.5    14  47.0048  0.9542  2.2733  0.5076       3  0.774351  2.015642   \n",
       "\n",
       "   anomaly  \n",
       "0        0  \n",
       "1        0  \n",
       "2        0  \n",
       "3        1  \n",
       "4        0  "
      ]
     },
     "execution_count": 29,
     "metadata": {},
     "output_type": "execute_result"
    }
   ],
   "source": [
    "df.head()"
   ]
  },
  {
   "cell_type": "code",
   "execution_count": 30,
   "id": "a4f0161d",
   "metadata": {},
   "outputs": [],
   "source": [
    "df = df[df['anomaly'] != 1]"
   ]
  },
  {
   "cell_type": "code",
   "execution_count": 31,
   "id": "cf107208",
   "metadata": {},
   "outputs": [
    {
     "data": {
      "text/plain": [
       "(3176, 10)"
      ]
     },
     "execution_count": 31,
     "metadata": {},
     "output_type": "execute_result"
    }
   ],
   "source": [
    "df.shape"
   ]
  },
  {
   "cell_type": "code",
   "execution_count": 32,
   "id": "a5661475",
   "metadata": {},
   "outputs": [
    {
     "data": {
      "text/html": [
       "<div>\n",
       "<style scoped>\n",
       "    .dataframe tbody tr th:only-of-type {\n",
       "        vertical-align: middle;\n",
       "    }\n",
       "\n",
       "    .dataframe tbody tr th {\n",
       "        vertical-align: top;\n",
       "    }\n",
       "\n",
       "    .dataframe thead th {\n",
       "        text-align: right;\n",
       "    }\n",
       "</style>\n",
       "<table border=\"1\" class=\"dataframe\">\n",
       "  <thead>\n",
       "    <tr style=\"text-align: right;\">\n",
       "      <th></th>\n",
       "      <th>Depth</th>\n",
       "      <th>Well</th>\n",
       "      <th>GR</th>\n",
       "      <th>RT</th>\n",
       "      <th>RHOB</th>\n",
       "      <th>NPHI</th>\n",
       "      <th>Facies</th>\n",
       "      <th>RTOB</th>\n",
       "      <th>RHPI</th>\n",
       "      <th>anomaly</th>\n",
       "    </tr>\n",
       "  </thead>\n",
       "  <tbody>\n",
       "    <tr>\n",
       "      <th>0</th>\n",
       "      <td>3178.5</td>\n",
       "      <td>14</td>\n",
       "      <td>50.2190</td>\n",
       "      <td>0.5888</td>\n",
       "      <td>2.3296</td>\n",
       "      <td>0.3657</td>\n",
       "      <td>1</td>\n",
       "      <td>0.316028</td>\n",
       "      <td>2.195864</td>\n",
       "      <td>0</td>\n",
       "    </tr>\n",
       "    <tr>\n",
       "      <th>1</th>\n",
       "      <td>3179.0</td>\n",
       "      <td>14</td>\n",
       "      <td>47.2468</td>\n",
       "      <td>0.7768</td>\n",
       "      <td>2.3170</td>\n",
       "      <td>0.3776</td>\n",
       "      <td>3</td>\n",
       "      <td>0.587701</td>\n",
       "      <td>2.174418</td>\n",
       "      <td>0</td>\n",
       "    </tr>\n",
       "    <tr>\n",
       "      <th>2</th>\n",
       "      <td>3179.5</td>\n",
       "      <td>14</td>\n",
       "      <td>49.5247</td>\n",
       "      <td>1.0707</td>\n",
       "      <td>2.2960</td>\n",
       "      <td>0.5390</td>\n",
       "      <td>1</td>\n",
       "      <td>0.899481</td>\n",
       "      <td>2.005479</td>\n",
       "      <td>0</td>\n",
       "    </tr>\n",
       "    <tr>\n",
       "      <th>4</th>\n",
       "      <td>3180.5</td>\n",
       "      <td>14</td>\n",
       "      <td>47.0048</td>\n",
       "      <td>0.9542</td>\n",
       "      <td>2.2733</td>\n",
       "      <td>0.5076</td>\n",
       "      <td>3</td>\n",
       "      <td>0.774351</td>\n",
       "      <td>2.015642</td>\n",
       "      <td>0</td>\n",
       "    </tr>\n",
       "    <tr>\n",
       "      <th>5</th>\n",
       "      <td>3181.0</td>\n",
       "      <td>14</td>\n",
       "      <td>49.0612</td>\n",
       "      <td>0.5514</td>\n",
       "      <td>2.2463</td>\n",
       "      <td>0.4549</td>\n",
       "      <td>1</td>\n",
       "      <td>0.213990</td>\n",
       "      <td>2.039366</td>\n",
       "      <td>0</td>\n",
       "    </tr>\n",
       "  </tbody>\n",
       "</table>\n",
       "</div>"
      ],
      "text/plain": [
       "    Depth  Well       GR      RT    RHOB    NPHI  Facies      RTOB      RHPI  \\\n",
       "0  3178.5    14  50.2190  0.5888  2.3296  0.3657       1  0.316028  2.195864   \n",
       "1  3179.0    14  47.2468  0.7768  2.3170  0.3776       3  0.587701  2.174418   \n",
       "2  3179.5    14  49.5247  1.0707  2.2960  0.5390       1  0.899481  2.005479   \n",
       "4  3180.5    14  47.0048  0.9542  2.2733  0.5076       3  0.774351  2.015642   \n",
       "5  3181.0    14  49.0612  0.5514  2.2463  0.4549       1  0.213990  2.039366   \n",
       "\n",
       "   anomaly  \n",
       "0        0  \n",
       "1        0  \n",
       "2        0  \n",
       "4        0  \n",
       "5        0  "
      ]
     },
     "execution_count": 32,
     "metadata": {},
     "output_type": "execute_result"
    }
   ],
   "source": [
    "df.head()"
   ]
  },
  {
   "cell_type": "code",
   "execution_count": 33,
   "id": "d9b78329",
   "metadata": {},
   "outputs": [],
   "source": [
    "df = df.drop('anomaly', axis =1)"
   ]
  },
  {
   "cell_type": "code",
   "execution_count": 34,
   "id": "ce708371",
   "metadata": {},
   "outputs": [
    {
     "data": {
      "text/html": [
       "<div>\n",
       "<style scoped>\n",
       "    .dataframe tbody tr th:only-of-type {\n",
       "        vertical-align: middle;\n",
       "    }\n",
       "\n",
       "    .dataframe tbody tr th {\n",
       "        vertical-align: top;\n",
       "    }\n",
       "\n",
       "    .dataframe thead th {\n",
       "        text-align: right;\n",
       "    }\n",
       "</style>\n",
       "<table border=\"1\" class=\"dataframe\">\n",
       "  <thead>\n",
       "    <tr style=\"text-align: right;\">\n",
       "      <th></th>\n",
       "      <th>Depth</th>\n",
       "      <th>Well</th>\n",
       "      <th>GR</th>\n",
       "      <th>RT</th>\n",
       "      <th>RHOB</th>\n",
       "      <th>NPHI</th>\n",
       "      <th>Facies</th>\n",
       "      <th>RTOB</th>\n",
       "      <th>RHPI</th>\n",
       "    </tr>\n",
       "  </thead>\n",
       "  <tbody>\n",
       "    <tr>\n",
       "      <th>0</th>\n",
       "      <td>3178.5</td>\n",
       "      <td>14</td>\n",
       "      <td>50.2190</td>\n",
       "      <td>0.5888</td>\n",
       "      <td>2.3296</td>\n",
       "      <td>0.3657</td>\n",
       "      <td>1</td>\n",
       "      <td>0.316028</td>\n",
       "      <td>2.195864</td>\n",
       "    </tr>\n",
       "    <tr>\n",
       "      <th>1</th>\n",
       "      <td>3179.0</td>\n",
       "      <td>14</td>\n",
       "      <td>47.2468</td>\n",
       "      <td>0.7768</td>\n",
       "      <td>2.3170</td>\n",
       "      <td>0.3776</td>\n",
       "      <td>3</td>\n",
       "      <td>0.587701</td>\n",
       "      <td>2.174418</td>\n",
       "    </tr>\n",
       "    <tr>\n",
       "      <th>2</th>\n",
       "      <td>3179.5</td>\n",
       "      <td>14</td>\n",
       "      <td>49.5247</td>\n",
       "      <td>1.0707</td>\n",
       "      <td>2.2960</td>\n",
       "      <td>0.5390</td>\n",
       "      <td>1</td>\n",
       "      <td>0.899481</td>\n",
       "      <td>2.005479</td>\n",
       "    </tr>\n",
       "    <tr>\n",
       "      <th>4</th>\n",
       "      <td>3180.5</td>\n",
       "      <td>14</td>\n",
       "      <td>47.0048</td>\n",
       "      <td>0.9542</td>\n",
       "      <td>2.2733</td>\n",
       "      <td>0.5076</td>\n",
       "      <td>3</td>\n",
       "      <td>0.774351</td>\n",
       "      <td>2.015642</td>\n",
       "    </tr>\n",
       "    <tr>\n",
       "      <th>5</th>\n",
       "      <td>3181.0</td>\n",
       "      <td>14</td>\n",
       "      <td>49.0612</td>\n",
       "      <td>0.5514</td>\n",
       "      <td>2.2463</td>\n",
       "      <td>0.4549</td>\n",
       "      <td>1</td>\n",
       "      <td>0.213990</td>\n",
       "      <td>2.039366</td>\n",
       "    </tr>\n",
       "  </tbody>\n",
       "</table>\n",
       "</div>"
      ],
      "text/plain": [
       "    Depth  Well       GR      RT    RHOB    NPHI  Facies      RTOB      RHPI\n",
       "0  3178.5    14  50.2190  0.5888  2.3296  0.3657       1  0.316028  2.195864\n",
       "1  3179.0    14  47.2468  0.7768  2.3170  0.3776       3  0.587701  2.174418\n",
       "2  3179.5    14  49.5247  1.0707  2.2960  0.5390       1  0.899481  2.005479\n",
       "4  3180.5    14  47.0048  0.9542  2.2733  0.5076       3  0.774351  2.015642\n",
       "5  3181.0    14  49.0612  0.5514  2.2463  0.4549       1  0.213990  2.039366"
      ]
     },
     "execution_count": 34,
     "metadata": {},
     "output_type": "execute_result"
    }
   ],
   "source": [
    "df.head()"
   ]
  },
  {
   "cell_type": "code",
   "execution_count": null,
   "id": "51dd6521",
   "metadata": {},
   "outputs": [],
   "source": []
  },
  {
   "cell_type": "code",
   "execution_count": 35,
   "id": "cbcf21d1",
   "metadata": {},
   "outputs": [],
   "source": [
    "X = df.drop('Facies', axis =1)"
   ]
  },
  {
   "cell_type": "code",
   "execution_count": 36,
   "id": "a93f5a97",
   "metadata": {},
   "outputs": [],
   "source": [
    "y = df['Facies']"
   ]
  },
  {
   "cell_type": "markdown",
   "id": "5d5f3315",
   "metadata": {},
   "source": [
    "### Splitting data into Training and Testing"
   ]
  },
  {
   "cell_type": "code",
   "execution_count": 37,
   "id": "c5d39978",
   "metadata": {},
   "outputs": [],
   "source": [
    "from sklearn.model_selection import train_test_split\n",
    "X_train, X_test, y_train, y_test = train_test_split(X, y, test_size=.2, random_state = 42, stratify=y)"
   ]
  },
  {
   "cell_type": "code",
   "execution_count": 38,
   "id": "10b5204c",
   "metadata": {},
   "outputs": [],
   "source": [
    "# Create an instance of QuantileTransformer\n",
    "from sklearn.preprocessing import QuantileTransformer\n",
    "quantile_transformer = QuantileTransformer(n_quantiles=1000, output_distribution='uniform', random_state=0)\n",
    "\n",
    "# List of columns to transform\n",
    "cols_to_transform = X_train.columns\n",
    "\n",
    "# Apply the Quantile Transformer to the specified columns\n",
    "X_train[cols_to_transform] = quantile_transformer.fit_transform(X_train[cols_to_transform])\n",
    "\n",
    "X_test[cols_to_transform] = quantile_transformer.transform(X_test[cols_to_transform])"
   ]
  },
  {
   "cell_type": "code",
   "execution_count": 119,
   "id": "3bf4fc46",
   "metadata": {},
   "outputs": [
    {
     "data": {
      "text/plain": [
       "pandas.core.frame.DataFrame"
      ]
     },
     "execution_count": 119,
     "metadata": {},
     "output_type": "execute_result"
    }
   ],
   "source": [
    "type(X_test)"
   ]
  },
  {
   "cell_type": "code",
   "execution_count": null,
   "id": "2317a3ae",
   "metadata": {},
   "outputs": [],
   "source": []
  },
  {
   "cell_type": "markdown",
   "id": "92f90a62",
   "metadata": {},
   "source": [
    "## Performing Pearson Correlation and removing features > 0.9 co-linearity"
   ]
  },
  {
   "cell_type": "code",
   "execution_count": 39,
   "id": "81a8c774",
   "metadata": {},
   "outputs": [],
   "source": [
    "corr_matrix = X_train.corr(method = \"pearson\")"
   ]
  },
  {
   "cell_type": "code",
   "execution_count": 40,
   "id": "aefebf82",
   "metadata": {},
   "outputs": [
    {
     "data": {
      "text/html": [
       "<div>\n",
       "<style scoped>\n",
       "    .dataframe tbody tr th:only-of-type {\n",
       "        vertical-align: middle;\n",
       "    }\n",
       "\n",
       "    .dataframe tbody tr th {\n",
       "        vertical-align: top;\n",
       "    }\n",
       "\n",
       "    .dataframe thead th {\n",
       "        text-align: right;\n",
       "    }\n",
       "</style>\n",
       "<table border=\"1\" class=\"dataframe\">\n",
       "  <thead>\n",
       "    <tr style=\"text-align: right;\">\n",
       "      <th></th>\n",
       "      <th>Depth</th>\n",
       "      <th>Well</th>\n",
       "      <th>GR</th>\n",
       "      <th>RT</th>\n",
       "      <th>RHOB</th>\n",
       "      <th>NPHI</th>\n",
       "      <th>RTOB</th>\n",
       "      <th>RHPI</th>\n",
       "    </tr>\n",
       "  </thead>\n",
       "  <tbody>\n",
       "    <tr>\n",
       "      <th>Depth</th>\n",
       "      <td>1.000000</td>\n",
       "      <td>0.154383</td>\n",
       "      <td>0.378210</td>\n",
       "      <td>-0.227245</td>\n",
       "      <td>-0.106162</td>\n",
       "      <td>0.193430</td>\n",
       "      <td>-0.220617</td>\n",
       "      <td>-0.108266</td>\n",
       "    </tr>\n",
       "    <tr>\n",
       "      <th>Well</th>\n",
       "      <td>0.154383</td>\n",
       "      <td>1.000000</td>\n",
       "      <td>0.121897</td>\n",
       "      <td>0.212442</td>\n",
       "      <td>0.064462</td>\n",
       "      <td>-0.028431</td>\n",
       "      <td>0.211802</td>\n",
       "      <td>0.069365</td>\n",
       "    </tr>\n",
       "    <tr>\n",
       "      <th>GR</th>\n",
       "      <td>0.378210</td>\n",
       "      <td>0.121897</td>\n",
       "      <td>1.000000</td>\n",
       "      <td>-0.263914</td>\n",
       "      <td>-0.241525</td>\n",
       "      <td>0.803216</td>\n",
       "      <td>-0.273568</td>\n",
       "      <td>-0.379308</td>\n",
       "    </tr>\n",
       "    <tr>\n",
       "      <th>RT</th>\n",
       "      <td>-0.227245</td>\n",
       "      <td>0.212442</td>\n",
       "      <td>-0.263914</td>\n",
       "      <td>1.000000</td>\n",
       "      <td>0.526236</td>\n",
       "      <td>-0.432393</td>\n",
       "      <td>0.998959</td>\n",
       "      <td>0.524184</td>\n",
       "    </tr>\n",
       "    <tr>\n",
       "      <th>RHOB</th>\n",
       "      <td>-0.106162</td>\n",
       "      <td>0.064462</td>\n",
       "      <td>-0.241525</td>\n",
       "      <td>0.526236</td>\n",
       "      <td>1.000000</td>\n",
       "      <td>-0.547074</td>\n",
       "      <td>0.552995</td>\n",
       "      <td>0.974841</td>\n",
       "    </tr>\n",
       "  </tbody>\n",
       "</table>\n",
       "</div>"
      ],
      "text/plain": [
       "          Depth      Well        GR        RT      RHOB      NPHI      RTOB  \\\n",
       "Depth  1.000000  0.154383  0.378210 -0.227245 -0.106162  0.193430 -0.220617   \n",
       "Well   0.154383  1.000000  0.121897  0.212442  0.064462 -0.028431  0.211802   \n",
       "GR     0.378210  0.121897  1.000000 -0.263914 -0.241525  0.803216 -0.273568   \n",
       "RT    -0.227245  0.212442 -0.263914  1.000000  0.526236 -0.432393  0.998959   \n",
       "RHOB  -0.106162  0.064462 -0.241525  0.526236  1.000000 -0.547074  0.552995   \n",
       "\n",
       "           RHPI  \n",
       "Depth -0.108266  \n",
       "Well   0.069365  \n",
       "GR    -0.379308  \n",
       "RT     0.524184  \n",
       "RHOB   0.974841  "
      ]
     },
     "execution_count": 40,
     "metadata": {},
     "output_type": "execute_result"
    }
   ],
   "source": [
    "corr_matrix.head()"
   ]
  },
  {
   "cell_type": "code",
   "execution_count": 41,
   "id": "677ff932",
   "metadata": {},
   "outputs": [
    {
     "data": {
      "image/png": "[encoded data removed]",
      "text/plain": [
       "<Figure size 1200x1200 with 2 Axes>"
      ]
     },
     "metadata": {},
     "output_type": "display_data"
    }
   ],
   "source": [
    "fig, ax = plt.subplots(figsize=(12, 12))\n",
    "\n",
    "# Using Seaborn HeatMap\n",
    "sns.heatmap(corr_matrix,  square = True, linewidths = .8, cbar_kws = {'shrink': .4,  'ticks' : [-1, -.5, 0, 0.5, 1]},\n",
    "            cmap = 'coolwarm', vmin = -1,  vmax = 1, annot = True, annot_kws = {'size': 6})\n",
    "\n",
    "# Setting Axis Properties\n",
    "ax.set_yticklabels(corr_matrix.columns, rotation = 0, size = 10)\n",
    "ax.set_xticklabels(corr_matrix.columns, rotation = 90, size =10)\n",
    "ax.set_title(\"Correlation Matrix\", size = 30)\n",
    "\n",
    "sns.set_style({'xtick.bottom': True}, {'ytick.left': True})"
   ]
  },
  {
   "cell_type": "code",
   "execution_count": 42,
   "id": "f1f7ed05",
   "metadata": {},
   "outputs": [
    {
     "name": "stderr",
     "output_type": "stream",
     "text": [
      "C:\\Users\\Gopala Kala\\AppData\\Local\\Temp\\ipykernel_17992\\2141870208.py:1: DeprecationWarning: `np.bool` is a deprecated alias for the builtin `bool`. To silence this warning, use `bool` by itself. Doing this will not modify any behavior and is safe. If you specifically wanted the numpy scalar type, use `np.bool_` here.\n",
      "Deprecated in NumPy 1.20; for more details and guidance: https://numpy.org/devdocs/release/1.20.0-notes.html#deprecations\n",
      "  mask = np.zeros_like(corr_matrix, dtype=np.bool)\n"
     ]
    }
   ],
   "source": [
    "mask = np.zeros_like(corr_matrix, dtype=np.bool)\n",
    "mask[np.triu_indices_from(mask)] = True  ##  indices for the upper-triangle"
   ]
  },
  {
   "cell_type": "code",
   "execution_count": 43,
   "id": "e6194a88",
   "metadata": {},
   "outputs": [
    {
     "data": {
      "text/plain": [
       "array([[ True,  True,  True,  True,  True,  True,  True,  True],\n",
       "       [False,  True,  True,  True,  True,  True,  True,  True],\n",
       "       [False, False,  True,  True,  True,  True,  True,  True],\n",
       "       [False, False, False,  True,  True,  True,  True,  True],\n",
       "       [False, False, False, False,  True,  True,  True,  True],\n",
       "       [False, False, False, False, False,  True,  True,  True],\n",
       "       [False, False, False, False, False, False,  True,  True],\n",
       "       [False, False, False, False, False, False, False,  True]])"
      ]
     },
     "execution_count": 43,
     "metadata": {},
     "output_type": "execute_result"
    }
   ],
   "source": [
    "mask"
   ]
  },
  {
   "cell_type": "code",
   "execution_count": 44,
   "id": "5c89ae8f",
   "metadata": {},
   "outputs": [
    {
     "data": {
      "image/png": "[encoded data removed]",
      "text/plain": [
       "<Figure size 1200x1200 with 2 Axes>"
      ]
     },
     "metadata": {},
     "output_type": "display_data"
    }
   ],
   "source": [
    "fig, ax = plt.subplots(figsize=(12, 12))\n",
    "\n",
    "# Using Seaborn HeatMap\n",
    "sns.heatmap(corr_matrix, mask = mask, square = True, linewidths = .8, cbar_kws = {'shrink': .4,  'ticks' : [-1, -.5, 0, 0.5, 1]},\n",
    "            cmap = 'coolwarm', vmin = -1,  vmax = 1, annot = True, annot_kws = {'size': 6})\n",
    "\n",
    "# Setting Axis Properties\n",
    "ax.set_yticklabels(corr_matrix.columns, rotation = 0, size = 15)\n",
    "ax.set_xticklabels(corr_matrix.columns, rotation = 90, size =15)\n",
    "ax.set_title(\"Correlation Matrix\", size = 30)\n",
    "\n",
    "sns.set_style({'xtick.bottom': True}, {'ytick.left': True})"
   ]
  },
  {
   "cell_type": "markdown",
   "id": "13a0246e",
   "metadata": {},
   "source": []
  },
  {
   "cell_type": "code",
   "execution_count": 45,
   "id": "2b4f9a3b",
   "metadata": {},
   "outputs": [],
   "source": [
    "upper = corr_matrix.where(np.triu(np.ones(corr_matrix.shape), k=1).astype(bool))\n",
    "\n",
    "\n",
    "to_drop = [column for column in upper.columns if any(abs(upper[column]) >= (0.9))]"
   ]
  },
  {
   "cell_type": "code",
   "execution_count": 116,
   "id": "93f0b693",
   "metadata": {},
   "outputs": [
    {
     "data": {
      "text/plain": [
       "['RTOB', 'RHPI']"
      ]
     },
     "execution_count": 116,
     "metadata": {},
     "output_type": "execute_result"
    }
   ],
   "source": [
    "to_drop"
   ]
  },
  {
   "cell_type": "code",
   "execution_count": 46,
   "id": "40278393",
   "metadata": {},
   "outputs": [],
   "source": [
    "X_train.drop(to_drop, axis=1, inplace=True)"
   ]
  },
  {
   "cell_type": "code",
   "execution_count": 47,
   "id": "3aa56210",
   "metadata": {},
   "outputs": [
    {
     "data": {
      "image/png": "[encoded data removed]",
      "text/plain": [
       "<Figure size 1200x1200 with 2 Axes>"
      ]
     },
     "metadata": {},
     "output_type": "display_data"
    }
   ],
   "source": [
    "corr_matrix = X_train.corr(method = \"pearson\")\n",
    "\n",
    "fig, ax = plt.subplots(figsize=(12, 12))\n",
    "\n",
    "# Using Seaborn HeatMap\n",
    "sns.heatmap(corr_matrix, square = True, linewidths = .8, cbar_kws = {'shrink': .4,  'ticks' : [-1, -.5, 0, 0.5, 1]},\n",
    "            cmap = 'coolwarm', vmin = -1,  vmax = 1, annot = True, annot_kws = {'size': 6})\n",
    "\n",
    "# Setting Axis Properties\n",
    "ax.set_yticklabels(corr_matrix.columns, rotation = 0, size = 15)\n",
    "ax.set_xticklabels(corr_matrix.columns, rotation = 90, size =15)\n",
    "ax.set_title(\"Correlation Matrix After Removing Collinear Features\", size = 20)\n",
    "\n",
    "sns.set_style({'xtick.bottom': True}, {'ytick.left': True})"
   ]
  },
  {
   "cell_type": "markdown",
   "id": "e498e18d",
   "metadata": {},
   "source": [
    "### Removing correlated features from test data"
   ]
  },
  {
   "cell_type": "code",
   "execution_count": 48,
   "id": "acf73fd8",
   "metadata": {},
   "outputs": [],
   "source": [
    "X_test.drop(to_drop, axis=1, inplace=True)"
   ]
  },
  {
   "cell_type": "code",
   "execution_count": 49,
   "id": "dbfcec06",
   "metadata": {},
   "outputs": [
    {
     "data": {
      "text/html": [
       "<div>\n",
       "<style scoped>\n",
       "    .dataframe tbody tr th:only-of-type {\n",
       "        vertical-align: middle;\n",
       "    }\n",
       "\n",
       "    .dataframe tbody tr th {\n",
       "        vertical-align: top;\n",
       "    }\n",
       "\n",
       "    .dataframe thead th {\n",
       "        text-align: right;\n",
       "    }\n",
       "</style>\n",
       "<table border=\"1\" class=\"dataframe\">\n",
       "  <thead>\n",
       "    <tr style=\"text-align: right;\">\n",
       "      <th></th>\n",
       "      <th>Depth</th>\n",
       "      <th>Well</th>\n",
       "      <th>GR</th>\n",
       "      <th>RT</th>\n",
       "      <th>RHOB</th>\n",
       "      <th>NPHI</th>\n",
       "    </tr>\n",
       "  </thead>\n",
       "  <tbody>\n",
       "    <tr>\n",
       "      <th>154</th>\n",
       "      <td>0.044658</td>\n",
       "      <td>0.0</td>\n",
       "      <td>0.563796</td>\n",
       "      <td>0.101133</td>\n",
       "      <td>0.023530</td>\n",
       "      <td>0.822754</td>\n",
       "    </tr>\n",
       "    <tr>\n",
       "      <th>1390</th>\n",
       "      <td>0.655881</td>\n",
       "      <td>0.0</td>\n",
       "      <td>0.946056</td>\n",
       "      <td>0.325325</td>\n",
       "      <td>0.558539</td>\n",
       "      <td>0.903878</td>\n",
       "    </tr>\n",
       "    <tr>\n",
       "      <th>1536</th>\n",
       "      <td>0.744830</td>\n",
       "      <td>0.0</td>\n",
       "      <td>0.833642</td>\n",
       "      <td>0.399657</td>\n",
       "      <td>0.618118</td>\n",
       "      <td>0.757792</td>\n",
       "    </tr>\n",
       "    <tr>\n",
       "      <th>1152</th>\n",
       "      <td>0.513588</td>\n",
       "      <td>0.0</td>\n",
       "      <td>0.650354</td>\n",
       "      <td>0.667567</td>\n",
       "      <td>0.820821</td>\n",
       "      <td>0.502002</td>\n",
       "    </tr>\n",
       "    <tr>\n",
       "      <th>16</th>\n",
       "      <td>0.209091</td>\n",
       "      <td>1.0</td>\n",
       "      <td>0.280050</td>\n",
       "      <td>0.620990</td>\n",
       "      <td>0.611712</td>\n",
       "      <td>0.281227</td>\n",
       "    </tr>\n",
       "  </tbody>\n",
       "</table>\n",
       "</div>"
      ],
      "text/plain": [
       "         Depth  Well        GR        RT      RHOB      NPHI\n",
       "154   0.044658   0.0  0.563796  0.101133  0.023530  0.822754\n",
       "1390  0.655881   0.0  0.946056  0.325325  0.558539  0.903878\n",
       "1536  0.744830   0.0  0.833642  0.399657  0.618118  0.757792\n",
       "1152  0.513588   0.0  0.650354  0.667567  0.820821  0.502002\n",
       "16    0.209091   1.0  0.280050  0.620990  0.611712  0.281227"
      ]
     },
     "execution_count": 49,
     "metadata": {},
     "output_type": "execute_result"
    }
   ],
   "source": [
    "X_train.head()"
   ]
  },
  {
   "cell_type": "code",
   "execution_count": 50,
   "id": "2d195ead",
   "metadata": {},
   "outputs": [
    {
     "data": {
      "text/html": [
       "<div>\n",
       "<style scoped>\n",
       "    .dataframe tbody tr th:only-of-type {\n",
       "        vertical-align: middle;\n",
       "    }\n",
       "\n",
       "    .dataframe tbody tr th {\n",
       "        vertical-align: top;\n",
       "    }\n",
       "\n",
       "    .dataframe thead th {\n",
       "        text-align: right;\n",
       "    }\n",
       "</style>\n",
       "<table border=\"1\" class=\"dataframe\">\n",
       "  <thead>\n",
       "    <tr style=\"text-align: right;\">\n",
       "      <th></th>\n",
       "      <th>Depth</th>\n",
       "      <th>Well</th>\n",
       "      <th>GR</th>\n",
       "      <th>RT</th>\n",
       "      <th>RHOB</th>\n",
       "      <th>NPHI</th>\n",
       "    </tr>\n",
       "  </thead>\n",
       "  <tbody>\n",
       "    <tr>\n",
       "      <th>1132</th>\n",
       "      <td>0.901420</td>\n",
       "      <td>1.0</td>\n",
       "      <td>0.679642</td>\n",
       "      <td>0.251264</td>\n",
       "      <td>0.312653</td>\n",
       "      <td>0.355629</td>\n",
       "    </tr>\n",
       "    <tr>\n",
       "      <th>1072</th>\n",
       "      <td>0.467113</td>\n",
       "      <td>0.0</td>\n",
       "      <td>0.406691</td>\n",
       "      <td>0.713024</td>\n",
       "      <td>0.926927</td>\n",
       "      <td>0.206380</td>\n",
       "    </tr>\n",
       "    <tr>\n",
       "      <th>945</th>\n",
       "      <td>0.786392</td>\n",
       "      <td>1.0</td>\n",
       "      <td>0.635371</td>\n",
       "      <td>0.218432</td>\n",
       "      <td>0.248130</td>\n",
       "      <td>0.583694</td>\n",
       "    </tr>\n",
       "    <tr>\n",
       "      <th>2007</th>\n",
       "      <td>0.978916</td>\n",
       "      <td>0.0</td>\n",
       "      <td>0.632448</td>\n",
       "      <td>0.633442</td>\n",
       "      <td>0.588088</td>\n",
       "      <td>0.850998</td>\n",
       "    </tr>\n",
       "    <tr>\n",
       "      <th>444</th>\n",
       "      <td>0.137322</td>\n",
       "      <td>0.0</td>\n",
       "      <td>0.131644</td>\n",
       "      <td>0.890038</td>\n",
       "      <td>0.292305</td>\n",
       "      <td>0.432432</td>\n",
       "    </tr>\n",
       "  </tbody>\n",
       "</table>\n",
       "</div>"
      ],
      "text/plain": [
       "         Depth  Well        GR        RT      RHOB      NPHI\n",
       "1132  0.901420   1.0  0.679642  0.251264  0.312653  0.355629\n",
       "1072  0.467113   0.0  0.406691  0.713024  0.926927  0.206380\n",
       "945   0.786392   1.0  0.635371  0.218432  0.248130  0.583694\n",
       "2007  0.978916   0.0  0.632448  0.633442  0.588088  0.850998\n",
       "444   0.137322   0.0  0.131644  0.890038  0.292305  0.432432"
      ]
     },
     "execution_count": 50,
     "metadata": {},
     "output_type": "execute_result"
    }
   ],
   "source": [
    "X_test.head()"
   ]
  },
  {
   "cell_type": "code",
   "execution_count": null,
   "id": "161fd1c1",
   "metadata": {},
   "outputs": [],
   "source": []
  },
  {
   "cell_type": "markdown",
   "id": "0fb4a254",
   "metadata": {},
   "source": [
    "### Performing Scaling"
   ]
  },
  {
   "cell_type": "code",
   "execution_count": 51,
   "id": "e6cc2aad",
   "metadata": {},
   "outputs": [],
   "source": [
    "from sklearn.preprocessing import StandardScaler\n",
    "\n",
    "scl = StandardScaler()\n",
    "\n",
    "X_train_s = scl.fit_transform(X_train) ## fit and transform the train\n",
    "\n",
    "X_test_s = scl.transform(X_test)"
   ]
  },
  {
   "cell_type": "markdown",
   "id": "ed20c5c0",
   "metadata": {},
   "source": [
    "### F-Classif and Mutual Info"
   ]
  },
  {
   "cell_type": "code",
   "execution_count": 52,
   "id": "8e49a755",
   "metadata": {},
   "outputs": [],
   "source": [
    "from sklearn.feature_selection import f_classif\n",
    "F,p = f_classif(X_train_s, y_train)"
   ]
  },
  {
   "cell_type": "code",
   "execution_count": 53,
   "id": "01735ade",
   "metadata": {},
   "outputs": [
    {
     "data": {
      "text/plain": [
       "array([  68.19863561,    2.80918999, 1828.3889148 ,  222.63799106,\n",
       "        519.36313672, 2260.26083275])"
      ]
     },
     "execution_count": 53,
     "metadata": {},
     "output_type": "execute_result"
    }
   ],
   "source": [
    "F"
   ]
  },
  {
   "cell_type": "code",
   "execution_count": 54,
   "id": "d53d6072",
   "metadata": {},
   "outputs": [
    {
     "data": {
      "text/plain": [
       "array([2.07279679e-042, 3.81656908e-002, 0.00000000e+000, 3.32847882e-128,\n",
       "       4.36919478e-263, 0.00000000e+000])"
      ]
     },
     "execution_count": 54,
     "metadata": {},
     "output_type": "execute_result"
    }
   ],
   "source": [
    "p"
   ]
  },
  {
   "cell_type": "code",
   "execution_count": 55,
   "id": "135a365f",
   "metadata": {},
   "outputs": [
    {
     "data": {
      "text/plain": [
       "Text(0.5, 0, 'features')"
      ]
     },
     "execution_count": 55,
     "metadata": {},
     "output_type": "execute_result"
    },
    {
     "data": {
      "image/png": "[encoded data removed]",
      "text/plain": [
       "<Figure size 640x480 with 1 Axes>"
      ]
     },
     "metadata": {},
     "output_type": "display_data"
    }
   ],
   "source": [
    "plt.figure()\n",
    "plt.plot(F, 'o')\n",
    "plt.plot(15*np.ones(len(F)))\n",
    "plt.title('F Score')\n",
    "plt.ylabel('F values')\n",
    "plt.xlabel('features')"
   ]
  },
  {
   "cell_type": "code",
   "execution_count": 56,
   "id": "e482f67d",
   "metadata": {},
   "outputs": [
    {
     "data": {
      "text/plain": [
       "Text(0.5, 0, 'features')"
      ]
     },
     "execution_count": 56,
     "metadata": {},
     "output_type": "execute_result"
    },
    {
     "data": {
      "image/png": "[encoded data removed]",
      "text/plain": [
       "<Figure size 640x480 with 1 Axes>"
      ]
     },
     "metadata": {},
     "output_type": "display_data"
    }
   ],
   "source": [
    "plt.figure()\n",
    "plt.semilogy(p, 'o')\n",
    "plt.semilogy(0.01*np.ones(len(p)), '--')\n",
    "plt.title('P SCORE')\n",
    "plt.ylabel('p value')\n",
    "plt.xlabel('features')"
   ]
  },
  {
   "cell_type": "code",
   "execution_count": 57,
   "id": "4992de71",
   "metadata": {},
   "outputs": [],
   "source": [
    "from sklearn.feature_selection import mutual_info_classif\n",
    "mi = mutual_info_classif(X_train_s, y_train)"
   ]
  },
  {
   "cell_type": "code",
   "execution_count": 58,
   "id": "b2f5f362",
   "metadata": {},
   "outputs": [
    {
     "data": {
      "text/plain": [
       "Text(0.5, 0, 'features')"
      ]
     },
     "execution_count": 58,
     "metadata": {},
     "output_type": "execute_result"
    },
    {
     "data": {
      "image/png": "[encoded data removed]",
      "text/plain": [
       "<Figure size 640x480 with 1 Axes>"
      ]
     },
     "metadata": {},
     "output_type": "display_data"
    }
   ],
   "source": [
    "plt.figure()\n",
    "plt.plot(mi, 'o')\n",
    "plt.plot(0.3*np.ones(len(mi)))\n",
    "plt.title('MI SCORE')\n",
    "plt.ylabel('mi value')\n",
    "plt.xlabel('features')"
   ]
  },
  {
   "cell_type": "code",
   "execution_count": 59,
   "id": "6797d639",
   "metadata": {},
   "outputs": [
    {
     "name": "stdout",
     "output_type": "stream",
     "text": [
      "no. of significant features: 5\n"
     ]
    }
   ],
   "source": [
    "print('no. of significant features: {}'.format(len(p[((F>15)&(p<0.01))|(mi>0.3)])))"
   ]
  },
  {
   "cell_type": "code",
   "execution_count": 60,
   "id": "af266eff",
   "metadata": {},
   "outputs": [
    {
     "data": {
      "text/plain": [
       "(2540, 6)"
      ]
     },
     "execution_count": 60,
     "metadata": {},
     "output_type": "execute_result"
    }
   ],
   "source": [
    "X_train_s.shape"
   ]
  },
  {
   "cell_type": "code",
   "execution_count": 61,
   "id": "3bfb4fad",
   "metadata": {},
   "outputs": [],
   "source": [
    "X_train_s_r = X_train_s[:,(F > 15) | (mi > 0.3)]"
   ]
  },
  {
   "cell_type": "code",
   "execution_count": 62,
   "id": "9448a763",
   "metadata": {},
   "outputs": [
    {
     "data": {
      "text/plain": [
       "(2540, 5)"
      ]
     },
     "execution_count": 62,
     "metadata": {},
     "output_type": "execute_result"
    }
   ],
   "source": [
    "X_train_s_r.shape"
   ]
  },
  {
   "cell_type": "code",
   "execution_count": 63,
   "id": "97359e46",
   "metadata": {},
   "outputs": [
    {
     "data": {
      "text/plain": [
       "numpy.ndarray"
      ]
     },
     "execution_count": 63,
     "metadata": {},
     "output_type": "execute_result"
    }
   ],
   "source": [
    "type(X_train_s_r)"
   ]
  },
  {
   "cell_type": "code",
   "execution_count": 64,
   "id": "6104bfc7",
   "metadata": {},
   "outputs": [],
   "source": [
    "X_test_s_r = X_test_s[:,(F > 15) | (mi > 0.3)]"
   ]
  },
  {
   "cell_type": "markdown",
   "id": "348f77c7",
   "metadata": {},
   "source": [
    "### Train 2 clustering techniques on features of the training dataset to generate cluster labels. Apply\n",
    "### the clustering models on training and testing datasets. The two sets of cluster labels from the\n",
    "### two techniques, respectively, should be used as 2 additional features. Do not leak information\n",
    "### between training and testing datasets. Learn from train, apply on train and test. "
   ]
  },
  {
   "cell_type": "code",
   "execution_count": 65,
   "id": "aa7357c4",
   "metadata": {},
   "outputs": [
    {
     "data": {
      "text/plain": [
       "4"
      ]
     },
     "execution_count": 65,
     "metadata": {},
     "output_type": "execute_result"
    }
   ],
   "source": [
    "y_train.nunique()"
   ]
  },
  {
   "cell_type": "code",
   "execution_count": 66,
   "id": "37419746",
   "metadata": {},
   "outputs": [
    {
     "data": {
      "text/plain": [
       "4"
      ]
     },
     "execution_count": 66,
     "metadata": {},
     "output_type": "execute_result"
    }
   ],
   "source": [
    "y_test.nunique()"
   ]
  },
  {
   "cell_type": "markdown",
   "id": "1606d345",
   "metadata": {},
   "source": [
    "# So a total of 4 class labels"
   ]
  },
  {
   "cell_type": "code",
   "execution_count": 67,
   "id": "cbb418ac",
   "metadata": {},
   "outputs": [],
   "source": [
    "from sklearn.cluster import KMeans"
   ]
  },
  {
   "cell_type": "code",
   "execution_count": 68,
   "id": "4f299de8",
   "metadata": {},
   "outputs": [],
   "source": [
    "kmeans = KMeans(n_clusters=4, random_state=10)"
   ]
  },
  {
   "cell_type": "code",
   "execution_count": 69,
   "id": "b3579062",
   "metadata": {},
   "outputs": [
    {
     "name": "stderr",
     "output_type": "stream",
     "text": [
      "C:\\Users\\Gopala Kala\\AppData\\Local\\Programs\\Python\\Python310\\lib\\site-packages\\sklearn\\cluster\\_kmeans.py:870: FutureWarning: The default value of `n_init` will change from 10 to 'auto' in 1.4. Set the value of `n_init` explicitly to suppress the warning\n",
      "  warnings.warn(\n"
     ]
    }
   ],
   "source": [
    "cluster_labels = kmeans.fit_predict(X_train_s_r)"
   ]
  },
  {
   "cell_type": "code",
   "execution_count": 70,
   "id": "1c478bdf",
   "metadata": {},
   "outputs": [
    {
     "data": {
      "text/plain": [
       "array([2, 3, 3, ..., 1, 2, 1])"
      ]
     },
     "execution_count": 70,
     "metadata": {},
     "output_type": "execute_result"
    }
   ],
   "source": [
    "cluster_labels"
   ]
  },
  {
   "cell_type": "code",
   "execution_count": 71,
   "id": "d4b69f49",
   "metadata": {},
   "outputs": [
    {
     "data": {
      "text/plain": [
       "154     2\n",
       "1390    1\n",
       "1536    1\n",
       "1152    2\n",
       "16      0\n",
       "       ..\n",
       "1061    0\n",
       "821     2\n",
       "897     0\n",
       "296     2\n",
       "854     0\n",
       "Name: Facies, Length: 2540, dtype: int32"
      ]
     },
     "execution_count": 71,
     "metadata": {},
     "output_type": "execute_result"
    }
   ],
   "source": [
    "y_train"
   ]
  },
  {
   "cell_type": "code",
   "execution_count": 72,
   "id": "fd14b39d",
   "metadata": {},
   "outputs": [],
   "source": [
    "kmeans_cluster_labels_test = kmeans.predict(X_test_s_r)"
   ]
  },
  {
   "cell_type": "code",
   "execution_count": 73,
   "id": "0175c32a",
   "metadata": {},
   "outputs": [],
   "source": [
    "from sklearn.cluster import KMeans, AgglomerativeClustering"
   ]
  },
  {
   "cell_type": "code",
   "execution_count": 74,
   "id": "deba038c",
   "metadata": {},
   "outputs": [],
   "source": [
    "agglomerative = AgglomerativeClustering(n_clusters=4)"
   ]
  },
  {
   "cell_type": "code",
   "execution_count": 75,
   "id": "a6fdbc08",
   "metadata": {},
   "outputs": [],
   "source": [
    "agglomerative_cluster_labels = agglomerative.fit_predict(X_train_s_r)\n"
   ]
  },
  {
   "cell_type": "code",
   "execution_count": 76,
   "id": "2a7d37b7",
   "metadata": {},
   "outputs": [],
   "source": [
    "agglomerative_cluster_labels_test = agglomerative.fit_predict(X_test_s_r)"
   ]
  },
  {
   "cell_type": "code",
   "execution_count": 77,
   "id": "080afc88",
   "metadata": {},
   "outputs": [],
   "source": [
    "X_train_s_r_c = np.column_stack((X_train_s_r, cluster_labels, agglomerative_cluster_labels))\n",
    "\n",
    "# Add cluster labels as additional features to the testing dataset\n",
    "X_test_s_r_c = np.column_stack((X_test_s_r, kmeans_cluster_labels_test, agglomerative_cluster_labels_test))"
   ]
  },
  {
   "cell_type": "code",
   "execution_count": 78,
   "id": "788cf2c7",
   "metadata": {},
   "outputs": [
    {
     "data": {
      "text/plain": [
       "(2540, 7)"
      ]
     },
     "execution_count": 78,
     "metadata": {},
     "output_type": "execute_result"
    }
   ],
   "source": [
    "X_train_s_r_c.shape"
   ]
  },
  {
   "cell_type": "code",
   "execution_count": 79,
   "id": "cb9ffb04",
   "metadata": {},
   "outputs": [
    {
     "data": {
      "text/plain": [
       "array([[-1.57673518,  0.22091113, -1.38117679, ...,  1.11759803,\n",
       "         2.        ,  2.        ],\n",
       "       [ 0.53976565,  1.54456794, -0.60485539, ...,  1.39850576,\n",
       "         3.        ,  0.        ],\n",
       "       [ 0.84777264,  1.1553115 , -0.34746108, ...,  0.89265354,\n",
       "         3.        ,  0.        ],\n",
       "       ...,\n",
       "       [-0.49026629, -1.3334611 ,  0.97183959, ..., -0.90641015,\n",
       "         1.        ,  1.        ],\n",
       "       [-1.41633209,  0.2680177 , -1.54939901, ...,  0.65997998,\n",
       "         2.        ,  2.        ],\n",
       "       [-0.56888532, -1.21168996,  0.29403084, ..., -0.80949115,\n",
       "         1.        ,  1.        ]])"
      ]
     },
     "execution_count": 79,
     "metadata": {},
     "output_type": "execute_result"
    }
   ],
   "source": [
    "X_train_s_r_c"
   ]
  },
  {
   "cell_type": "code",
   "execution_count": 122,
   "id": "9c2a2e98",
   "metadata": {},
   "outputs": [
    {
     "data": {
      "text/plain": [
       "numpy.ndarray"
      ]
     },
     "execution_count": 122,
     "metadata": {},
     "output_type": "execute_result"
    }
   ],
   "source": [
    "type(X_train_s_r_c)"
   ]
  },
  {
   "cell_type": "markdown",
   "id": "585ac5a1",
   "metadata": {},
   "source": [
    "# 3. Use all 9 techniques to build ML models for facies classification. Perform hyperparameter optimization, find the best performing model for each technique.\n",
    "1. Logistic regression\n",
    "2. K-Nearest Neighbor\n",
    "3. Gaussian Naive Bayes\n",
    "4. Support vector (linear)\n",
    "5. Support vector (RBF)\n",
    "6. Adaboost\n",
    "7. Random forest\n",
    "8. Gradient Boosting\n",
    "9. Neural Network"
   ]
  },
  {
   "cell_type": "markdown",
   "id": "6eb4ffe1",
   "metadata": {},
   "source": [
    "# Logistic Regression"
   ]
  },
  {
   "cell_type": "code",
   "execution_count": 80,
   "id": "7a5de676",
   "metadata": {},
   "outputs": [
    {
     "name": "stdout",
     "output_type": "stream",
     "text": [
      "Fitting 5 folds for each of 12 candidates, totalling 60 fits\n",
      "[CV 1/5] END .................C=0.001, penalty=l1;, score=nan total time=   0.0s\n",
      "[CV 2/5] END .................C=0.001, penalty=l1;, score=nan total time=   0.0s\n",
      "[CV 3/5] END .................C=0.001, penalty=l1;, score=nan total time=   0.0s\n",
      "[CV 4/5] END .................C=0.001, penalty=l1;, score=nan total time=   0.0s\n",
      "[CV 5/5] END .................C=0.001, penalty=l1;, score=nan total time=   0.0s\n",
      "[CV 1/5] END ...............C=0.001, penalty=l2;, score=0.772 total time=   0.0s\n",
      "[CV 2/5] END ...............C=0.001, penalty=l2;, score=0.770 total time=   0.0s\n",
      "[CV 3/5] END ...............C=0.001, penalty=l2;, score=0.748 total time=   0.0s\n",
      "[CV 4/5] END ...............C=0.001, penalty=l2;, score=0.760 total time=   0.0s\n",
      "[CV 5/5] END ...............C=0.001, penalty=l2;, score=0.750 total time=   0.0s\n",
      "[CV 1/5] END ..................C=0.01, penalty=l1;, score=nan total time=   0.0s\n",
      "[CV 2/5] END ..................C=0.01, penalty=l1;, score=nan total time=   0.0s\n",
      "[CV 3/5] END ..................C=0.01, penalty=l1;, score=nan total time=   0.0s\n",
      "[CV 4/5] END ..................C=0.01, penalty=l1;, score=nan total time=   0.0s\n",
      "[CV 5/5] END ..................C=0.01, penalty=l1;, score=nan total time=   0.0s\n",
      "[CV 1/5] END ................C=0.01, penalty=l2;, score=0.827 total time=   0.0s\n",
      "[CV 2/5] END ................C=0.01, penalty=l2;, score=0.826 total time=   0.0s\n",
      "[CV 3/5] END ................C=0.01, penalty=l2;, score=0.790 total time=   0.0s\n",
      "[CV 4/5] END ................C=0.01, penalty=l2;, score=0.825 total time=   0.0s\n",
      "[CV 5/5] END ................C=0.01, penalty=l2;, score=0.806 total time=   0.0s\n",
      "[CV 1/5] END ...................C=0.1, penalty=l1;, score=nan total time=   0.0s\n",
      "[CV 2/5] END ...................C=0.1, penalty=l1;, score=nan total time=   0.0s\n",
      "[CV 3/5] END ...................C=0.1, penalty=l1;, score=nan total time=   0.0s\n",
      "[CV 4/5] END ...................C=0.1, penalty=l1;, score=nan total time=   0.0s\n",
      "[CV 5/5] END ...................C=0.1, penalty=l1;, score=nan total time=   0.0s\n",
      "[CV 1/5] END .................C=0.1, penalty=l2;, score=0.846 total time=   0.0s\n",
      "[CV 2/5] END .................C=0.1, penalty=l2;, score=0.865 total time=   0.0s\n",
      "[CV 3/5] END .................C=0.1, penalty=l2;, score=0.833 total time=   0.0s\n",
      "[CV 4/5] END .................C=0.1, penalty=l2;, score=0.849 total time=   0.0s\n",
      "[CV 5/5] END .................C=0.1, penalty=l2;, score=0.831 total time=   0.0s\n",
      "[CV 1/5] END .....................C=1, penalty=l1;, score=nan total time=   0.0s\n",
      "[CV 2/5] END .....................C=1, penalty=l1;, score=nan total time=   0.0s\n",
      "[CV 3/5] END .....................C=1, penalty=l1;, score=nan total time=   0.0s\n",
      "[CV 4/5] END .....................C=1, penalty=l1;, score=nan total time=   0.0s\n",
      "[CV 5/5] END .....................C=1, penalty=l1;, score=nan total time=   0.0s\n",
      "[CV 1/5] END ...................C=1, penalty=l2;, score=0.868 total time=   0.0s\n",
      "[CV 2/5] END ...................C=1, penalty=l2;, score=0.876 total time=   0.0s\n",
      "[CV 3/5] END ...................C=1, penalty=l2;, score=0.857 total time=   0.0s\n",
      "[CV 4/5] END ...................C=1, penalty=l2;, score=0.858 total time=   0.0s\n",
      "[CV 5/5] END ...................C=1, penalty=l2;, score=0.830 total time=   0.0s\n",
      "[CV 1/5] END ....................C=10, penalty=l1;, score=nan total time=   0.0s\n",
      "[CV 2/5] END ....................C=10, penalty=l1;, score=nan total time=   0.0s\n",
      "[CV 3/5] END ....................C=10, penalty=l1;, score=nan total time=   0.0s\n",
      "[CV 4/5] END ....................C=10, penalty=l1;, score=nan total time=   0.0s\n",
      "[CV 5/5] END ....................C=10, penalty=l1;, score=nan total time=   0.0s\n",
      "[CV 1/5] END ..................C=10, penalty=l2;, score=0.870 total time=   0.0s\n",
      "[CV 2/5] END ..................C=10, penalty=l2;, score=0.883 total time=   0.0s\n",
      "[CV 3/5] END ..................C=10, penalty=l2;, score=0.860 total time=   0.0s\n",
      "[CV 4/5] END ..................C=10, penalty=l2;, score=0.862 total time=   0.0s\n",
      "[CV 5/5] END ..................C=10, penalty=l2;, score=0.837 total time=   0.0s\n",
      "[CV 1/5] END ...................C=100, penalty=l1;, score=nan total time=   0.0s\n",
      "[CV 2/5] END ...................C=100, penalty=l1;, score=nan total time=   0.0s\n",
      "[CV 3/5] END ...................C=100, penalty=l1;, score=nan total time=   0.0s\n",
      "[CV 4/5] END ...................C=100, penalty=l1;, score=nan total time=   0.0s\n",
      "[CV 5/5] END ...................C=100, penalty=l1;, score=nan total time=   0.0s\n",
      "[CV 1/5] END .................C=100, penalty=l2;, score=0.869 total time=   0.0s\n",
      "[CV 2/5] END .................C=100, penalty=l2;, score=0.883 total time=   0.0s\n",
      "[CV 3/5] END .................C=100, penalty=l2;, score=0.857 total time=   0.0s\n",
      "[CV 4/5] END .................C=100, penalty=l2;, score=0.860 total time=   0.0s\n",
      "[CV 5/5] END .................C=100, penalty=l2;, score=0.837 total time=   0.0s\n",
      "Best parameters found for Logistic Regression: {'C': 10, 'penalty': 'l2'}\n"
     ]
    },
    {
     "name": "stderr",
     "output_type": "stream",
     "text": [
      "C:\\Users\\Gopala Kala\\AppData\\Local\\Programs\\Python\\Python310\\lib\\site-packages\\sklearn\\linear_model\\_logistic.py:458: ConvergenceWarning: lbfgs failed to converge (status=1):\n",
      "STOP: TOTAL NO. of ITERATIONS REACHED LIMIT.\n",
      "\n",
      "Increase the number of iterations (max_iter) or scale the data as shown in:\n",
      "    https://scikit-learn.org/stable/modules/preprocessing.html\n",
      "Please also refer to the documentation for alternative solver options:\n",
      "    https://scikit-learn.org/stable/modules/linear_model.html#logistic-regression\n",
      "  n_iter_i = _check_optimize_result(\n",
      "C:\\Users\\Gopala Kala\\AppData\\Local\\Programs\\Python\\Python310\\lib\\site-packages\\sklearn\\model_selection\\_validation.py:378: FitFailedWarning: \n",
      "30 fits failed out of a total of 60.\n",
      "The score on these train-test partitions for these parameters will be set to nan.\n",
      "If these failures are not expected, you can try to debug them by setting error_score='raise'.\n",
      "\n",
      "Below are more details about the failures:\n",
      "--------------------------------------------------------------------------------\n",
      "30 fits failed with the following error:\n",
      "Traceback (most recent call last):\n",
      "  File \"C:\\Users\\Gopala Kala\\AppData\\Local\\Programs\\Python\\Python310\\lib\\site-packages\\sklearn\\model_selection\\_validation.py\", line 686, in _fit_and_score\n",
      "    estimator.fit(X_train, y_train, **fit_params)\n",
      "  File \"C:\\Users\\Gopala Kala\\AppData\\Local\\Programs\\Python\\Python310\\lib\\site-packages\\sklearn\\linear_model\\_logistic.py\", line 1162, in fit\n",
      "    solver = _check_solver(self.solver, self.penalty, self.dual)\n",
      "  File \"C:\\Users\\Gopala Kala\\AppData\\Local\\Programs\\Python\\Python310\\lib\\site-packages\\sklearn\\linear_model\\_logistic.py\", line 54, in _check_solver\n",
      "    raise ValueError(\n",
      "ValueError: Solver lbfgs supports only 'l2' or 'none' penalties, got l1 penalty.\n",
      "\n",
      "  warnings.warn(some_fits_failed_message, FitFailedWarning)\n",
      "C:\\Users\\Gopala Kala\\AppData\\Local\\Programs\\Python\\Python310\\lib\\site-packages\\sklearn\\model_selection\\_search.py:952: UserWarning: One or more of the test scores are non-finite: [       nan 0.76006482        nan 0.81492138        nan 0.84461049\n",
      "        nan 0.85793014        nan 0.86260128        nan 0.86122851]\n",
      "  warnings.warn(\n"
     ]
    }
   ],
   "source": [
    "from sklearn.linear_model import LogisticRegression\n",
    "from sklearn.model_selection import GridSearchCV\n",
    "\n",
    "# Define the hyperparameter grid\n",
    "param_grid_lr = {'penalty': ['l1', 'l2'], 'C': [0.001, 0.01, 0.1, 1, 10, 100]}\n",
    "\n",
    "# Initialize the model\n",
    "lr = LogisticRegression()\n",
    "\n",
    "# Perform hyperparameter optimization\n",
    "grid_search_lr = GridSearchCV(lr, param_grid_lr, cv=5, scoring='f1_weighted', verbose=3)\n",
    "grid_search_lr.fit(X_train_s_r_c, y_train)\n",
    "\n",
    "# Get the best model\n",
    "best_lr = grid_search_lr.best_estimator_\n",
    "\n",
    "# Print best parameters found\n",
    "print(\"Best parameters found for Logistic Regression:\", grid_search_lr.best_params_)\n"
   ]
  },
  {
   "cell_type": "code",
   "execution_count": 81,
   "id": "6a4ee991",
   "metadata": {},
   "outputs": [
    {
     "data": {
      "text/plain": [
       "0.8648393386796939"
      ]
     },
     "execution_count": 81,
     "metadata": {},
     "output_type": "execute_result"
    }
   ],
   "source": [
    "grid_search_lr.score(X_train_s_r_c, y_train)"
   ]
  },
  {
   "cell_type": "code",
   "execution_count": 82,
   "id": "bc978a61",
   "metadata": {},
   "outputs": [
    {
     "data": {
      "text/plain": [
       "0.862601277233531"
      ]
     },
     "execution_count": 82,
     "metadata": {},
     "output_type": "execute_result"
    }
   ],
   "source": [
    "grid_search_lr.best_score_"
   ]
  },
  {
   "cell_type": "code",
   "execution_count": 83,
   "id": "75aaeebf",
   "metadata": {},
   "outputs": [],
   "source": [
    "y_train_pred_lr = grid_search_lr.predict(X_train_s_r_c)\n",
    "y_test_pred_lr = grid_search_lr.predict(X_test_s_r_c)"
   ]
  },
  {
   "cell_type": "code",
   "execution_count": 84,
   "id": "36493803",
   "metadata": {},
   "outputs": [],
   "source": [
    "from sklearn.metrics import f1_score\n",
    "\n",
    "f1_score_train_lr = f1_score(y_train, y_train_pred_lr, average='weighted')\n",
    "f1_score_test_lr = f1_score(y_test, y_test_pred_lr, average='weighted')"
   ]
  },
  {
   "cell_type": "code",
   "execution_count": 85,
   "id": "3f9a91c5",
   "metadata": {},
   "outputs": [
    {
     "name": "stdout",
     "output_type": "stream",
     "text": [
      "Memoriazation Performance: 0.8648393386796939\n",
      "Generalization Performance: 0.8304918311500147\n"
     ]
    }
   ],
   "source": [
    "print(\"Memoriazation Performance:\", f1_score_train_lr)\n",
    "print(\"Generalization Performance:\", f1_score_test_lr)"
   ]
  },
  {
   "cell_type": "markdown",
   "id": "faddafcd",
   "metadata": {},
   "source": [
    "# KNN"
   ]
  },
  {
   "cell_type": "code",
   "execution_count": 86,
   "id": "7dab1a35",
   "metadata": {},
   "outputs": [
    {
     "name": "stdout",
     "output_type": "stream",
     "text": [
      "Fitting 5 folds for each of 5 candidates, totalling 25 fits\n",
      "[CV 1/5] END .....................n_neighbors=3;, score=0.895 total time=   0.0s\n",
      "[CV 2/5] END .....................n_neighbors=3;, score=0.907 total time=   0.0s\n",
      "[CV 3/5] END .....................n_neighbors=3;, score=0.879 total time=   0.0s\n",
      "[CV 4/5] END .....................n_neighbors=3;, score=0.880 total time=   0.0s\n",
      "[CV 5/5] END .....................n_neighbors=3;, score=0.871 total time=   0.0s\n",
      "[CV 1/5] END .....................n_neighbors=5;, score=0.878 total time=   0.0s\n",
      "[CV 2/5] END .....................n_neighbors=5;, score=0.903 total time=   0.0s\n",
      "[CV 3/5] END .....................n_neighbors=5;, score=0.873 total time=   0.0s\n",
      "[CV 4/5] END .....................n_neighbors=5;, score=0.879 total time=   0.0s\n",
      "[CV 5/5] END .....................n_neighbors=5;, score=0.859 total time=   0.0s\n",
      "[CV 1/5] END .....................n_neighbors=7;, score=0.886 total time=   0.0s\n",
      "[CV 2/5] END .....................n_neighbors=7;, score=0.888 total time=   0.0s\n",
      "[CV 3/5] END .....................n_neighbors=7;, score=0.874 total time=   0.0s\n",
      "[CV 4/5] END .....................n_neighbors=7;, score=0.889 total time=   0.0s\n",
      "[CV 5/5] END .....................n_neighbors=7;, score=0.862 total time=   0.0s\n",
      "[CV 1/5] END .....................n_neighbors=9;, score=0.875 total time=   0.0s\n",
      "[CV 2/5] END .....................n_neighbors=9;, score=0.887 total time=   0.0s\n",
      "[CV 3/5] END .....................n_neighbors=9;, score=0.866 total time=   0.0s\n",
      "[CV 4/5] END .....................n_neighbors=9;, score=0.883 total time=   0.0s\n",
      "[CV 5/5] END .....................n_neighbors=9;, score=0.868 total time=   0.0s\n",
      "[CV 1/5] END ....................n_neighbors=11;, score=0.879 total time=   0.0s\n",
      "[CV 2/5] END ....................n_neighbors=11;, score=0.887 total time=   0.0s\n",
      "[CV 3/5] END ....................n_neighbors=11;, score=0.871 total time=   0.0s\n",
      "[CV 4/5] END ....................n_neighbors=11;, score=0.875 total time=   0.0s\n",
      "[CV 5/5] END ....................n_neighbors=11;, score=0.876 total time=   0.0s\n",
      "Best parameters found for K-Nearest Neighbor: {'n_neighbors': 3}\n",
      "Memorization Performance: 0.9364182796754639\n",
      "Generalization Performance: 0.8531609084876551\n"
     ]
    }
   ],
   "source": [
    "from sklearn.neighbors import KNeighborsClassifier\n",
    "\n",
    "# Define the hyperparameter grid\n",
    "param_grid_knn = {'n_neighbors': [3, 5, 7, 9, 11]}\n",
    "\n",
    "# Initialize the model\n",
    "knn = KNeighborsClassifier()\n",
    "\n",
    "# Perform hyperparameter optimization\n",
    "grid_search_knn = GridSearchCV(knn, param_grid_knn, cv=5, scoring='f1_weighted', verbose=3)\n",
    "grid_search_knn.fit(X_train_s_r_c, y_train)\n",
    "\n",
    "# Get the best model\n",
    "best_knn = grid_search_knn.best_estimator_\n",
    "\n",
    "# Print best parameters found\n",
    "print(\"Best parameters found for K-Nearest Neighbor:\", grid_search_knn.best_params_)\n",
    "\n",
    "# Evaluate the model\n",
    "knn_train_pred = grid_search_knn.predict(X_train_s_r_c)\n",
    "knn_test_pred = grid_search_knn.predict(X_test_s_r_c)\n",
    "\n",
    "f1_score_train_knn = f1_score(y_train, knn_train_pred, average='weighted')\n",
    "f1_score_test_knn = f1_score(y_test, knn_test_pred, average='weighted')\n",
    "\n",
    "print(\"Memorization Performance:\", f1_score_train_knn)\n",
    "print(\"Generalization Performance:\", f1_score_test_knn)\n"
   ]
  },
  {
   "cell_type": "markdown",
   "id": "124d5a68",
   "metadata": {},
   "source": [
    "# GNB"
   ]
  },
  {
   "cell_type": "code",
   "execution_count": 87,
   "id": "31565dbf",
   "metadata": {},
   "outputs": [
    {
     "name": "stdout",
     "output_type": "stream",
     "text": [
      "Memorization Performance: 0.8224186614458429\n",
      "Generalization Performance: 0.7698433049477661\n"
     ]
    }
   ],
   "source": [
    "from sklearn.naive_bayes import GaussianNB\n",
    "\n",
    "# Initialize Gaussian Naive Bayes classifier\n",
    "nb = GaussianNB()\n",
    "\n",
    "# Fit the model\n",
    "nb.fit(X_train_s_r_c, y_train)\n",
    "\n",
    "# Evaluate the model\n",
    "nb_train_pred = nb.predict(X_train_s_r_c)\n",
    "nb_test_pred = nb.predict(X_test_s_r_c)\n",
    "\n",
    "\n",
    "f1_score_train_nb = f1_score(y_train, nb_train_pred, average='weighted')\n",
    "f1_score_test_nb = f1_score(y_test, nb_test_pred, average='weighted')\n",
    "\n",
    "print(\"Memorization Performance:\", f1_score_train_nb)\n",
    "print(\"Generalization Performance:\", f1_score_test_nb)\n"
   ]
  },
  {
   "cell_type": "code",
   "execution_count": null,
   "id": "c1806238",
   "metadata": {},
   "outputs": [],
   "source": []
  },
  {
   "cell_type": "markdown",
   "id": "8e3bc542",
   "metadata": {},
   "source": [
    "# SVC Linear"
   ]
  },
  {
   "cell_type": "code",
   "execution_count": 88,
   "id": "da513eb6",
   "metadata": {},
   "outputs": [
    {
     "name": "stdout",
     "output_type": "stream",
     "text": [
      "Fitting 5 folds for each of 6 candidates, totalling 30 fits\n",
      "[CV 1/5] END ...........................C=0.001;, score=0.792 total time=   0.3s\n",
      "[CV 2/5] END ...........................C=0.001;, score=0.791 total time=   0.3s\n",
      "[CV 3/5] END ...........................C=0.001;, score=0.762 total time=   0.2s\n",
      "[CV 4/5] END ...........................C=0.001;, score=0.756 total time=   0.3s\n",
      "[CV 5/5] END ...........................C=0.001;, score=0.771 total time=   0.2s\n",
      "[CV 1/5] END ............................C=0.01;, score=0.833 total time=   0.1s\n",
      "[CV 2/5] END ............................C=0.01;, score=0.822 total time=   0.1s\n",
      "[CV 3/5] END ............................C=0.01;, score=0.789 total time=   0.1s\n",
      "[CV 4/5] END ............................C=0.01;, score=0.828 total time=   0.1s\n",
      "[CV 5/5] END ............................C=0.01;, score=0.809 total time=   0.1s\n",
      "[CV 1/5] END .............................C=0.1;, score=0.846 total time=   0.1s\n",
      "[CV 2/5] END .............................C=0.1;, score=0.862 total time=   0.1s\n",
      "[CV 3/5] END .............................C=0.1;, score=0.831 total time=   0.1s\n",
      "[CV 4/5] END .............................C=0.1;, score=0.859 total time=   0.1s\n",
      "[CV 5/5] END .............................C=0.1;, score=0.838 total time=   0.1s\n",
      "[CV 1/5] END ...............................C=1;, score=0.866 total time=   0.1s\n",
      "[CV 2/5] END ...............................C=1;, score=0.878 total time=   0.2s\n",
      "[CV 3/5] END ...............................C=1;, score=0.859 total time=   0.1s\n",
      "[CV 4/5] END ...............................C=1;, score=0.868 total time=   0.2s\n",
      "[CV 5/5] END ...............................C=1;, score=0.844 total time=   0.2s\n",
      "[CV 1/5] END ..............................C=10;, score=0.863 total time=   0.3s\n",
      "[CV 2/5] END ..............................C=10;, score=0.873 total time=   0.4s\n",
      "[CV 3/5] END ..............................C=10;, score=0.862 total time=   0.3s\n",
      "[CV 4/5] END ..............................C=10;, score=0.870 total time=   0.4s\n",
      "[CV 5/5] END ..............................C=10;, score=0.842 total time=   0.4s\n",
      "[CV 1/5] END .............................C=100;, score=0.864 total time=   1.6s\n",
      "[CV 2/5] END .............................C=100;, score=0.875 total time=   1.4s\n",
      "[CV 3/5] END .............................C=100;, score=0.862 total time=   1.5s\n",
      "[CV 4/5] END .............................C=100;, score=0.872 total time=   1.4s\n",
      "[CV 5/5] END .............................C=100;, score=0.841 total time=   1.4s\n",
      "Best parameters found for Support vector (linear): {'C': 100}\n",
      "Memorization Performance: 0.8727946761953853\n",
      "Generalization Performance: 0.8355202283575204\n"
     ]
    }
   ],
   "source": [
    "from sklearn.svm import SVC\n",
    "\n",
    "# Define the hyperparameter grid\n",
    "param_grid_svm_linear = {'C': [0.001, 0.01, 0.1, 1, 10, 100]}\n",
    "\n",
    "# Initialize the model\n",
    "svm_linear = SVC(kernel='linear', probability=True)\n",
    "\n",
    "# Perform hyperparameter optimization\n",
    "grid_search_svm_linear = GridSearchCV(svm_linear, param_grid_svm_linear, cv=5, scoring='f1_weighted', verbose=3)\n",
    "grid_search_svm_linear.fit(X_train_s_r_c, y_train)\n",
    "\n",
    "# Get the best model\n",
    "best_svm_linear = grid_search_svm_linear.best_estimator_\n",
    "\n",
    "# Print best parameters found\n",
    "print(\"Best parameters found for Support vector (linear):\", grid_search_svm_linear.best_params_)\n",
    "\n",
    "# Evaluate the model\n",
    "svm_linear_train_pred = grid_search_svm_linear.predict(X_train_s_r_c)\n",
    "svm_linear_test_pred = grid_search_svm_linear.predict(X_test_s_r_c)\n",
    "\n",
    "f1_score_train_svm_linear = f1_score(y_train, svm_linear_train_pred, average='weighted')\n",
    "f1_score_test_svm_linear = f1_score(y_test, svm_linear_test_pred, average='weighted')\n",
    "\n",
    "print(\"Memorization Performance:\", f1_score_train_svm_linear)\n",
    "print(\"Generalization Performance:\", f1_score_test_svm_linear)\n"
   ]
  },
  {
   "cell_type": "markdown",
   "id": "1ad3746b",
   "metadata": {},
   "source": [
    "# SVC RBF"
   ]
  },
  {
   "cell_type": "code",
   "execution_count": 89,
   "id": "905e2412",
   "metadata": {},
   "outputs": [
    {
     "name": "stdout",
     "output_type": "stream",
     "text": [
      "Fitting 5 folds for each of 6 candidates, totalling 30 fits\n",
      "[CV 1/5] END ...........................C=0.001;, score=0.217 total time=   1.7s\n",
      "[CV 2/5] END ...........................C=0.001;, score=0.217 total time=   1.6s\n",
      "[CV 3/5] END ...........................C=0.001;, score=0.215 total time=   1.6s\n",
      "[CV 4/5] END ...........................C=0.001;, score=0.217 total time=   1.5s\n",
      "[CV 5/5] END ...........................C=0.001;, score=0.217 total time=   1.5s\n",
      "[CV 1/5] END ............................C=0.01;, score=0.802 total time=   1.2s\n",
      "[CV 2/5] END ............................C=0.01;, score=0.812 total time=   1.0s\n",
      "[CV 3/5] END ............................C=0.01;, score=0.762 total time=   0.9s\n",
      "[CV 4/5] END ............................C=0.01;, score=0.796 total time=   0.7s\n",
      "[CV 5/5] END ............................C=0.01;, score=0.777 total time=   0.8s\n",
      "[CV 1/5] END .............................C=0.1;, score=0.840 total time=   0.4s\n",
      "[CV 2/5] END .............................C=0.1;, score=0.844 total time=   0.4s\n",
      "[CV 3/5] END .............................C=0.1;, score=0.802 total time=   0.3s\n",
      "[CV 4/5] END .............................C=0.1;, score=0.837 total time=   0.4s\n",
      "[CV 5/5] END .............................C=0.1;, score=0.812 total time=   0.4s\n",
      "[CV 1/5] END ...............................C=1;, score=0.879 total time=   0.2s\n",
      "[CV 2/5] END ...............................C=1;, score=0.886 total time=   0.2s\n",
      "[CV 3/5] END ...............................C=1;, score=0.854 total time=   0.2s\n",
      "[CV 4/5] END ...............................C=1;, score=0.862 total time=   0.2s\n",
      "[CV 5/5] END ...............................C=1;, score=0.862 total time=   0.2s\n",
      "[CV 1/5] END ..............................C=10;, score=0.898 total time=   0.3s\n",
      "[CV 2/5] END ..............................C=10;, score=0.912 total time=   0.3s\n",
      "[CV 3/5] END ..............................C=10;, score=0.892 total time=   0.4s\n",
      "[CV 4/5] END ..............................C=10;, score=0.902 total time=   0.3s\n",
      "[CV 5/5] END ..............................C=10;, score=0.886 total time=   0.3s\n",
      "[CV 1/5] END .............................C=100;, score=0.904 total time=   0.3s\n",
      "[CV 2/5] END .............................C=100;, score=0.913 total time=   0.4s\n",
      "[CV 3/5] END .............................C=100;, score=0.885 total time=   0.3s\n",
      "[CV 4/5] END .............................C=100;, score=0.901 total time=   0.3s\n",
      "[CV 5/5] END .............................C=100;, score=0.881 total time=   0.3s\n",
      "Best parameters found for Support vector (RBF): {'C': 10}\n",
      "Memorization Performance: 0.9134501788314175\n",
      "Generalization Performance: 0.8606821861795949\n"
     ]
    }
   ],
   "source": [
    "# Continue from the previous block of code\n",
    "\n",
    "# Define the hyperparameter grid\n",
    "param_grid_svm_rbf = {'C': [0.001, 0.01, 0.1, 1, 10, 100]}\n",
    "\n",
    "# Initialize the model\n",
    "svm_rbf = SVC(kernel='rbf', probability=True)\n",
    "\n",
    "# Perform hyperparameter optimization\n",
    "grid_search_svm_rbf = GridSearchCV(svm_rbf, param_grid_svm_rbf, cv=5, scoring='f1_weighted', verbose=3)\n",
    "grid_search_svm_rbf.fit(X_train_s_r_c, y_train)\n",
    "\n",
    "# Get the best model\n",
    "best_svm_rbf = grid_search_svm_rbf.best_estimator_\n",
    "\n",
    "# Print best parameters found\n",
    "print(\"Best parameters found for Support vector (RBF):\", grid_search_svm_rbf.best_params_)\n",
    "\n",
    "# Evaluate the model\n",
    "svm_rbf_train_pred = grid_search_svm_rbf.predict(X_train_s_r_c)\n",
    "svm_rbf_test_pred = grid_search_svm_rbf.predict(X_test_s_r_c)\n",
    "\n",
    "f1_score_train_svm_rbf = f1_score(y_train, svm_rbf_train_pred, average='weighted')\n",
    "f1_score_test_svm_rbf = f1_score(y_test, svm_rbf_test_pred, average='weighted')\n",
    "\n",
    "print(\"Memorization Performance:\", f1_score_train_svm_rbf)\n",
    "print(\"Generalization Performance:\", f1_score_test_svm_rbf)\n"
   ]
  },
  {
   "cell_type": "markdown",
   "id": "367507c3",
   "metadata": {},
   "source": [
    "# Adaboost"
   ]
  },
  {
   "cell_type": "code",
   "execution_count": 90,
   "id": "2a988b71",
   "metadata": {},
   "outputs": [
    {
     "name": "stdout",
     "output_type": "stream",
     "text": [
      "Fitting 5 folds for each of 9 candidates, totalling 45 fits\n",
      "[CV 1/5] END learning_rate=0.01, n_estimators=50;, score=0.839 total time=   0.1s\n",
      "[CV 2/5] END learning_rate=0.01, n_estimators=50;, score=0.837 total time=   0.2s\n",
      "[CV 3/5] END learning_rate=0.01, n_estimators=50;, score=0.826 total time=   0.1s\n",
      "[CV 4/5] END learning_rate=0.01, n_estimators=50;, score=0.826 total time=   0.1s\n",
      "[CV 5/5] END learning_rate=0.01, n_estimators=50;, score=0.829 total time=   0.1s\n",
      "[CV 1/5] END learning_rate=0.01, n_estimators=100;, score=0.837 total time=   0.3s\n",
      "[CV 2/5] END learning_rate=0.01, n_estimators=100;, score=0.844 total time=   0.3s\n",
      "[CV 3/5] END learning_rate=0.01, n_estimators=100;, score=0.827 total time=   0.4s\n",
      "[CV 4/5] END learning_rate=0.01, n_estimators=100;, score=0.830 total time=   0.3s\n",
      "[CV 5/5] END learning_rate=0.01, n_estimators=100;, score=0.828 total time=   0.3s\n",
      "[CV 1/5] END learning_rate=0.01, n_estimators=200;, score=0.847 total time=   0.8s\n",
      "[CV 2/5] END learning_rate=0.01, n_estimators=200;, score=0.848 total time=   0.8s\n",
      "[CV 3/5] END learning_rate=0.01, n_estimators=200;, score=0.823 total time=   0.8s\n",
      "[CV 4/5] END learning_rate=0.01, n_estimators=200;, score=0.828 total time=   0.8s\n",
      "[CV 5/5] END learning_rate=0.01, n_estimators=200;, score=0.829 total time=   0.7s\n",
      "[CV 1/5] END learning_rate=0.1, n_estimators=50;, score=0.861 total time=   0.1s\n",
      "[CV 2/5] END learning_rate=0.1, n_estimators=50;, score=0.868 total time=   0.1s\n",
      "[CV 3/5] END learning_rate=0.1, n_estimators=50;, score=0.828 total time=   0.1s\n",
      "[CV 4/5] END learning_rate=0.1, n_estimators=50;, score=0.840 total time=   0.1s\n",
      "[CV 5/5] END learning_rate=0.1, n_estimators=50;, score=0.846 total time=   0.2s\n",
      "[CV 1/5] END learning_rate=0.1, n_estimators=100;, score=0.783 total time=   0.4s\n",
      "[CV 2/5] END learning_rate=0.1, n_estimators=100;, score=0.859 total time=   0.4s\n",
      "[CV 3/5] END learning_rate=0.1, n_estimators=100;, score=0.818 total time=   0.3s\n",
      "[CV 4/5] END learning_rate=0.1, n_estimators=100;, score=0.861 total time=   0.3s\n",
      "[CV 5/5] END learning_rate=0.1, n_estimators=100;, score=0.851 total time=   0.4s\n",
      "[CV 1/5] END learning_rate=0.1, n_estimators=200;, score=0.650 total time=   0.9s\n",
      "[CV 2/5] END learning_rate=0.1, n_estimators=200;, score=0.849 total time=   0.8s\n",
      "[CV 3/5] END learning_rate=0.1, n_estimators=200;, score=0.645 total time=   0.8s\n",
      "[CV 4/5] END learning_rate=0.1, n_estimators=200;, score=0.848 total time=   0.8s\n",
      "[CV 5/5] END learning_rate=0.1, n_estimators=200;, score=0.827 total time=   0.7s\n",
      "[CV 1/5] END ..learning_rate=1, n_estimators=50;, score=0.672 total time=   0.1s\n",
      "[CV 2/5] END ..learning_rate=1, n_estimators=50;, score=0.782 total time=   0.1s\n",
      "[CV 3/5] END ..learning_rate=1, n_estimators=50;, score=0.796 total time=   0.1s\n",
      "[CV 4/5] END ..learning_rate=1, n_estimators=50;, score=0.776 total time=   0.1s\n",
      "[CV 5/5] END ..learning_rate=1, n_estimators=50;, score=0.799 total time=   0.1s\n",
      "[CV 1/5] END .learning_rate=1, n_estimators=100;, score=0.773 total time=   0.3s\n",
      "[CV 2/5] END .learning_rate=1, n_estimators=100;, score=0.778 total time=   0.3s\n",
      "[CV 3/5] END .learning_rate=1, n_estimators=100;, score=0.718 total time=   0.4s\n",
      "[CV 4/5] END .learning_rate=1, n_estimators=100;, score=0.788 total time=   0.4s\n",
      "[CV 5/5] END .learning_rate=1, n_estimators=100;, score=0.800 total time=   0.4s\n",
      "[CV 1/5] END .learning_rate=1, n_estimators=200;, score=0.805 total time=   0.8s\n",
      "[CV 2/5] END .learning_rate=1, n_estimators=200;, score=0.729 total time=   0.8s\n",
      "[CV 3/5] END .learning_rate=1, n_estimators=200;, score=0.666 total time=   1.0s\n",
      "[CV 4/5] END .learning_rate=1, n_estimators=200;, score=0.798 total time=   0.8s\n",
      "[CV 5/5] END .learning_rate=1, n_estimators=200;, score=0.799 total time=   0.8s\n",
      "Best parameters found for Adaboost: {'learning_rate': 0.1, 'n_estimators': 50}\n",
      "Memorization Performance: 0.8606211752081045\n",
      "Generalization Performance: 0.8225398587537951\n"
     ]
    }
   ],
   "source": [
    "from sklearn.ensemble import AdaBoostClassifier\n",
    "\n",
    "# Define the hyperparameter grid\n",
    "param_grid_adaboost = {'n_estimators': [50, 100, 200],\n",
    "                       'learning_rate': [0.01, 0.1, 1]}\n",
    "\n",
    "# Initialize the model\n",
    "adaboost = AdaBoostClassifier()\n",
    "\n",
    "# Perform hyperparameter optimization\n",
    "grid_search_adaboost = GridSearchCV(adaboost, param_grid_adaboost, cv=5, scoring='f1_weighted', verbose=3)\n",
    "grid_search_adaboost.fit(X_train_s_r_c, y_train)\n",
    "\n",
    "# Get the best model\n",
    "best_adaboost = grid_search_adaboost.best_estimator_\n",
    "\n",
    "# Print best parameters found\n",
    "print(\"Best parameters found for Adaboost:\", grid_search_adaboost.best_params_)\n",
    "\n",
    "# Evaluate the model\n",
    "adaboost_train_pred = grid_search_adaboost.predict(X_train_s_r_c)\n",
    "adaboost_test_pred = grid_search_adaboost.predict(X_test_s_r_c)\n",
    "\n",
    "f1_score_train_adaboost = f1_score(y_train, adaboost_train_pred, average='weighted')\n",
    "f1_score_test_adaboost = f1_score(y_test, adaboost_test_pred, average='weighted')\n",
    "\n",
    "print(\"Memorization Performance:\", f1_score_train_adaboost)\n",
    "print(\"Generalization Performance:\", f1_score_test_adaboost)\n"
   ]
  },
  {
   "cell_type": "markdown",
   "id": "e42afa2d",
   "metadata": {},
   "source": [
    "# Random Forest"
   ]
  },
  {
   "cell_type": "code",
   "execution_count": 91,
   "id": "7beb9420",
   "metadata": {},
   "outputs": [
    {
     "name": "stdout",
     "output_type": "stream",
     "text": [
      "Fitting 5 folds for each of 81 candidates, totalling 405 fits\n",
      "[CV 1/5] END max_depth=None, min_samples_leaf=1, min_samples_split=2, n_estimators=50;, score=0.891 total time=   0.2s\n",
      "[CV 2/5] END max_depth=None, min_samples_leaf=1, min_samples_split=2, n_estimators=50;, score=0.914 total time=   0.1s\n",
      "[CV 3/5] END max_depth=None, min_samples_leaf=1, min_samples_split=2, n_estimators=50;, score=0.909 total time=   0.1s\n",
      "[CV 4/5] END max_depth=None, min_samples_leaf=1, min_samples_split=2, n_estimators=50;, score=0.888 total time=   0.1s\n",
      "[CV 5/5] END max_depth=None, min_samples_leaf=1, min_samples_split=2, n_estimators=50;, score=0.885 total time=   0.1s\n",
      "[CV 1/5] END max_depth=None, min_samples_leaf=1, min_samples_split=2, n_estimators=100;, score=0.909 total time=   0.3s\n",
      "[CV 2/5] END max_depth=None, min_samples_leaf=1, min_samples_split=2, n_estimators=100;, score=0.919 total time=   0.3s\n",
      "[CV 3/5] END max_depth=None, min_samples_leaf=1, min_samples_split=2, n_estimators=100;, score=0.903 total time=   0.3s\n",
      "[CV 4/5] END max_depth=None, min_samples_leaf=1, min_samples_split=2, n_estimators=100;, score=0.891 total time=   0.3s\n",
      "[CV 5/5] END max_depth=None, min_samples_leaf=1, min_samples_split=2, n_estimators=100;, score=0.878 total time=   0.3s\n",
      "[CV 1/5] END max_depth=None, min_samples_leaf=1, min_samples_split=2, n_estimators=200;, score=0.907 total time=   0.7s\n",
      "[CV 2/5] END max_depth=None, min_samples_leaf=1, min_samples_split=2, n_estimators=200;, score=0.917 total time=   0.8s\n",
      "[CV 3/5] END max_depth=None, min_samples_leaf=1, min_samples_split=2, n_estimators=200;, score=0.901 total time=   0.8s\n",
      "[CV 4/5] END max_depth=None, min_samples_leaf=1, min_samples_split=2, n_estimators=200;, score=0.893 total time=   0.8s\n",
      "[CV 5/5] END max_depth=None, min_samples_leaf=1, min_samples_split=2, n_estimators=200;, score=0.878 total time=   0.8s\n",
      "[CV 1/5] END max_depth=None, min_samples_leaf=1, min_samples_split=5, n_estimators=50;, score=0.894 total time=   0.1s\n",
      "[CV 2/5] END max_depth=None, min_samples_leaf=1, min_samples_split=5, n_estimators=50;, score=0.920 total time=   0.1s\n",
      "[CV 3/5] END max_depth=None, min_samples_leaf=1, min_samples_split=5, n_estimators=50;, score=0.900 total time=   0.1s\n",
      "[CV 4/5] END max_depth=None, min_samples_leaf=1, min_samples_split=5, n_estimators=50;, score=0.889 total time=   0.1s\n",
      "[CV 5/5] END max_depth=None, min_samples_leaf=1, min_samples_split=5, n_estimators=50;, score=0.880 total time=   0.1s\n",
      "[CV 1/5] END max_depth=None, min_samples_leaf=1, min_samples_split=5, n_estimators=100;, score=0.904 total time=   0.4s\n",
      "[CV 2/5] END max_depth=None, min_samples_leaf=1, min_samples_split=5, n_estimators=100;, score=0.923 total time=   0.4s\n",
      "[CV 3/5] END max_depth=None, min_samples_leaf=1, min_samples_split=5, n_estimators=100;, score=0.906 total time=   0.4s\n",
      "[CV 4/5] END max_depth=None, min_samples_leaf=1, min_samples_split=5, n_estimators=100;, score=0.892 total time=   0.4s\n",
      "[CV 5/5] END max_depth=None, min_samples_leaf=1, min_samples_split=5, n_estimators=100;, score=0.887 total time=   0.4s\n",
      "[CV 1/5] END max_depth=None, min_samples_leaf=1, min_samples_split=5, n_estimators=200;, score=0.896 total time=   0.8s\n",
      "[CV 2/5] END max_depth=None, min_samples_leaf=1, min_samples_split=5, n_estimators=200;, score=0.925 total time=   0.8s\n",
      "[CV 3/5] END max_depth=None, min_samples_leaf=1, min_samples_split=5, n_estimators=200;, score=0.901 total time=   0.7s\n",
      "[CV 4/5] END max_depth=None, min_samples_leaf=1, min_samples_split=5, n_estimators=200;, score=0.899 total time=   0.8s\n",
      "[CV 5/5] END max_depth=None, min_samples_leaf=1, min_samples_split=5, n_estimators=200;, score=0.887 total time=   0.8s\n",
      "[CV 1/5] END max_depth=None, min_samples_leaf=1, min_samples_split=10, n_estimators=50;, score=0.893 total time=   0.1s\n",
      "[CV 2/5] END max_depth=None, min_samples_leaf=1, min_samples_split=10, n_estimators=50;, score=0.921 total time=   0.1s\n",
      "[CV 3/5] END max_depth=None, min_samples_leaf=1, min_samples_split=10, n_estimators=50;, score=0.900 total time=   0.1s\n",
      "[CV 4/5] END max_depth=None, min_samples_leaf=1, min_samples_split=10, n_estimators=50;, score=0.891 total time=   0.1s\n",
      "[CV 5/5] END max_depth=None, min_samples_leaf=1, min_samples_split=10, n_estimators=50;, score=0.872 total time=   0.1s\n",
      "[CV 1/5] END max_depth=None, min_samples_leaf=1, min_samples_split=10, n_estimators=100;, score=0.890 total time=   0.3s\n",
      "[CV 2/5] END max_depth=None, min_samples_leaf=1, min_samples_split=10, n_estimators=100;, score=0.920 total time=   0.4s\n",
      "[CV 3/5] END max_depth=None, min_samples_leaf=1, min_samples_split=10, n_estimators=100;, score=0.894 total time=   0.4s\n",
      "[CV 4/5] END max_depth=None, min_samples_leaf=1, min_samples_split=10, n_estimators=100;, score=0.894 total time=   0.4s\n",
      "[CV 5/5] END max_depth=None, min_samples_leaf=1, min_samples_split=10, n_estimators=100;, score=0.871 total time=   0.4s\n",
      "[CV 1/5] END max_depth=None, min_samples_leaf=1, min_samples_split=10, n_estimators=200;, score=0.888 total time=   0.8s\n",
      "[CV 2/5] END max_depth=None, min_samples_leaf=1, min_samples_split=10, n_estimators=200;, score=0.923 total time=   0.9s\n",
      "[CV 3/5] END max_depth=None, min_samples_leaf=1, min_samples_split=10, n_estimators=200;, score=0.905 total time=   0.9s\n",
      "[CV 4/5] END max_depth=None, min_samples_leaf=1, min_samples_split=10, n_estimators=200;, score=0.890 total time=   0.9s\n",
      "[CV 5/5] END max_depth=None, min_samples_leaf=1, min_samples_split=10, n_estimators=200;, score=0.874 total time=   0.8s\n",
      "[CV 1/5] END max_depth=None, min_samples_leaf=2, min_samples_split=2, n_estimators=50;, score=0.898 total time=   0.1s\n",
      "[CV 2/5] END max_depth=None, min_samples_leaf=2, min_samples_split=2, n_estimators=50;, score=0.915 total time=   0.1s\n",
      "[CV 3/5] END max_depth=None, min_samples_leaf=2, min_samples_split=2, n_estimators=50;, score=0.893 total time=   0.1s\n",
      "[CV 4/5] END max_depth=None, min_samples_leaf=2, min_samples_split=2, n_estimators=50;, score=0.894 total time=   0.1s\n",
      "[CV 5/5] END max_depth=None, min_samples_leaf=2, min_samples_split=2, n_estimators=50;, score=0.880 total time=   0.2s\n",
      "[CV 1/5] END max_depth=None, min_samples_leaf=2, min_samples_split=2, n_estimators=100;, score=0.893 total time=   0.4s\n",
      "[CV 2/5] END max_depth=None, min_samples_leaf=2, min_samples_split=2, n_estimators=100;, score=0.920 total time=   0.4s\n",
      "[CV 3/5] END max_depth=None, min_samples_leaf=2, min_samples_split=2, n_estimators=100;, score=0.907 total time=   0.6s\n",
      "[CV 4/5] END max_depth=None, min_samples_leaf=2, min_samples_split=2, n_estimators=100;, score=0.895 total time=   0.3s\n",
      "[CV 5/5] END max_depth=None, min_samples_leaf=2, min_samples_split=2, n_estimators=100;, score=0.876 total time=   0.3s\n",
      "[CV 1/5] END max_depth=None, min_samples_leaf=2, min_samples_split=2, n_estimators=200;, score=0.891 total time=   0.8s\n",
      "[CV 2/5] END max_depth=None, min_samples_leaf=2, min_samples_split=2, n_estimators=200;, score=0.926 total time=   0.8s\n",
      "[CV 3/5] END max_depth=None, min_samples_leaf=2, min_samples_split=2, n_estimators=200;, score=0.898 total time=   0.9s\n",
      "[CV 4/5] END max_depth=None, min_samples_leaf=2, min_samples_split=2, n_estimators=200;, score=0.893 total time=   0.7s\n",
      "[CV 5/5] END max_depth=None, min_samples_leaf=2, min_samples_split=2, n_estimators=200;, score=0.876 total time=   0.8s\n",
      "[CV 1/5] END max_depth=None, min_samples_leaf=2, min_samples_split=5, n_estimators=50;, score=0.897 total time=   0.2s\n",
      "[CV 2/5] END max_depth=None, min_samples_leaf=2, min_samples_split=5, n_estimators=50;, score=0.916 total time=   0.1s\n",
      "[CV 3/5] END max_depth=None, min_samples_leaf=2, min_samples_split=5, n_estimators=50;, score=0.902 total time=   0.1s\n",
      "[CV 4/5] END max_depth=None, min_samples_leaf=2, min_samples_split=5, n_estimators=50;, score=0.894 total time=   0.2s\n",
      "[CV 5/5] END max_depth=None, min_samples_leaf=2, min_samples_split=5, n_estimators=50;, score=0.871 total time=   0.1s\n",
      "[CV 1/5] END max_depth=None, min_samples_leaf=2, min_samples_split=5, n_estimators=100;, score=0.904 total time=   0.4s\n",
      "[CV 2/5] END max_depth=None, min_samples_leaf=2, min_samples_split=5, n_estimators=100;, score=0.930 total time=   0.4s\n",
      "[CV 3/5] END max_depth=None, min_samples_leaf=2, min_samples_split=5, n_estimators=100;, score=0.897 total time=   0.3s\n",
      "[CV 4/5] END max_depth=None, min_samples_leaf=2, min_samples_split=5, n_estimators=100;, score=0.895 total time=   0.3s\n",
      "[CV 5/5] END max_depth=None, min_samples_leaf=2, min_samples_split=5, n_estimators=100;, score=0.878 total time=   0.4s\n",
      "[CV 1/5] END max_depth=None, min_samples_leaf=2, min_samples_split=5, n_estimators=200;, score=0.898 total time=   0.7s\n",
      "[CV 2/5] END max_depth=None, min_samples_leaf=2, min_samples_split=5, n_estimators=200;, score=0.929 total time=   0.7s\n",
      "[CV 3/5] END max_depth=None, min_samples_leaf=2, min_samples_split=5, n_estimators=200;, score=0.903 total time=   0.8s\n",
      "[CV 4/5] END max_depth=None, min_samples_leaf=2, min_samples_split=5, n_estimators=200;, score=0.897 total time=   0.7s\n",
      "[CV 5/5] END max_depth=None, min_samples_leaf=2, min_samples_split=5, n_estimators=200;, score=0.871 total time=   0.8s\n",
      "[CV 1/5] END max_depth=None, min_samples_leaf=2, min_samples_split=10, n_estimators=50;, score=0.892 total time=   0.1s\n",
      "[CV 2/5] END max_depth=None, min_samples_leaf=2, min_samples_split=10, n_estimators=50;, score=0.926 total time=   0.1s\n",
      "[CV 3/5] END max_depth=None, min_samples_leaf=2, min_samples_split=10, n_estimators=50;, score=0.895 total time=   0.1s\n",
      "[CV 4/5] END max_depth=None, min_samples_leaf=2, min_samples_split=10, n_estimators=50;, score=0.888 total time=   0.1s\n",
      "[CV 5/5] END max_depth=None, min_samples_leaf=2, min_samples_split=10, n_estimators=50;, score=0.877 total time=   0.1s\n",
      "[CV 1/5] END max_depth=None, min_samples_leaf=2, min_samples_split=10, n_estimators=100;, score=0.901 total time=   0.2s\n",
      "[CV 2/5] END max_depth=None, min_samples_leaf=2, min_samples_split=10, n_estimators=100;, score=0.922 total time=   0.2s\n",
      "[CV 3/5] END max_depth=None, min_samples_leaf=2, min_samples_split=10, n_estimators=100;, score=0.892 total time=   0.3s\n",
      "[CV 4/5] END max_depth=None, min_samples_leaf=2, min_samples_split=10, n_estimators=100;, score=0.891 total time=   0.3s\n",
      "[CV 5/5] END max_depth=None, min_samples_leaf=2, min_samples_split=10, n_estimators=100;, score=0.876 total time=   0.3s\n",
      "[CV 1/5] END max_depth=None, min_samples_leaf=2, min_samples_split=10, n_estimators=200;, score=0.890 total time=   0.8s\n",
      "[CV 2/5] END max_depth=None, min_samples_leaf=2, min_samples_split=10, n_estimators=200;, score=0.922 total time=   0.9s\n",
      "[CV 3/5] END max_depth=None, min_samples_leaf=2, min_samples_split=10, n_estimators=200;, score=0.895 total time=   0.7s\n",
      "[CV 4/5] END max_depth=None, min_samples_leaf=2, min_samples_split=10, n_estimators=200;, score=0.891 total time=   0.7s\n",
      "[CV 5/5] END max_depth=None, min_samples_leaf=2, min_samples_split=10, n_estimators=200;, score=0.874 total time=   0.8s\n",
      "[CV 1/5] END max_depth=None, min_samples_leaf=4, min_samples_split=2, n_estimators=50;, score=0.894 total time=   0.1s\n",
      "[CV 2/5] END max_depth=None, min_samples_leaf=4, min_samples_split=2, n_estimators=50;, score=0.921 total time=   0.1s\n",
      "[CV 3/5] END max_depth=None, min_samples_leaf=4, min_samples_split=2, n_estimators=50;, score=0.880 total time=   0.1s\n",
      "[CV 4/5] END max_depth=None, min_samples_leaf=4, min_samples_split=2, n_estimators=50;, score=0.896 total time=   0.1s\n",
      "[CV 5/5] END max_depth=None, min_samples_leaf=4, min_samples_split=2, n_estimators=50;, score=0.874 total time=   0.1s\n",
      "[CV 1/5] END max_depth=None, min_samples_leaf=4, min_samples_split=2, n_estimators=100;, score=0.889 total time=   0.3s\n",
      "[CV 2/5] END max_depth=None, min_samples_leaf=4, min_samples_split=2, n_estimators=100;, score=0.917 total time=   0.3s\n",
      "[CV 3/5] END max_depth=None, min_samples_leaf=4, min_samples_split=2, n_estimators=100;, score=0.902 total time=   0.3s\n",
      "[CV 4/5] END max_depth=None, min_samples_leaf=4, min_samples_split=2, n_estimators=100;, score=0.886 total time=   0.3s\n",
      "[CV 5/5] END max_depth=None, min_samples_leaf=4, min_samples_split=2, n_estimators=100;, score=0.865 total time=   0.3s\n",
      "[CV 1/5] END max_depth=None, min_samples_leaf=4, min_samples_split=2, n_estimators=200;, score=0.890 total time=   0.6s\n",
      "[CV 2/5] END max_depth=None, min_samples_leaf=4, min_samples_split=2, n_estimators=200;, score=0.924 total time=   0.7s\n",
      "[CV 3/5] END max_depth=None, min_samples_leaf=4, min_samples_split=2, n_estimators=200;, score=0.897 total time=   0.7s\n",
      "[CV 4/5] END max_depth=None, min_samples_leaf=4, min_samples_split=2, n_estimators=200;, score=0.888 total time=   0.6s\n",
      "[CV 5/5] END max_depth=None, min_samples_leaf=4, min_samples_split=2, n_estimators=200;, score=0.866 total time=   0.7s\n",
      "[CV 1/5] END max_depth=None, min_samples_leaf=4, min_samples_split=5, n_estimators=50;, score=0.894 total time=   0.1s\n",
      "[CV 2/5] END max_depth=None, min_samples_leaf=4, min_samples_split=5, n_estimators=50;, score=0.918 total time=   0.1s\n",
      "[CV 3/5] END max_depth=None, min_samples_leaf=4, min_samples_split=5, n_estimators=50;, score=0.903 total time=   0.1s\n",
      "[CV 4/5] END max_depth=None, min_samples_leaf=4, min_samples_split=5, n_estimators=50;, score=0.886 total time=   0.1s\n",
      "[CV 5/5] END max_depth=None, min_samples_leaf=4, min_samples_split=5, n_estimators=50;, score=0.876 total time=   0.1s\n",
      "[CV 1/5] END max_depth=None, min_samples_leaf=4, min_samples_split=5, n_estimators=100;, score=0.888 total time=   0.3s\n",
      "[CV 2/5] END max_depth=None, min_samples_leaf=4, min_samples_split=5, n_estimators=100;, score=0.925 total time=   0.3s\n",
      "[CV 3/5] END max_depth=None, min_samples_leaf=4, min_samples_split=5, n_estimators=100;, score=0.896 total time=   0.3s\n",
      "[CV 4/5] END max_depth=None, min_samples_leaf=4, min_samples_split=5, n_estimators=100;, score=0.891 total time=   0.3s\n",
      "[CV 5/5] END max_depth=None, min_samples_leaf=4, min_samples_split=5, n_estimators=100;, score=0.867 total time=   0.3s\n",
      "[CV 1/5] END max_depth=None, min_samples_leaf=4, min_samples_split=5, n_estimators=200;, score=0.890 total time=   0.6s\n",
      "[CV 2/5] END max_depth=None, min_samples_leaf=4, min_samples_split=5, n_estimators=200;, score=0.924 total time=   0.6s\n",
      "[CV 3/5] END max_depth=None, min_samples_leaf=4, min_samples_split=5, n_estimators=200;, score=0.886 total time=   0.8s\n",
      "[CV 4/5] END max_depth=None, min_samples_leaf=4, min_samples_split=5, n_estimators=200;, score=0.889 total time=   1.0s\n",
      "[CV 5/5] END max_depth=None, min_samples_leaf=4, min_samples_split=5, n_estimators=200;, score=0.869 total time=   0.8s\n",
      "[CV 1/5] END max_depth=None, min_samples_leaf=4, min_samples_split=10, n_estimators=50;, score=0.887 total time=   0.1s\n",
      "[CV 2/5] END max_depth=None, min_samples_leaf=4, min_samples_split=10, n_estimators=50;, score=0.921 total time=   0.1s\n",
      "[CV 3/5] END max_depth=None, min_samples_leaf=4, min_samples_split=10, n_estimators=50;, score=0.891 total time=   0.1s\n",
      "[CV 4/5] END max_depth=None, min_samples_leaf=4, min_samples_split=10, n_estimators=50;, score=0.890 total time=   0.1s\n",
      "[CV 5/5] END max_depth=None, min_samples_leaf=4, min_samples_split=10, n_estimators=50;, score=0.869 total time=   0.1s\n",
      "[CV 1/5] END max_depth=None, min_samples_leaf=4, min_samples_split=10, n_estimators=100;, score=0.892 total time=   0.3s\n",
      "[CV 2/5] END max_depth=None, min_samples_leaf=4, min_samples_split=10, n_estimators=100;, score=0.927 total time=   0.3s\n",
      "[CV 3/5] END max_depth=None, min_samples_leaf=4, min_samples_split=10, n_estimators=100;, score=0.892 total time=   0.3s\n",
      "[CV 4/5] END max_depth=None, min_samples_leaf=4, min_samples_split=10, n_estimators=100;, score=0.894 total time=   0.3s\n",
      "[CV 5/5] END max_depth=None, min_samples_leaf=4, min_samples_split=10, n_estimators=100;, score=0.873 total time=   0.3s\n",
      "[CV 1/5] END max_depth=None, min_samples_leaf=4, min_samples_split=10, n_estimators=200;, score=0.896 total time=   0.7s\n",
      "[CV 2/5] END max_depth=None, min_samples_leaf=4, min_samples_split=10, n_estimators=200;, score=0.924 total time=   0.7s\n",
      "[CV 3/5] END max_depth=None, min_samples_leaf=4, min_samples_split=10, n_estimators=200;, score=0.895 total time=   0.7s\n",
      "[CV 4/5] END max_depth=None, min_samples_leaf=4, min_samples_split=10, n_estimators=200;, score=0.887 total time=   0.7s\n",
      "[CV 5/5] END max_depth=None, min_samples_leaf=4, min_samples_split=10, n_estimators=200;, score=0.871 total time=   0.7s\n",
      "[CV 1/5] END max_depth=10, min_samples_leaf=1, min_samples_split=2, n_estimators=50;, score=0.902 total time=   0.1s\n",
      "[CV 2/5] END max_depth=10, min_samples_leaf=1, min_samples_split=2, n_estimators=50;, score=0.932 total time=   0.1s\n",
      "[CV 3/5] END max_depth=10, min_samples_leaf=1, min_samples_split=2, n_estimators=50;, score=0.906 total time=   0.1s\n",
      "[CV 4/5] END max_depth=10, min_samples_leaf=1, min_samples_split=2, n_estimators=50;, score=0.898 total time=   0.1s\n",
      "[CV 5/5] END max_depth=10, min_samples_leaf=1, min_samples_split=2, n_estimators=50;, score=0.878 total time=   0.1s\n",
      "[CV 1/5] END max_depth=10, min_samples_leaf=1, min_samples_split=2, n_estimators=100;, score=0.908 total time=   0.3s\n",
      "[CV 2/5] END max_depth=10, min_samples_leaf=1, min_samples_split=2, n_estimators=100;, score=0.927 total time=   0.3s\n",
      "[CV 3/5] END max_depth=10, min_samples_leaf=1, min_samples_split=2, n_estimators=100;, score=0.903 total time=   0.3s\n",
      "[CV 4/5] END max_depth=10, min_samples_leaf=1, min_samples_split=2, n_estimators=100;, score=0.899 total time=   0.3s\n",
      "[CV 5/5] END max_depth=10, min_samples_leaf=1, min_samples_split=2, n_estimators=100;, score=0.883 total time=   0.3s\n",
      "[CV 1/5] END max_depth=10, min_samples_leaf=1, min_samples_split=2, n_estimators=200;, score=0.903 total time=   0.6s\n",
      "[CV 2/5] END max_depth=10, min_samples_leaf=1, min_samples_split=2, n_estimators=200;, score=0.928 total time=   0.7s\n",
      "[CV 3/5] END max_depth=10, min_samples_leaf=1, min_samples_split=2, n_estimators=200;, score=0.900 total time=   0.6s\n",
      "[CV 4/5] END max_depth=10, min_samples_leaf=1, min_samples_split=2, n_estimators=200;, score=0.894 total time=   0.6s\n",
      "[CV 5/5] END max_depth=10, min_samples_leaf=1, min_samples_split=2, n_estimators=200;, score=0.882 total time=   0.7s\n",
      "[CV 1/5] END max_depth=10, min_samples_leaf=1, min_samples_split=5, n_estimators=50;, score=0.900 total time=   0.1s\n",
      "[CV 2/5] END max_depth=10, min_samples_leaf=1, min_samples_split=5, n_estimators=50;, score=0.922 total time=   0.1s\n",
      "[CV 3/5] END max_depth=10, min_samples_leaf=1, min_samples_split=5, n_estimators=50;, score=0.902 total time=   0.1s\n",
      "[CV 4/5] END max_depth=10, min_samples_leaf=1, min_samples_split=5, n_estimators=50;, score=0.893 total time=   0.1s\n",
      "[CV 5/5] END max_depth=10, min_samples_leaf=1, min_samples_split=5, n_estimators=50;, score=0.879 total time=   0.1s\n",
      "[CV 1/5] END max_depth=10, min_samples_leaf=1, min_samples_split=5, n_estimators=100;, score=0.889 total time=   0.3s\n",
      "[CV 2/5] END max_depth=10, min_samples_leaf=1, min_samples_split=5, n_estimators=100;, score=0.923 total time=   0.3s\n",
      "[CV 3/5] END max_depth=10, min_samples_leaf=1, min_samples_split=5, n_estimators=100;, score=0.903 total time=   0.2s\n",
      "[CV 4/5] END max_depth=10, min_samples_leaf=1, min_samples_split=5, n_estimators=100;, score=0.884 total time=   0.3s\n",
      "[CV 5/5] END max_depth=10, min_samples_leaf=1, min_samples_split=5, n_estimators=100;, score=0.881 total time=   0.3s\n",
      "[CV 1/5] END max_depth=10, min_samples_leaf=1, min_samples_split=5, n_estimators=200;, score=0.899 total time=   0.7s\n",
      "[CV 2/5] END max_depth=10, min_samples_leaf=1, min_samples_split=5, n_estimators=200;, score=0.925 total time=   0.9s\n",
      "[CV 3/5] END max_depth=10, min_samples_leaf=1, min_samples_split=5, n_estimators=200;, score=0.905 total time=   0.9s\n",
      "[CV 4/5] END max_depth=10, min_samples_leaf=1, min_samples_split=5, n_estimators=200;, score=0.906 total time=   0.6s\n",
      "[CV 5/5] END max_depth=10, min_samples_leaf=1, min_samples_split=5, n_estimators=200;, score=0.882 total time=   0.6s\n",
      "[CV 1/5] END max_depth=10, min_samples_leaf=1, min_samples_split=10, n_estimators=50;, score=0.893 total time=   0.1s\n",
      "[CV 2/5] END max_depth=10, min_samples_leaf=1, min_samples_split=10, n_estimators=50;, score=0.925 total time=   0.1s\n",
      "[CV 3/5] END max_depth=10, min_samples_leaf=1, min_samples_split=10, n_estimators=50;, score=0.902 total time=   0.1s\n",
      "[CV 4/5] END max_depth=10, min_samples_leaf=1, min_samples_split=10, n_estimators=50;, score=0.895 total time=   0.1s\n",
      "[CV 5/5] END max_depth=10, min_samples_leaf=1, min_samples_split=10, n_estimators=50;, score=0.873 total time=   0.1s\n",
      "[CV 1/5] END max_depth=10, min_samples_leaf=1, min_samples_split=10, n_estimators=100;, score=0.888 total time=   0.3s\n",
      "[CV 2/5] END max_depth=10, min_samples_leaf=1, min_samples_split=10, n_estimators=100;, score=0.923 total time=   0.3s\n",
      "[CV 3/5] END max_depth=10, min_samples_leaf=1, min_samples_split=10, n_estimators=100;, score=0.911 total time=   0.4s\n",
      "[CV 4/5] END max_depth=10, min_samples_leaf=1, min_samples_split=10, n_estimators=100;, score=0.888 total time=   0.3s\n",
      "[CV 5/5] END max_depth=10, min_samples_leaf=1, min_samples_split=10, n_estimators=100;, score=0.867 total time=   0.3s\n",
      "[CV 1/5] END max_depth=10, min_samples_leaf=1, min_samples_split=10, n_estimators=200;, score=0.890 total time=   0.6s\n",
      "[CV 2/5] END max_depth=10, min_samples_leaf=1, min_samples_split=10, n_estimators=200;, score=0.924 total time=   0.6s\n",
      "[CV 3/5] END max_depth=10, min_samples_leaf=1, min_samples_split=10, n_estimators=200;, score=0.902 total time=   0.9s\n",
      "[CV 4/5] END max_depth=10, min_samples_leaf=1, min_samples_split=10, n_estimators=200;, score=0.900 total time=   0.8s\n",
      "[CV 5/5] END max_depth=10, min_samples_leaf=1, min_samples_split=10, n_estimators=200;, score=0.877 total time=   0.8s\n",
      "[CV 1/5] END max_depth=10, min_samples_leaf=2, min_samples_split=2, n_estimators=50;, score=0.888 total time=   0.1s\n",
      "[CV 2/5] END max_depth=10, min_samples_leaf=2, min_samples_split=2, n_estimators=50;, score=0.921 total time=   0.1s\n",
      "[CV 3/5] END max_depth=10, min_samples_leaf=2, min_samples_split=2, n_estimators=50;, score=0.892 total time=   0.1s\n",
      "[CV 4/5] END max_depth=10, min_samples_leaf=2, min_samples_split=2, n_estimators=50;, score=0.894 total time=   0.1s\n",
      "[CV 5/5] END max_depth=10, min_samples_leaf=2, min_samples_split=2, n_estimators=50;, score=0.871 total time=   0.1s\n",
      "[CV 1/5] END max_depth=10, min_samples_leaf=2, min_samples_split=2, n_estimators=100;, score=0.889 total time=   0.3s\n",
      "[CV 2/5] END max_depth=10, min_samples_leaf=2, min_samples_split=2, n_estimators=100;, score=0.917 total time=   0.4s\n",
      "[CV 3/5] END max_depth=10, min_samples_leaf=2, min_samples_split=2, n_estimators=100;, score=0.903 total time=   0.4s\n",
      "[CV 4/5] END max_depth=10, min_samples_leaf=2, min_samples_split=2, n_estimators=100;, score=0.889 total time=   0.3s\n",
      "[CV 5/5] END max_depth=10, min_samples_leaf=2, min_samples_split=2, n_estimators=100;, score=0.873 total time=   0.3s\n",
      "[CV 1/5] END max_depth=10, min_samples_leaf=2, min_samples_split=2, n_estimators=200;, score=0.896 total time=   0.6s\n",
      "[CV 2/5] END max_depth=10, min_samples_leaf=2, min_samples_split=2, n_estimators=200;, score=0.929 total time=   0.7s\n",
      "[CV 3/5] END max_depth=10, min_samples_leaf=2, min_samples_split=2, n_estimators=200;, score=0.907 total time=   0.8s\n",
      "[CV 4/5] END max_depth=10, min_samples_leaf=2, min_samples_split=2, n_estimators=200;, score=0.895 total time=   0.7s\n",
      "[CV 5/5] END max_depth=10, min_samples_leaf=2, min_samples_split=2, n_estimators=200;, score=0.876 total time=   0.7s\n",
      "[CV 1/5] END max_depth=10, min_samples_leaf=2, min_samples_split=5, n_estimators=50;, score=0.895 total time=   0.1s\n",
      "[CV 2/5] END max_depth=10, min_samples_leaf=2, min_samples_split=5, n_estimators=50;, score=0.925 total time=   0.1s\n",
      "[CV 3/5] END max_depth=10, min_samples_leaf=2, min_samples_split=5, n_estimators=50;, score=0.900 total time=   0.1s\n",
      "[CV 4/5] END max_depth=10, min_samples_leaf=2, min_samples_split=5, n_estimators=50;, score=0.902 total time=   0.1s\n",
      "[CV 5/5] END max_depth=10, min_samples_leaf=2, min_samples_split=5, n_estimators=50;, score=0.870 total time=   0.1s\n",
      "[CV 1/5] END max_depth=10, min_samples_leaf=2, min_samples_split=5, n_estimators=100;, score=0.894 total time=   0.3s\n",
      "[CV 2/5] END max_depth=10, min_samples_leaf=2, min_samples_split=5, n_estimators=100;, score=0.926 total time=   0.3s\n",
      "[CV 3/5] END max_depth=10, min_samples_leaf=2, min_samples_split=5, n_estimators=100;, score=0.897 total time=   0.4s\n",
      "[CV 4/5] END max_depth=10, min_samples_leaf=2, min_samples_split=5, n_estimators=100;, score=0.893 total time=   0.3s\n",
      "[CV 5/5] END max_depth=10, min_samples_leaf=2, min_samples_split=5, n_estimators=100;, score=0.876 total time=   0.4s\n",
      "[CV 1/5] END max_depth=10, min_samples_leaf=2, min_samples_split=5, n_estimators=200;, score=0.899 total time=   0.7s\n",
      "[CV 2/5] END max_depth=10, min_samples_leaf=2, min_samples_split=5, n_estimators=200;, score=0.923 total time=   0.8s\n",
      "[CV 3/5] END max_depth=10, min_samples_leaf=2, min_samples_split=5, n_estimators=200;, score=0.889 total time=   0.8s\n",
      "[CV 4/5] END max_depth=10, min_samples_leaf=2, min_samples_split=5, n_estimators=200;, score=0.897 total time=   0.7s\n",
      "[CV 5/5] END max_depth=10, min_samples_leaf=2, min_samples_split=5, n_estimators=200;, score=0.875 total time=   0.8s\n",
      "[CV 1/5] END max_depth=10, min_samples_leaf=2, min_samples_split=10, n_estimators=50;, score=0.887 total time=   0.1s\n",
      "[CV 2/5] END max_depth=10, min_samples_leaf=2, min_samples_split=10, n_estimators=50;, score=0.924 total time=   0.1s\n",
      "[CV 3/5] END max_depth=10, min_samples_leaf=2, min_samples_split=10, n_estimators=50;, score=0.895 total time=   0.1s\n",
      "[CV 4/5] END max_depth=10, min_samples_leaf=2, min_samples_split=10, n_estimators=50;, score=0.889 total time=   0.1s\n",
      "[CV 5/5] END max_depth=10, min_samples_leaf=2, min_samples_split=10, n_estimators=50;, score=0.871 total time=   0.1s\n",
      "[CV 1/5] END max_depth=10, min_samples_leaf=2, min_samples_split=10, n_estimators=100;, score=0.895 total time=   0.3s\n",
      "[CV 2/5] END max_depth=10, min_samples_leaf=2, min_samples_split=10, n_estimators=100;, score=0.930 total time=   0.3s\n",
      "[CV 3/5] END max_depth=10, min_samples_leaf=2, min_samples_split=10, n_estimators=100;, score=0.901 total time=   0.3s\n",
      "[CV 4/5] END max_depth=10, min_samples_leaf=2, min_samples_split=10, n_estimators=100;, score=0.893 total time=   0.3s\n",
      "[CV 5/5] END max_depth=10, min_samples_leaf=2, min_samples_split=10, n_estimators=100;, score=0.869 total time=   0.3s\n",
      "[CV 1/5] END max_depth=10, min_samples_leaf=2, min_samples_split=10, n_estimators=200;, score=0.892 total time=   0.7s\n",
      "[CV 2/5] END max_depth=10, min_samples_leaf=2, min_samples_split=10, n_estimators=200;, score=0.924 total time=   0.7s\n",
      "[CV 3/5] END max_depth=10, min_samples_leaf=2, min_samples_split=10, n_estimators=200;, score=0.893 total time=   0.7s\n",
      "[CV 4/5] END max_depth=10, min_samples_leaf=2, min_samples_split=10, n_estimators=200;, score=0.892 total time=   0.7s\n",
      "[CV 5/5] END max_depth=10, min_samples_leaf=2, min_samples_split=10, n_estimators=200;, score=0.874 total time=   0.7s\n",
      "[CV 1/5] END max_depth=10, min_samples_leaf=4, min_samples_split=2, n_estimators=50;, score=0.901 total time=   0.1s\n",
      "[CV 2/5] END max_depth=10, min_samples_leaf=4, min_samples_split=2, n_estimators=50;, score=0.923 total time=   0.1s\n",
      "[CV 3/5] END max_depth=10, min_samples_leaf=4, min_samples_split=2, n_estimators=50;, score=0.902 total time=   0.1s\n",
      "[CV 4/5] END max_depth=10, min_samples_leaf=4, min_samples_split=2, n_estimators=50;, score=0.890 total time=   0.1s\n",
      "[CV 5/5] END max_depth=10, min_samples_leaf=4, min_samples_split=2, n_estimators=50;, score=0.868 total time=   0.1s\n",
      "[CV 1/5] END max_depth=10, min_samples_leaf=4, min_samples_split=2, n_estimators=100;, score=0.892 total time=   0.3s\n",
      "[CV 2/5] END max_depth=10, min_samples_leaf=4, min_samples_split=2, n_estimators=100;, score=0.921 total time=   0.3s\n",
      "[CV 3/5] END max_depth=10, min_samples_leaf=4, min_samples_split=2, n_estimators=100;, score=0.890 total time=   0.4s\n",
      "[CV 4/5] END max_depth=10, min_samples_leaf=4, min_samples_split=2, n_estimators=100;, score=0.890 total time=   0.3s\n",
      "[CV 5/5] END max_depth=10, min_samples_leaf=4, min_samples_split=2, n_estimators=100;, score=0.879 total time=   0.4s\n",
      "[CV 1/5] END max_depth=10, min_samples_leaf=4, min_samples_split=2, n_estimators=200;, score=0.888 total time=   0.7s\n",
      "[CV 2/5] END max_depth=10, min_samples_leaf=4, min_samples_split=2, n_estimators=200;, score=0.914 total time=   0.7s\n",
      "[CV 3/5] END max_depth=10, min_samples_leaf=4, min_samples_split=2, n_estimators=200;, score=0.902 total time=   0.7s\n",
      "[CV 4/5] END max_depth=10, min_samples_leaf=4, min_samples_split=2, n_estimators=200;, score=0.893 total time=   0.6s\n",
      "[CV 5/5] END max_depth=10, min_samples_leaf=4, min_samples_split=2, n_estimators=200;, score=0.871 total time=   0.8s\n",
      "[CV 1/5] END max_depth=10, min_samples_leaf=4, min_samples_split=5, n_estimators=50;, score=0.890 total time=   0.2s\n",
      "[CV 2/5] END max_depth=10, min_samples_leaf=4, min_samples_split=5, n_estimators=50;, score=0.923 total time=   0.1s\n",
      "[CV 3/5] END max_depth=10, min_samples_leaf=4, min_samples_split=5, n_estimators=50;, score=0.900 total time=   0.1s\n",
      "[CV 4/5] END max_depth=10, min_samples_leaf=4, min_samples_split=5, n_estimators=50;, score=0.890 total time=   0.1s\n",
      "[CV 5/5] END max_depth=10, min_samples_leaf=4, min_samples_split=5, n_estimators=50;, score=0.875 total time=   0.1s\n",
      "[CV 1/5] END max_depth=10, min_samples_leaf=4, min_samples_split=5, n_estimators=100;, score=0.894 total time=   0.2s\n",
      "[CV 2/5] END max_depth=10, min_samples_leaf=4, min_samples_split=5, n_estimators=100;, score=0.919 total time=   0.3s\n",
      "[CV 3/5] END max_depth=10, min_samples_leaf=4, min_samples_split=5, n_estimators=100;, score=0.900 total time=   0.3s\n",
      "[CV 4/5] END max_depth=10, min_samples_leaf=4, min_samples_split=5, n_estimators=100;, score=0.888 total time=   0.3s\n",
      "[CV 5/5] END max_depth=10, min_samples_leaf=4, min_samples_split=5, n_estimators=100;, score=0.870 total time=   0.3s\n",
      "[CV 1/5] END max_depth=10, min_samples_leaf=4, min_samples_split=5, n_estimators=200;, score=0.896 total time=   0.7s\n",
      "[CV 2/5] END max_depth=10, min_samples_leaf=4, min_samples_split=5, n_estimators=200;, score=0.922 total time=   0.7s\n",
      "[CV 3/5] END max_depth=10, min_samples_leaf=4, min_samples_split=5, n_estimators=200;, score=0.893 total time=   0.9s\n",
      "[CV 4/5] END max_depth=10, min_samples_leaf=4, min_samples_split=5, n_estimators=200;, score=0.887 total time=   0.9s\n",
      "[CV 5/5] END max_depth=10, min_samples_leaf=4, min_samples_split=5, n_estimators=200;, score=0.875 total time=   0.7s\n",
      "[CV 1/5] END max_depth=10, min_samples_leaf=4, min_samples_split=10, n_estimators=50;, score=0.894 total time=   0.1s\n",
      "[CV 2/5] END max_depth=10, min_samples_leaf=4, min_samples_split=10, n_estimators=50;, score=0.924 total time=   0.1s\n",
      "[CV 3/5] END max_depth=10, min_samples_leaf=4, min_samples_split=10, n_estimators=50;, score=0.887 total time=   0.1s\n",
      "[CV 4/5] END max_depth=10, min_samples_leaf=4, min_samples_split=10, n_estimators=50;, score=0.881 total time=   0.1s\n",
      "[CV 5/5] END max_depth=10, min_samples_leaf=4, min_samples_split=10, n_estimators=50;, score=0.871 total time=   0.1s\n",
      "[CV 1/5] END max_depth=10, min_samples_leaf=4, min_samples_split=10, n_estimators=100;, score=0.887 total time=   0.3s\n",
      "[CV 2/5] END max_depth=10, min_samples_leaf=4, min_samples_split=10, n_estimators=100;, score=0.918 total time=   0.3s\n",
      "[CV 3/5] END max_depth=10, min_samples_leaf=4, min_samples_split=10, n_estimators=100;, score=0.894 total time=   0.3s\n",
      "[CV 4/5] END max_depth=10, min_samples_leaf=4, min_samples_split=10, n_estimators=100;, score=0.889 total time=   0.3s\n",
      "[CV 5/5] END max_depth=10, min_samples_leaf=4, min_samples_split=10, n_estimators=100;, score=0.873 total time=   0.4s\n",
      "[CV 1/5] END max_depth=10, min_samples_leaf=4, min_samples_split=10, n_estimators=200;, score=0.894 total time=   0.5s\n",
      "[CV 2/5] END max_depth=10, min_samples_leaf=4, min_samples_split=10, n_estimators=200;, score=0.922 total time=   0.8s\n",
      "[CV 3/5] END max_depth=10, min_samples_leaf=4, min_samples_split=10, n_estimators=200;, score=0.891 total time=   0.8s\n",
      "[CV 4/5] END max_depth=10, min_samples_leaf=4, min_samples_split=10, n_estimators=200;, score=0.884 total time=   0.7s\n",
      "[CV 5/5] END max_depth=10, min_samples_leaf=4, min_samples_split=10, n_estimators=200;, score=0.867 total time=   0.7s\n",
      "[CV 1/5] END max_depth=20, min_samples_leaf=1, min_samples_split=2, n_estimators=50;, score=0.905 total time=   0.1s\n",
      "[CV 2/5] END max_depth=20, min_samples_leaf=1, min_samples_split=2, n_estimators=50;, score=0.919 total time=   0.2s\n",
      "[CV 3/5] END max_depth=20, min_samples_leaf=1, min_samples_split=2, n_estimators=50;, score=0.901 total time=   0.1s\n",
      "[CV 4/5] END max_depth=20, min_samples_leaf=1, min_samples_split=2, n_estimators=50;, score=0.897 total time=   0.1s\n",
      "[CV 5/5] END max_depth=20, min_samples_leaf=1, min_samples_split=2, n_estimators=50;, score=0.878 total time=   0.1s\n",
      "[CV 1/5] END max_depth=20, min_samples_leaf=1, min_samples_split=2, n_estimators=100;, score=0.901 total time=   0.3s\n",
      "[CV 2/5] END max_depth=20, min_samples_leaf=1, min_samples_split=2, n_estimators=100;, score=0.924 total time=   0.4s\n",
      "[CV 3/5] END max_depth=20, min_samples_leaf=1, min_samples_split=2, n_estimators=100;, score=0.903 total time=   0.3s\n",
      "[CV 4/5] END max_depth=20, min_samples_leaf=1, min_samples_split=2, n_estimators=100;, score=0.895 total time=   0.3s\n",
      "[CV 5/5] END max_depth=20, min_samples_leaf=1, min_samples_split=2, n_estimators=100;, score=0.880 total time=   0.3s\n",
      "[CV 1/5] END max_depth=20, min_samples_leaf=1, min_samples_split=2, n_estimators=200;, score=0.905 total time=   0.7s\n",
      "[CV 2/5] END max_depth=20, min_samples_leaf=1, min_samples_split=2, n_estimators=200;, score=0.922 total time=   0.8s\n",
      "[CV 3/5] END max_depth=20, min_samples_leaf=1, min_samples_split=2, n_estimators=200;, score=0.898 total time=   0.8s\n",
      "[CV 4/5] END max_depth=20, min_samples_leaf=1, min_samples_split=2, n_estimators=200;, score=0.897 total time=   1.0s\n",
      "[CV 5/5] END max_depth=20, min_samples_leaf=1, min_samples_split=2, n_estimators=200;, score=0.889 total time=   0.9s\n",
      "[CV 1/5] END max_depth=20, min_samples_leaf=1, min_samples_split=5, n_estimators=50;, score=0.902 total time=   0.1s\n",
      "[CV 2/5] END max_depth=20, min_samples_leaf=1, min_samples_split=5, n_estimators=50;, score=0.926 total time=   0.2s\n",
      "[CV 3/5] END max_depth=20, min_samples_leaf=1, min_samples_split=5, n_estimators=50;, score=0.901 total time=   0.1s\n",
      "[CV 4/5] END max_depth=20, min_samples_leaf=1, min_samples_split=5, n_estimators=50;, score=0.887 total time=   0.2s\n",
      "[CV 5/5] END max_depth=20, min_samples_leaf=1, min_samples_split=5, n_estimators=50;, score=0.887 total time=   0.1s\n",
      "[CV 1/5] END max_depth=20, min_samples_leaf=1, min_samples_split=5, n_estimators=100;, score=0.896 total time=   0.4s\n",
      "[CV 2/5] END max_depth=20, min_samples_leaf=1, min_samples_split=5, n_estimators=100;, score=0.926 total time=   0.3s\n",
      "[CV 3/5] END max_depth=20, min_samples_leaf=1, min_samples_split=5, n_estimators=100;, score=0.902 total time=   0.3s\n",
      "[CV 4/5] END max_depth=20, min_samples_leaf=1, min_samples_split=5, n_estimators=100;, score=0.895 total time=   0.3s\n",
      "[CV 5/5] END max_depth=20, min_samples_leaf=1, min_samples_split=5, n_estimators=100;, score=0.874 total time=   0.3s\n",
      "[CV 1/5] END max_depth=20, min_samples_leaf=1, min_samples_split=5, n_estimators=200;, score=0.898 total time=   0.9s\n",
      "[CV 2/5] END max_depth=20, min_samples_leaf=1, min_samples_split=5, n_estimators=200;, score=0.923 total time=   0.8s\n",
      "[CV 3/5] END max_depth=20, min_samples_leaf=1, min_samples_split=5, n_estimators=200;, score=0.900 total time=   0.9s\n",
      "[CV 4/5] END max_depth=20, min_samples_leaf=1, min_samples_split=5, n_estimators=200;, score=0.895 total time=   0.8s\n",
      "[CV 5/5] END max_depth=20, min_samples_leaf=1, min_samples_split=5, n_estimators=200;, score=0.883 total time=   0.8s\n",
      "[CV 1/5] END max_depth=20, min_samples_leaf=1, min_samples_split=10, n_estimators=50;, score=0.894 total time=   0.1s\n",
      "[CV 2/5] END max_depth=20, min_samples_leaf=1, min_samples_split=10, n_estimators=50;, score=0.917 total time=   0.1s\n",
      "[CV 3/5] END max_depth=20, min_samples_leaf=1, min_samples_split=10, n_estimators=50;, score=0.888 total time=   0.1s\n",
      "[CV 4/5] END max_depth=20, min_samples_leaf=1, min_samples_split=10, n_estimators=50;, score=0.888 total time=   0.1s\n",
      "[CV 5/5] END max_depth=20, min_samples_leaf=1, min_samples_split=10, n_estimators=50;, score=0.873 total time=   0.1s\n",
      "[CV 1/5] END max_depth=20, min_samples_leaf=1, min_samples_split=10, n_estimators=100;, score=0.891 total time=   0.3s\n",
      "[CV 2/5] END max_depth=20, min_samples_leaf=1, min_samples_split=10, n_estimators=100;, score=0.921 total time=   0.3s\n",
      "[CV 3/5] END max_depth=20, min_samples_leaf=1, min_samples_split=10, n_estimators=100;, score=0.906 total time=   0.3s\n",
      "[CV 4/5] END max_depth=20, min_samples_leaf=1, min_samples_split=10, n_estimators=100;, score=0.892 total time=   0.3s\n",
      "[CV 5/5] END max_depth=20, min_samples_leaf=1, min_samples_split=10, n_estimators=100;, score=0.878 total time=   0.3s\n",
      "[CV 1/5] END max_depth=20, min_samples_leaf=1, min_samples_split=10, n_estimators=200;, score=0.892 total time=   0.8s\n",
      "[CV 2/5] END max_depth=20, min_samples_leaf=1, min_samples_split=10, n_estimators=200;, score=0.923 total time=   0.8s\n",
      "[CV 3/5] END max_depth=20, min_samples_leaf=1, min_samples_split=10, n_estimators=200;, score=0.897 total time=   0.7s\n",
      "[CV 4/5] END max_depth=20, min_samples_leaf=1, min_samples_split=10, n_estimators=200;, score=0.902 total time=   0.7s\n",
      "[CV 5/5] END max_depth=20, min_samples_leaf=1, min_samples_split=10, n_estimators=200;, score=0.870 total time=   0.6s\n",
      "[CV 1/5] END max_depth=20, min_samples_leaf=2, min_samples_split=2, n_estimators=50;, score=0.895 total time=   0.1s\n",
      "[CV 2/5] END max_depth=20, min_samples_leaf=2, min_samples_split=2, n_estimators=50;, score=0.919 total time=   0.1s\n",
      "[CV 3/5] END max_depth=20, min_samples_leaf=2, min_samples_split=2, n_estimators=50;, score=0.901 total time=   0.1s\n",
      "[CV 4/5] END max_depth=20, min_samples_leaf=2, min_samples_split=2, n_estimators=50;, score=0.890 total time=   0.1s\n",
      "[CV 5/5] END max_depth=20, min_samples_leaf=2, min_samples_split=2, n_estimators=50;, score=0.879 total time=   0.1s\n",
      "[CV 1/5] END max_depth=20, min_samples_leaf=2, min_samples_split=2, n_estimators=100;, score=0.899 total time=   0.3s\n",
      "[CV 2/5] END max_depth=20, min_samples_leaf=2, min_samples_split=2, n_estimators=100;, score=0.931 total time=   0.3s\n",
      "[CV 3/5] END max_depth=20, min_samples_leaf=2, min_samples_split=2, n_estimators=100;, score=0.904 total time=   0.3s\n",
      "[CV 4/5] END max_depth=20, min_samples_leaf=2, min_samples_split=2, n_estimators=100;, score=0.892 total time=   0.3s\n",
      "[CV 5/5] END max_depth=20, min_samples_leaf=2, min_samples_split=2, n_estimators=100;, score=0.874 total time=   0.3s\n",
      "[CV 1/5] END max_depth=20, min_samples_leaf=2, min_samples_split=2, n_estimators=200;, score=0.900 total time=   0.7s\n",
      "[CV 2/5] END max_depth=20, min_samples_leaf=2, min_samples_split=2, n_estimators=200;, score=0.925 total time=   0.7s\n",
      "[CV 3/5] END max_depth=20, min_samples_leaf=2, min_samples_split=2, n_estimators=200;, score=0.907 total time=   0.9s\n",
      "[CV 4/5] END max_depth=20, min_samples_leaf=2, min_samples_split=2, n_estimators=200;, score=0.891 total time=   0.8s\n",
      "[CV 5/5] END max_depth=20, min_samples_leaf=2, min_samples_split=2, n_estimators=200;, score=0.876 total time=   0.9s\n",
      "[CV 1/5] END max_depth=20, min_samples_leaf=2, min_samples_split=5, n_estimators=50;, score=0.891 total time=   0.1s\n",
      "[CV 2/5] END max_depth=20, min_samples_leaf=2, min_samples_split=5, n_estimators=50;, score=0.920 total time=   0.1s\n",
      "[CV 3/5] END max_depth=20, min_samples_leaf=2, min_samples_split=5, n_estimators=50;, score=0.892 total time=   0.1s\n",
      "[CV 4/5] END max_depth=20, min_samples_leaf=2, min_samples_split=5, n_estimators=50;, score=0.892 total time=   0.2s\n",
      "[CV 5/5] END max_depth=20, min_samples_leaf=2, min_samples_split=5, n_estimators=50;, score=0.877 total time=   0.2s\n",
      "[CV 1/5] END max_depth=20, min_samples_leaf=2, min_samples_split=5, n_estimators=100;, score=0.898 total time=   0.3s\n",
      "[CV 2/5] END max_depth=20, min_samples_leaf=2, min_samples_split=5, n_estimators=100;, score=0.929 total time=   0.3s\n",
      "[CV 3/5] END max_depth=20, min_samples_leaf=2, min_samples_split=5, n_estimators=100;, score=0.900 total time=   0.3s\n",
      "[CV 4/5] END max_depth=20, min_samples_leaf=2, min_samples_split=5, n_estimators=100;, score=0.896 total time=   0.3s\n",
      "[CV 5/5] END max_depth=20, min_samples_leaf=2, min_samples_split=5, n_estimators=100;, score=0.883 total time=   0.3s\n",
      "[CV 1/5] END max_depth=20, min_samples_leaf=2, min_samples_split=5, n_estimators=200;, score=0.893 total time=   0.9s\n",
      "[CV 2/5] END max_depth=20, min_samples_leaf=2, min_samples_split=5, n_estimators=200;, score=0.923 total time=   0.9s\n",
      "[CV 3/5] END max_depth=20, min_samples_leaf=2, min_samples_split=5, n_estimators=200;, score=0.900 total time=   0.9s\n",
      "[CV 4/5] END max_depth=20, min_samples_leaf=2, min_samples_split=5, n_estimators=200;, score=0.889 total time=   0.8s\n",
      "[CV 5/5] END max_depth=20, min_samples_leaf=2, min_samples_split=5, n_estimators=200;, score=0.875 total time=   0.7s\n",
      "[CV 1/5] END max_depth=20, min_samples_leaf=2, min_samples_split=10, n_estimators=50;, score=0.887 total time=   0.1s\n",
      "[CV 2/5] END max_depth=20, min_samples_leaf=2, min_samples_split=10, n_estimators=50;, score=0.919 total time=   0.1s\n",
      "[CV 3/5] END max_depth=20, min_samples_leaf=2, min_samples_split=10, n_estimators=50;, score=0.893 total time=   0.1s\n",
      "[CV 4/5] END max_depth=20, min_samples_leaf=2, min_samples_split=10, n_estimators=50;, score=0.894 total time=   0.2s\n",
      "[CV 5/5] END max_depth=20, min_samples_leaf=2, min_samples_split=10, n_estimators=50;, score=0.872 total time=   0.1s\n",
      "[CV 1/5] END max_depth=20, min_samples_leaf=2, min_samples_split=10, n_estimators=100;, score=0.886 total time=   0.3s\n",
      "[CV 2/5] END max_depth=20, min_samples_leaf=2, min_samples_split=10, n_estimators=100;, score=0.920 total time=   0.3s\n",
      "[CV 3/5] END max_depth=20, min_samples_leaf=2, min_samples_split=10, n_estimators=100;, score=0.888 total time=   0.3s\n",
      "[CV 4/5] END max_depth=20, min_samples_leaf=2, min_samples_split=10, n_estimators=100;, score=0.888 total time=   0.3s\n",
      "[CV 5/5] END max_depth=20, min_samples_leaf=2, min_samples_split=10, n_estimators=100;, score=0.871 total time=   0.3s\n",
      "[CV 1/5] END max_depth=20, min_samples_leaf=2, min_samples_split=10, n_estimators=200;, score=0.890 total time=   0.6s\n",
      "[CV 2/5] END max_depth=20, min_samples_leaf=2, min_samples_split=10, n_estimators=200;, score=0.925 total time=   0.6s\n",
      "[CV 3/5] END max_depth=20, min_samples_leaf=2, min_samples_split=10, n_estimators=200;, score=0.898 total time=   0.7s\n",
      "[CV 4/5] END max_depth=20, min_samples_leaf=2, min_samples_split=10, n_estimators=200;, score=0.895 total time=   0.8s\n",
      "[CV 5/5] END max_depth=20, min_samples_leaf=2, min_samples_split=10, n_estimators=200;, score=0.877 total time=   0.8s\n",
      "[CV 1/5] END max_depth=20, min_samples_leaf=4, min_samples_split=2, n_estimators=50;, score=0.892 total time=   0.1s\n",
      "[CV 2/5] END max_depth=20, min_samples_leaf=4, min_samples_split=2, n_estimators=50;, score=0.930 total time=   0.2s\n",
      "[CV 3/5] END max_depth=20, min_samples_leaf=4, min_samples_split=2, n_estimators=50;, score=0.905 total time=   0.1s\n",
      "[CV 4/5] END max_depth=20, min_samples_leaf=4, min_samples_split=2, n_estimators=50;, score=0.887 total time=   0.1s\n",
      "[CV 5/5] END max_depth=20, min_samples_leaf=4, min_samples_split=2, n_estimators=50;, score=0.884 total time=   0.1s\n",
      "[CV 1/5] END max_depth=20, min_samples_leaf=4, min_samples_split=2, n_estimators=100;, score=0.890 total time=   0.3s\n",
      "[CV 2/5] END max_depth=20, min_samples_leaf=4, min_samples_split=2, n_estimators=100;, score=0.924 total time=   0.3s\n",
      "[CV 3/5] END max_depth=20, min_samples_leaf=4, min_samples_split=2, n_estimators=100;, score=0.889 total time=   0.3s\n",
      "[CV 4/5] END max_depth=20, min_samples_leaf=4, min_samples_split=2, n_estimators=100;, score=0.885 total time=   0.2s\n",
      "[CV 5/5] END max_depth=20, min_samples_leaf=4, min_samples_split=2, n_estimators=100;, score=0.870 total time=   0.2s\n",
      "[CV 1/5] END max_depth=20, min_samples_leaf=4, min_samples_split=2, n_estimators=200;, score=0.894 total time=   0.7s\n",
      "[CV 2/5] END max_depth=20, min_samples_leaf=4, min_samples_split=2, n_estimators=200;, score=0.925 total time=   0.8s\n",
      "[CV 3/5] END max_depth=20, min_samples_leaf=4, min_samples_split=2, n_estimators=200;, score=0.889 total time=   0.7s\n",
      "[CV 4/5] END max_depth=20, min_samples_leaf=4, min_samples_split=2, n_estimators=200;, score=0.892 total time=   0.7s\n",
      "[CV 5/5] END max_depth=20, min_samples_leaf=4, min_samples_split=2, n_estimators=200;, score=0.880 total time=   0.7s\n",
      "[CV 1/5] END max_depth=20, min_samples_leaf=4, min_samples_split=5, n_estimators=50;, score=0.890 total time=   0.1s\n",
      "[CV 2/5] END max_depth=20, min_samples_leaf=4, min_samples_split=5, n_estimators=50;, score=0.927 total time=   0.1s\n",
      "[CV 3/5] END max_depth=20, min_samples_leaf=4, min_samples_split=5, n_estimators=50;, score=0.897 total time=   0.1s\n",
      "[CV 4/5] END max_depth=20, min_samples_leaf=4, min_samples_split=5, n_estimators=50;, score=0.895 total time=   0.2s\n",
      "[CV 5/5] END max_depth=20, min_samples_leaf=4, min_samples_split=5, n_estimators=50;, score=0.870 total time=   0.2s\n",
      "[CV 1/5] END max_depth=20, min_samples_leaf=4, min_samples_split=5, n_estimators=100;, score=0.891 total time=   0.5s\n",
      "[CV 2/5] END max_depth=20, min_samples_leaf=4, min_samples_split=5, n_estimators=100;, score=0.923 total time=   0.5s\n",
      "[CV 3/5] END max_depth=20, min_samples_leaf=4, min_samples_split=5, n_estimators=100;, score=0.886 total time=   0.4s\n",
      "[CV 4/5] END max_depth=20, min_samples_leaf=4, min_samples_split=5, n_estimators=100;, score=0.889 total time=   0.5s\n",
      "[CV 5/5] END max_depth=20, min_samples_leaf=4, min_samples_split=5, n_estimators=100;, score=0.875 total time=   0.6s\n",
      "[CV 1/5] END max_depth=20, min_samples_leaf=4, min_samples_split=5, n_estimators=200;, score=0.894 total time=   1.1s\n",
      "[CV 2/5] END max_depth=20, min_samples_leaf=4, min_samples_split=5, n_estimators=200;, score=0.926 total time=   0.7s\n",
      "[CV 3/5] END max_depth=20, min_samples_leaf=4, min_samples_split=5, n_estimators=200;, score=0.893 total time=   0.7s\n",
      "[CV 4/5] END max_depth=20, min_samples_leaf=4, min_samples_split=5, n_estimators=200;, score=0.886 total time=   0.7s\n",
      "[CV 5/5] END max_depth=20, min_samples_leaf=4, min_samples_split=5, n_estimators=200;, score=0.871 total time=   0.7s\n",
      "[CV 1/5] END max_depth=20, min_samples_leaf=4, min_samples_split=10, n_estimators=50;, score=0.893 total time=   0.1s\n",
      "[CV 2/5] END max_depth=20, min_samples_leaf=4, min_samples_split=10, n_estimators=50;, score=0.922 total time=   0.1s\n",
      "[CV 3/5] END max_depth=20, min_samples_leaf=4, min_samples_split=10, n_estimators=50;, score=0.885 total time=   0.1s\n",
      "[CV 4/5] END max_depth=20, min_samples_leaf=4, min_samples_split=10, n_estimators=50;, score=0.897 total time=   0.1s\n",
      "[CV 5/5] END max_depth=20, min_samples_leaf=4, min_samples_split=10, n_estimators=50;, score=0.871 total time=   0.1s\n",
      "[CV 1/5] END max_depth=20, min_samples_leaf=4, min_samples_split=10, n_estimators=100;, score=0.892 total time=   0.3s\n",
      "[CV 2/5] END max_depth=20, min_samples_leaf=4, min_samples_split=10, n_estimators=100;, score=0.919 total time=   0.3s\n",
      "[CV 3/5] END max_depth=20, min_samples_leaf=4, min_samples_split=10, n_estimators=100;, score=0.899 total time=   0.3s\n",
      "[CV 4/5] END max_depth=20, min_samples_leaf=4, min_samples_split=10, n_estimators=100;, score=0.890 total time=   0.3s\n",
      "[CV 5/5] END max_depth=20, min_samples_leaf=4, min_samples_split=10, n_estimators=100;, score=0.865 total time=   0.4s\n",
      "[CV 1/5] END max_depth=20, min_samples_leaf=4, min_samples_split=10, n_estimators=200;, score=0.892 total time=   0.7s\n",
      "[CV 2/5] END max_depth=20, min_samples_leaf=4, min_samples_split=10, n_estimators=200;, score=0.918 total time=   0.7s\n",
      "[CV 3/5] END max_depth=20, min_samples_leaf=4, min_samples_split=10, n_estimators=200;, score=0.888 total time=   1.0s\n",
      "[CV 4/5] END max_depth=20, min_samples_leaf=4, min_samples_split=10, n_estimators=200;, score=0.890 total time=   0.8s\n",
      "[CV 5/5] END max_depth=20, min_samples_leaf=4, min_samples_split=10, n_estimators=200;, score=0.872 total time=   0.7s\n",
      "Best parameters found for Random forest: {'max_depth': 10, 'min_samples_leaf': 1, 'min_samples_split': 2, 'n_estimators': 100}\n",
      "Memorization Performance: 0.9850494138218521\n",
      "Generalization Performance: 0.8769985846546079\n"
     ]
    }
   ],
   "source": [
    "from sklearn.ensemble import RandomForestClassifier\n",
    "\n",
    "# Define the hyperparameter grid\n",
    "param_grid_rf = {'n_estimators': [50, 100, 200],\n",
    "                 'max_depth': [None, 10, 20],\n",
    "                 'min_samples_split': [2, 5, 10],\n",
    "                 'min_samples_leaf': [1, 2, 4]}\n",
    "\n",
    "# Initialize the model\n",
    "rf = RandomForestClassifier()\n",
    "\n",
    "# Perform hyperparameter optimization\n",
    "grid_search_rf = GridSearchCV(rf, param_grid_rf, cv=5, scoring='f1_weighted', verbose=3)\n",
    "grid_search_rf.fit(X_train_s_r_c, y_train)\n",
    "\n",
    "# Get the best model\n",
    "best_rf = grid_search_rf.best_estimator_\n",
    "\n",
    "# Print best parameters found\n",
    "print(\"Best parameters found for Random forest:\", grid_search_rf.best_params_)\n",
    "\n",
    "# Evaluate the model\n",
    "rf_train_pred = grid_search_rf.predict(X_train_s_r_c)\n",
    "rf_test_pred = grid_search_rf.predict(X_test_s_r_c)\n",
    "\n",
    "f1_score_train_rf = f1_score(y_train, rf_train_pred, average='weighted')\n",
    "f1_score_test_rf = f1_score(y_test, rf_test_pred, average='weighted')\n",
    "\n",
    "print(\"Memorization Performance:\", f1_score_train_rf)\n",
    "print(\"Generalization Performance:\", f1_score_test_rf)\n"
   ]
  },
  {
   "cell_type": "markdown",
   "id": "504dcf11",
   "metadata": {},
   "source": [
    "# Gradient Boosting"
   ]
  },
  {
   "cell_type": "code",
   "execution_count": 92,
   "id": "257fcc72",
   "metadata": {},
   "outputs": [
    {
     "name": "stdout",
     "output_type": "stream",
     "text": [
      "Fitting 5 folds for each of 27 candidates, totalling 135 fits\n",
      "[CV 1/5] END learning_rate=0.01, max_depth=3, n_estimators=50;, score=0.856 total time=   1.5s\n",
      "[CV 2/5] END learning_rate=0.01, max_depth=3, n_estimators=50;, score=0.878 total time=   1.2s\n",
      "[CV 3/5] END learning_rate=0.01, max_depth=3, n_estimators=50;, score=0.853 total time=   1.1s\n",
      "[CV 4/5] END learning_rate=0.01, max_depth=3, n_estimators=50;, score=0.851 total time=   1.2s\n",
      "[CV 5/5] END learning_rate=0.01, max_depth=3, n_estimators=50;, score=0.850 total time=   1.2s\n",
      "[CV 1/5] END learning_rate=0.01, max_depth=3, n_estimators=100;, score=0.863 total time=   2.2s\n",
      "[CV 2/5] END learning_rate=0.01, max_depth=3, n_estimators=100;, score=0.890 total time=   2.4s\n",
      "[CV 3/5] END learning_rate=0.01, max_depth=3, n_estimators=100;, score=0.855 total time=   2.6s\n",
      "[CV 4/5] END learning_rate=0.01, max_depth=3, n_estimators=100;, score=0.855 total time=   2.4s\n",
      "[CV 5/5] END learning_rate=0.01, max_depth=3, n_estimators=100;, score=0.854 total time=   2.5s\n",
      "[CV 1/5] END learning_rate=0.01, max_depth=3, n_estimators=200;, score=0.881 total time=   5.3s\n",
      "[CV 2/5] END learning_rate=0.01, max_depth=3, n_estimators=200;, score=0.906 total time=   4.6s\n",
      "[CV 3/5] END learning_rate=0.01, max_depth=3, n_estimators=200;, score=0.877 total time=   4.7s\n",
      "[CV 4/5] END learning_rate=0.01, max_depth=3, n_estimators=200;, score=0.882 total time=   4.4s\n",
      "[CV 5/5] END learning_rate=0.01, max_depth=3, n_estimators=200;, score=0.874 total time=   4.6s\n",
      "[CV 1/5] END learning_rate=0.01, max_depth=5, n_estimators=50;, score=0.858 total time=   1.8s\n",
      "[CV 2/5] END learning_rate=0.01, max_depth=5, n_estimators=50;, score=0.901 total time=   2.1s\n",
      "[CV 3/5] END learning_rate=0.01, max_depth=5, n_estimators=50;, score=0.863 total time=   1.9s\n",
      "[CV 4/5] END learning_rate=0.01, max_depth=5, n_estimators=50;, score=0.866 total time=   1.9s\n",
      "[CV 5/5] END learning_rate=0.01, max_depth=5, n_estimators=50;, score=0.856 total time=   2.1s\n",
      "[CV 1/5] END learning_rate=0.01, max_depth=5, n_estimators=100;, score=0.874 total time=   4.2s\n",
      "[CV 2/5] END learning_rate=0.01, max_depth=5, n_estimators=100;, score=0.909 total time=   3.9s\n",
      "[CV 3/5] END learning_rate=0.01, max_depth=5, n_estimators=100;, score=0.875 total time=   3.8s\n",
      "[CV 4/5] END learning_rate=0.01, max_depth=5, n_estimators=100;, score=0.885 total time=   3.9s\n",
      "[CV 5/5] END learning_rate=0.01, max_depth=5, n_estimators=100;, score=0.864 total time=   4.2s\n",
      "[CV 1/5] END learning_rate=0.01, max_depth=5, n_estimators=200;, score=0.889 total time=   9.1s\n",
      "[CV 2/5] END learning_rate=0.01, max_depth=5, n_estimators=200;, score=0.912 total time=   9.7s\n",
      "[CV 3/5] END learning_rate=0.01, max_depth=5, n_estimators=200;, score=0.888 total time=   8.7s\n",
      "[CV 4/5] END learning_rate=0.01, max_depth=5, n_estimators=200;, score=0.888 total time=   8.3s\n",
      "[CV 5/5] END learning_rate=0.01, max_depth=5, n_estimators=200;, score=0.872 total time=   8.1s\n",
      "[CV 1/5] END learning_rate=0.01, max_depth=7, n_estimators=50;, score=0.871 total time=   3.2s\n",
      "[CV 2/5] END learning_rate=0.01, max_depth=7, n_estimators=50;, score=0.899 total time=   3.2s\n",
      "[CV 3/5] END learning_rate=0.01, max_depth=7, n_estimators=50;, score=0.869 total time=   3.1s\n",
      "[CV 4/5] END learning_rate=0.01, max_depth=7, n_estimators=50;, score=0.879 total time=   3.1s\n",
      "[CV 5/5] END learning_rate=0.01, max_depth=7, n_estimators=50;, score=0.855 total time=   3.4s\n",
      "[CV 1/5] END learning_rate=0.01, max_depth=7, n_estimators=100;, score=0.885 total time=   6.5s\n",
      "[CV 2/5] END learning_rate=0.01, max_depth=7, n_estimators=100;, score=0.904 total time=   6.1s\n",
      "[CV 3/5] END learning_rate=0.01, max_depth=7, n_estimators=100;, score=0.874 total time=   5.8s\n",
      "[CV 4/5] END learning_rate=0.01, max_depth=7, n_estimators=100;, score=0.892 total time=   5.9s\n",
      "[CV 5/5] END learning_rate=0.01, max_depth=7, n_estimators=100;, score=0.866 total time=   6.1s\n",
      "[CV 1/5] END learning_rate=0.01, max_depth=7, n_estimators=200;, score=0.886 total time=  11.7s\n",
      "[CV 2/5] END learning_rate=0.01, max_depth=7, n_estimators=200;, score=0.920 total time=  12.3s\n",
      "[CV 3/5] END learning_rate=0.01, max_depth=7, n_estimators=200;, score=0.875 total time=  11.1s\n",
      "[CV 4/5] END learning_rate=0.01, max_depth=7, n_estimators=200;, score=0.895 total time=  12.3s\n",
      "[CV 5/5] END learning_rate=0.01, max_depth=7, n_estimators=200;, score=0.871 total time=  11.7s\n",
      "[CV 1/5] END learning_rate=0.1, max_depth=3, n_estimators=50;, score=0.897 total time=   1.1s\n",
      "[CV 2/5] END learning_rate=0.1, max_depth=3, n_estimators=50;, score=0.921 total time=   1.1s\n",
      "[CV 3/5] END learning_rate=0.1, max_depth=3, n_estimators=50;, score=0.884 total time=   1.3s\n",
      "[CV 4/5] END learning_rate=0.1, max_depth=3, n_estimators=50;, score=0.888 total time=   1.2s\n",
      "[CV 5/5] END learning_rate=0.1, max_depth=3, n_estimators=50;, score=0.879 total time=   1.0s\n",
      "[CV 1/5] END learning_rate=0.1, max_depth=3, n_estimators=100;, score=0.901 total time=   2.2s\n",
      "[CV 2/5] END learning_rate=0.1, max_depth=3, n_estimators=100;, score=0.922 total time=   2.4s\n",
      "[CV 3/5] END learning_rate=0.1, max_depth=3, n_estimators=100;, score=0.897 total time=   2.5s\n",
      "[CV 4/5] END learning_rate=0.1, max_depth=3, n_estimators=100;, score=0.898 total time=   2.3s\n",
      "[CV 5/5] END learning_rate=0.1, max_depth=3, n_estimators=100;, score=0.878 total time=   2.6s\n",
      "[CV 1/5] END learning_rate=0.1, max_depth=3, n_estimators=200;, score=0.903 total time=   4.9s\n",
      "[CV 2/5] END learning_rate=0.1, max_depth=3, n_estimators=200;, score=0.924 total time=   4.7s\n",
      "[CV 3/5] END learning_rate=0.1, max_depth=3, n_estimators=200;, score=0.894 total time=   4.6s\n",
      "[CV 4/5] END learning_rate=0.1, max_depth=3, n_estimators=200;, score=0.884 total time=   4.8s\n",
      "[CV 5/5] END learning_rate=0.1, max_depth=3, n_estimators=200;, score=0.885 total time=   4.4s\n",
      "[CV 1/5] END learning_rate=0.1, max_depth=5, n_estimators=50;, score=0.895 total time=   1.6s\n",
      "[CV 2/5] END learning_rate=0.1, max_depth=5, n_estimators=50;, score=0.918 total time=   1.6s\n",
      "[CV 3/5] END learning_rate=0.1, max_depth=5, n_estimators=50;, score=0.893 total time=   1.5s\n",
      "[CV 4/5] END learning_rate=0.1, max_depth=5, n_estimators=50;, score=0.894 total time=   1.6s\n",
      "[CV 5/5] END learning_rate=0.1, max_depth=5, n_estimators=50;, score=0.879 total time=   1.5s\n",
      "[CV 1/5] END learning_rate=0.1, max_depth=5, n_estimators=100;, score=0.902 total time=   3.5s\n",
      "[CV 2/5] END learning_rate=0.1, max_depth=5, n_estimators=100;, score=0.924 total time=   3.2s\n",
      "[CV 3/5] END learning_rate=0.1, max_depth=5, n_estimators=100;, score=0.891 total time=   3.2s\n",
      "[CV 4/5] END learning_rate=0.1, max_depth=5, n_estimators=100;, score=0.888 total time=   3.3s\n",
      "[CV 5/5] END learning_rate=0.1, max_depth=5, n_estimators=100;, score=0.875 total time=   3.3s\n",
      "[CV 1/5] END learning_rate=0.1, max_depth=5, n_estimators=200;, score=0.899 total time=   7.6s\n",
      "[CV 2/5] END learning_rate=0.1, max_depth=5, n_estimators=200;, score=0.918 total time=   6.9s\n",
      "[CV 3/5] END learning_rate=0.1, max_depth=5, n_estimators=200;, score=0.887 total time=   7.2s\n",
      "[CV 4/5] END learning_rate=0.1, max_depth=5, n_estimators=200;, score=0.894 total time=   7.8s\n",
      "[CV 5/5] END learning_rate=0.1, max_depth=5, n_estimators=200;, score=0.893 total time=   8.0s\n",
      "[CV 1/5] END learning_rate=0.1, max_depth=7, n_estimators=50;, score=0.892 total time=   2.5s\n",
      "[CV 2/5] END learning_rate=0.1, max_depth=7, n_estimators=50;, score=0.919 total time=   2.5s\n",
      "[CV 3/5] END learning_rate=0.1, max_depth=7, n_estimators=50;, score=0.894 total time=   2.4s\n",
      "[CV 4/5] END learning_rate=0.1, max_depth=7, n_estimators=50;, score=0.897 total time=   2.4s\n",
      "[CV 5/5] END learning_rate=0.1, max_depth=7, n_estimators=50;, score=0.881 total time=   2.3s\n",
      "[CV 1/5] END learning_rate=0.1, max_depth=7, n_estimators=100;, score=0.899 total time=   4.5s\n",
      "[CV 2/5] END learning_rate=0.1, max_depth=7, n_estimators=100;, score=0.924 total time=   4.7s\n",
      "[CV 3/5] END learning_rate=0.1, max_depth=7, n_estimators=100;, score=0.893 total time=   5.1s\n",
      "[CV 4/5] END learning_rate=0.1, max_depth=7, n_estimators=100;, score=0.897 total time=   4.6s\n",
      "[CV 5/5] END learning_rate=0.1, max_depth=7, n_estimators=100;, score=0.888 total time=   4.5s\n",
      "[CV 1/5] END learning_rate=0.1, max_depth=7, n_estimators=200;, score=0.898 total time=   9.2s\n",
      "[CV 2/5] END learning_rate=0.1, max_depth=7, n_estimators=200;, score=0.929 total time=   9.0s\n",
      "[CV 3/5] END learning_rate=0.1, max_depth=7, n_estimators=200;, score=0.893 total time=   9.0s\n",
      "[CV 4/5] END learning_rate=0.1, max_depth=7, n_estimators=200;, score=0.898 total time=   9.0s\n",
      "[CV 5/5] END learning_rate=0.1, max_depth=7, n_estimators=200;, score=0.884 total time=   9.1s\n",
      "[CV 1/5] END learning_rate=1, max_depth=3, n_estimators=50;, score=0.894 total time=   0.9s\n",
      "[CV 2/5] END learning_rate=1, max_depth=3, n_estimators=50;, score=0.917 total time=   0.9s\n",
      "[CV 3/5] END learning_rate=1, max_depth=3, n_estimators=50;, score=0.864 total time=   1.0s\n",
      "[CV 4/5] END learning_rate=1, max_depth=3, n_estimators=50;, score=0.875 total time=   1.0s\n",
      "[CV 5/5] END learning_rate=1, max_depth=3, n_estimators=50;, score=0.891 total time=   0.9s\n",
      "[CV 1/5] END learning_rate=1, max_depth=3, n_estimators=100;, score=0.897 total time=   1.9s\n",
      "[CV 2/5] END learning_rate=1, max_depth=3, n_estimators=100;, score=0.927 total time=   1.9s\n",
      "[CV 3/5] END learning_rate=1, max_depth=3, n_estimators=100;, score=0.882 total time=   1.9s\n",
      "[CV 4/5] END learning_rate=1, max_depth=3, n_estimators=100;, score=0.880 total time=   1.9s\n",
      "[CV 5/5] END learning_rate=1, max_depth=3, n_estimators=100;, score=0.895 total time=   2.0s\n",
      "[CV 1/5] END learning_rate=1, max_depth=3, n_estimators=200;, score=0.893 total time=   4.0s\n",
      "[CV 2/5] END learning_rate=1, max_depth=3, n_estimators=200;, score=0.923 total time=   3.9s\n",
      "[CV 3/5] END learning_rate=1, max_depth=3, n_estimators=200;, score=0.883 total time=   3.9s\n",
      "[CV 4/5] END learning_rate=1, max_depth=3, n_estimators=200;, score=0.867 total time=   4.0s\n",
      "[CV 5/5] END learning_rate=1, max_depth=3, n_estimators=200;, score=0.886 total time=   4.0s\n",
      "[CV 1/5] END learning_rate=1, max_depth=5, n_estimators=50;, score=0.893 total time=   1.5s\n",
      "[CV 2/5] END learning_rate=1, max_depth=5, n_estimators=50;, score=0.542 total time=   1.5s\n",
      "[CV 3/5] END learning_rate=1, max_depth=5, n_estimators=50;, score=0.878 total time=   1.6s\n",
      "[CV 4/5] END learning_rate=1, max_depth=5, n_estimators=50;, score=0.833 total time=   1.7s\n",
      "[CV 5/5] END learning_rate=1, max_depth=5, n_estimators=50;, score=0.862 total time=   1.8s\n",
      "[CV 1/5] END learning_rate=1, max_depth=5, n_estimators=100;, score=0.894 total time=   3.3s\n",
      "[CV 2/5] END learning_rate=1, max_depth=5, n_estimators=100;, score=0.913 total time=   3.5s\n",
      "[CV 3/5] END learning_rate=1, max_depth=5, n_estimators=100;, score=0.881 total time=   3.2s\n",
      "[CV 4/5] END learning_rate=1, max_depth=5, n_estimators=100;, score=0.158 total time=   4.3s\n",
      "[CV 5/5] END learning_rate=1, max_depth=5, n_estimators=100;, score=0.865 total time=   3.3s\n",
      "[CV 1/5] END learning_rate=1, max_depth=5, n_estimators=200;, score=0.895 total time=   3.8s\n",
      "[CV 2/5] END learning_rate=1, max_depth=5, n_estimators=200;, score=0.916 total time=   4.5s\n",
      "[CV 3/5] END learning_rate=1, max_depth=5, n_estimators=200;, score=0.881 total time=   3.3s\n",
      "[CV 4/5] END learning_rate=1, max_depth=5, n_estimators=200;, score=0.874 total time=   5.5s\n",
      "[CV 5/5] END learning_rate=1, max_depth=5, n_estimators=200;, score=0.864 total time=   6.3s\n",
      "[CV 1/5] END learning_rate=1, max_depth=7, n_estimators=50;, score=0.888 total time=   1.9s\n",
      "[CV 2/5] END learning_rate=1, max_depth=7, n_estimators=50;, score=0.913 total time=   1.8s\n",
      "[CV 3/5] END learning_rate=1, max_depth=7, n_estimators=50;, score=0.892 total time=   1.8s\n",
      "[CV 4/5] END learning_rate=1, max_depth=7, n_estimators=50;, score=0.870 total time=   2.1s\n",
      "[CV 5/5] END learning_rate=1, max_depth=7, n_estimators=50;, score=0.881 total time=   1.8s\n",
      "[CV 1/5] END learning_rate=1, max_depth=7, n_estimators=100;, score=0.891 total time=   2.6s\n",
      "[CV 2/5] END learning_rate=1, max_depth=7, n_estimators=100;, score=0.910 total time=   2.3s\n",
      "[CV 3/5] END learning_rate=1, max_depth=7, n_estimators=100;, score=0.892 total time=   2.0s\n",
      "[CV 4/5] END learning_rate=1, max_depth=7, n_estimators=100;, score=0.885 total time=   3.9s\n",
      "[CV 5/5] END learning_rate=1, max_depth=7, n_estimators=100;, score=0.876 total time=   2.2s\n",
      "[CV 1/5] END learning_rate=1, max_depth=7, n_estimators=200;, score=0.883 total time=   3.9s\n",
      "[CV 2/5] END learning_rate=1, max_depth=7, n_estimators=200;, score=0.908 total time=   2.5s\n",
      "[CV 3/5] END learning_rate=1, max_depth=7, n_estimators=200;, score=0.906 total time=   2.3s\n",
      "[CV 4/5] END learning_rate=1, max_depth=7, n_estimators=200;, score=0.888 total time=   7.0s\n",
      "[CV 5/5] END learning_rate=1, max_depth=7, n_estimators=200;, score=0.889 total time=   2.5s\n",
      "Best parameters found for Gradient Boosting: {'learning_rate': 0.1, 'max_depth': 7, 'n_estimators': 200}\n",
      "Memorization Performance: 1.0\n",
      "Generalization Performance: 0.8831942232020688\n"
     ]
    }
   ],
   "source": [
    "from sklearn.ensemble import GradientBoostingClassifier\n",
    "\n",
    "# Define the hyperparameter grid\n",
    "param_grid_gb = {'n_estimators': [50, 100, 200],\n",
    "                 'learning_rate': [0.01, 0.1, 1],\n",
    "                 'max_depth': [3, 5, 7]}\n",
    "\n",
    "# Initialize the model\n",
    "gb = GradientBoostingClassifier()\n",
    "\n",
    "# Perform hyperparameter optimization\n",
    "grid_search_gb = GridSearchCV(gb, param_grid_gb, cv=5, scoring='f1_weighted', verbose=3)\n",
    "grid_search_gb.fit(X_train_s_r_c, y_train)\n",
    "\n",
    "# Get the best model\n",
    "best_gb = grid_search_gb.best_estimator_\n",
    "\n",
    "# Print best parameters found\n",
    "print(\"Best parameters found for Gradient Boosting:\", grid_search_gb.best_params_)\n",
    "\n",
    "# Evaluate the model\n",
    "gb_train_pred = grid_search_gb.predict(X_train_s_r_c)\n",
    "gb_test_pred = grid_search_gb.predict(X_test_s_r_c)\n",
    "\n",
    "f1_score_train_gb = f1_score(y_train, gb_train_pred, average='weighted')\n",
    "f1_score_test_gb = f1_score(y_test, gb_test_pred, average='weighted')\n",
    "\n",
    "print(\"Memorization Performance:\", f1_score_train_gb)\n",
    "print(\"Generalization Performance:\", f1_score_test_gb)\n"
   ]
  },
  {
   "cell_type": "markdown",
   "id": "dc85bc01",
   "metadata": {},
   "source": [
    "# Neural Network"
   ]
  },
  {
   "cell_type": "code",
   "execution_count": 93,
   "id": "c6147ac7",
   "metadata": {},
   "outputs": [
    {
     "name": "stdout",
     "output_type": "stream",
     "text": [
      "Fitting 5 folds for each of 27 candidates, totalling 135 fits\n",
      "[CV 1/5] END activation=relu, alpha=0.0001, hidden_layer_sizes=(50,);, score=0.904 total time=   2.4s\n",
      "[CV 2/5] END activation=relu, alpha=0.0001, hidden_layer_sizes=(50,);, score=0.916 total time=   2.7s\n",
      "[CV 3/5] END activation=relu, alpha=0.0001, hidden_layer_sizes=(50,);, score=0.897 total time=   2.5s\n",
      "[CV 4/5] END activation=relu, alpha=0.0001, hidden_layer_sizes=(50,);, score=0.889 total time=   2.3s\n",
      "[CV 5/5] END activation=relu, alpha=0.0001, hidden_layer_sizes=(50,);, score=0.881 total time=   2.5s\n",
      "[CV 1/5] END activation=relu, alpha=0.0001, hidden_layer_sizes=(100,);, score=0.911 total time=   3.3s\n",
      "[CV 2/5] END activation=relu, alpha=0.0001, hidden_layer_sizes=(100,);, score=0.916 total time=   2.8s\n",
      "[CV 3/5] END activation=relu, alpha=0.0001, hidden_layer_sizes=(100,);, score=0.891 total time=   3.3s\n",
      "[CV 4/5] END activation=relu, alpha=0.0001, hidden_layer_sizes=(100,);, score=0.903 total time=   1.9s\n",
      "[CV 5/5] END activation=relu, alpha=0.0001, hidden_layer_sizes=(100,);, score=0.890 total time=   2.8s\n",
      "[CV 1/5] END activation=relu, alpha=0.0001, hidden_layer_sizes=(50, 50);, score=0.898 total time=   3.5s\n",
      "[CV 2/5] END activation=relu, alpha=0.0001, hidden_layer_sizes=(50, 50);, score=0.917 total time=   4.3s\n",
      "[CV 3/5] END activation=relu, alpha=0.0001, hidden_layer_sizes=(50, 50);, score=0.900 total time=   4.2s\n",
      "[CV 4/5] END activation=relu, alpha=0.0001, hidden_layer_sizes=(50, 50);, score=0.904 total time=   5.5s\n",
      "[CV 5/5] END activation=relu, alpha=0.0001, hidden_layer_sizes=(50, 50);, score=0.874 total time=   5.5s\n",
      "[CV 1/5] END activation=relu, alpha=0.001, hidden_layer_sizes=(50,);, score=0.899 total time=   2.6s\n",
      "[CV 2/5] END activation=relu, alpha=0.001, hidden_layer_sizes=(50,);, score=0.914 total time=   2.5s\n",
      "[CV 3/5] END activation=relu, alpha=0.001, hidden_layer_sizes=(50,);, score=0.901 total time=   2.5s\n",
      "[CV 4/5] END activation=relu, alpha=0.001, hidden_layer_sizes=(50,);, score=0.899 total time=   1.7s\n",
      "[CV 5/5] END activation=relu, alpha=0.001, hidden_layer_sizes=(50,);, score=0.879 total time=   2.0s\n",
      "[CV 1/5] END activation=relu, alpha=0.001, hidden_layer_sizes=(100,);, score=0.900 total time=   2.4s\n",
      "[CV 2/5] END activation=relu, alpha=0.001, hidden_layer_sizes=(100,);, score=0.914 total time=   3.7s\n",
      "[CV 3/5] END activation=relu, alpha=0.001, hidden_layer_sizes=(100,);, score=0.891 total time=   1.3s\n",
      "[CV 4/5] END activation=relu, alpha=0.001, hidden_layer_sizes=(100,);, score=0.908 total time=   2.7s\n",
      "[CV 5/5] END activation=relu, alpha=0.001, hidden_layer_sizes=(100,);, score=0.885 total time=   2.9s\n",
      "[CV 1/5] END activation=relu, alpha=0.001, hidden_layer_sizes=(50, 50);, score=0.898 total time=   6.6s\n",
      "[CV 2/5] END activation=relu, alpha=0.001, hidden_layer_sizes=(50, 50);, score=0.915 total time=   3.5s\n",
      "[CV 3/5] END activation=relu, alpha=0.001, hidden_layer_sizes=(50, 50);, score=0.903 total time=   3.9s\n",
      "[CV 4/5] END activation=relu, alpha=0.001, hidden_layer_sizes=(50, 50);, score=0.905 total time=   6.7s\n",
      "[CV 5/5] END activation=relu, alpha=0.001, hidden_layer_sizes=(50, 50);, score=0.882 total time=   3.7s\n",
      "[CV 1/5] END activation=relu, alpha=0.01, hidden_layer_sizes=(50,);, score=0.901 total time=   2.8s\n",
      "[CV 2/5] END activation=relu, alpha=0.01, hidden_layer_sizes=(50,);, score=0.918 total time=   1.8s\n",
      "[CV 3/5] END activation=relu, alpha=0.01, hidden_layer_sizes=(50,);, score=0.894 total time=   2.0s\n",
      "[CV 4/5] END activation=relu, alpha=0.01, hidden_layer_sizes=(50,);, score=0.894 total time=   1.5s\n",
      "[CV 5/5] END activation=relu, alpha=0.01, hidden_layer_sizes=(50,);, score=0.881 total time=   2.4s\n",
      "[CV 1/5] END activation=relu, alpha=0.01, hidden_layer_sizes=(100,);, score=0.901 total time=   2.7s\n",
      "[CV 2/5] END activation=relu, alpha=0.01, hidden_layer_sizes=(100,);, score=0.921 total time=   3.1s\n",
      "[CV 3/5] END activation=relu, alpha=0.01, hidden_layer_sizes=(100,);, score=0.900 total time=   3.3s\n",
      "[CV 4/5] END activation=relu, alpha=0.01, hidden_layer_sizes=(100,);, score=0.899 total time=   2.1s\n",
      "[CV 5/5] END activation=relu, alpha=0.01, hidden_layer_sizes=(100,);, score=0.872 total time=   3.7s\n",
      "[CV 1/5] END activation=relu, alpha=0.01, hidden_layer_sizes=(50, 50);, score=0.891 total time=   4.0s\n",
      "[CV 2/5] END activation=relu, alpha=0.01, hidden_layer_sizes=(50, 50);, score=0.913 total time=   3.1s\n",
      "[CV 3/5] END activation=relu, alpha=0.01, hidden_layer_sizes=(50, 50);, score=0.898 total time=   3.6s\n",
      "[CV 4/5] END activation=relu, alpha=0.01, hidden_layer_sizes=(50, 50);, score=0.896 total time=   2.4s\n",
      "[CV 5/5] END activation=relu, alpha=0.01, hidden_layer_sizes=(50, 50);, score=0.873 total time=   4.5s\n",
      "[CV 1/5] END activation=tanh, alpha=0.0001, hidden_layer_sizes=(50,);, score=0.889 total time=   3.7s\n",
      "[CV 2/5] END activation=tanh, alpha=0.0001, hidden_layer_sizes=(50,);, score=0.910 total time=   5.3s\n",
      "[CV 3/5] END activation=tanh, alpha=0.0001, hidden_layer_sizes=(50,);, score=0.896 total time=   5.9s\n",
      "[CV 4/5] END activation=tanh, alpha=0.0001, hidden_layer_sizes=(50,);, score=0.898 total time=   5.2s\n",
      "[CV 5/5] END activation=tanh, alpha=0.0001, hidden_layer_sizes=(50,);, score=0.885 total time=   4.9s\n",
      "[CV 1/5] END activation=tanh, alpha=0.0001, hidden_layer_sizes=(100,);, score=0.903 total time=   8.0s\n",
      "[CV 2/5] END activation=tanh, alpha=0.0001, hidden_layer_sizes=(100,);, score=0.914 total time=   5.0s\n",
      "[CV 3/5] END activation=tanh, alpha=0.0001, hidden_layer_sizes=(100,);, score=0.904 total time=   7.2s\n",
      "[CV 4/5] END activation=tanh, alpha=0.0001, hidden_layer_sizes=(100,);, score=0.900 total time=   6.5s\n",
      "[CV 5/5] END activation=tanh, alpha=0.0001, hidden_layer_sizes=(100,);, score=0.887 total time=   4.9s\n",
      "[CV 1/5] END activation=tanh, alpha=0.0001, hidden_layer_sizes=(50, 50);, score=0.900 total time=  17.7s\n",
      "[CV 2/5] END activation=tanh, alpha=0.0001, hidden_layer_sizes=(50, 50);, score=0.906 total time=  12.5s\n",
      "[CV 3/5] END activation=tanh, alpha=0.0001, hidden_layer_sizes=(50, 50);, score=0.894 total time=  11.9s\n",
      "[CV 4/5] END activation=tanh, alpha=0.0001, hidden_layer_sizes=(50, 50);, score=0.897 total time=  10.1s\n"
     ]
    },
    {
     "name": "stderr",
     "output_type": "stream",
     "text": [
      "C:\\Users\\Gopala Kala\\AppData\\Local\\Programs\\Python\\Python310\\lib\\site-packages\\sklearn\\neural_network\\_multilayer_perceptron.py:686: ConvergenceWarning: Stochastic Optimizer: Maximum iterations (1000) reached and the optimization hasn't converged yet.\n",
      "  warnings.warn(\n"
     ]
    },
    {
     "name": "stdout",
     "output_type": "stream",
     "text": [
      "[CV 5/5] END activation=tanh, alpha=0.0001, hidden_layer_sizes=(50, 50);, score=0.870 total time=  17.3s\n",
      "[CV 1/5] END activation=tanh, alpha=0.001, hidden_layer_sizes=(50,);, score=0.903 total time=   3.7s\n",
      "[CV 2/5] END activation=tanh, alpha=0.001, hidden_layer_sizes=(50,);, score=0.912 total time=   3.9s\n",
      "[CV 3/5] END activation=tanh, alpha=0.001, hidden_layer_sizes=(50,);, score=0.897 total time=   5.2s\n",
      "[CV 4/5] END activation=tanh, alpha=0.001, hidden_layer_sizes=(50,);, score=0.893 total time=   3.7s\n",
      "[CV 5/5] END activation=tanh, alpha=0.001, hidden_layer_sizes=(50,);, score=0.875 total time=   4.6s\n",
      "[CV 1/5] END activation=tanh, alpha=0.001, hidden_layer_sizes=(100,);, score=0.896 total time=   4.7s\n",
      "[CV 2/5] END activation=tanh, alpha=0.001, hidden_layer_sizes=(100,);, score=0.912 total time=   6.1s\n",
      "[CV 3/5] END activation=tanh, alpha=0.001, hidden_layer_sizes=(100,);, score=0.899 total time=   7.1s\n",
      "[CV 4/5] END activation=tanh, alpha=0.001, hidden_layer_sizes=(100,);, score=0.903 total time=   7.4s\n",
      "[CV 5/5] END activation=tanh, alpha=0.001, hidden_layer_sizes=(100,);, score=0.877 total time=   7.2s\n",
      "[CV 1/5] END activation=tanh, alpha=0.001, hidden_layer_sizes=(50, 50);, score=0.906 total time=  12.1s\n"
     ]
    },
    {
     "name": "stderr",
     "output_type": "stream",
     "text": [
      "C:\\Users\\Gopala Kala\\AppData\\Local\\Programs\\Python\\Python310\\lib\\site-packages\\sklearn\\neural_network\\_multilayer_perceptron.py:686: ConvergenceWarning: Stochastic Optimizer: Maximum iterations (1000) reached and the optimization hasn't converged yet.\n",
      "  warnings.warn(\n"
     ]
    },
    {
     "name": "stdout",
     "output_type": "stream",
     "text": [
      "[CV 2/5] END activation=tanh, alpha=0.001, hidden_layer_sizes=(50, 50);, score=0.906 total time=  17.6s\n",
      "[CV 3/5] END activation=tanh, alpha=0.001, hidden_layer_sizes=(50, 50);, score=0.905 total time=   9.2s\n",
      "[CV 4/5] END activation=tanh, alpha=0.001, hidden_layer_sizes=(50, 50);, score=0.900 total time=   5.3s\n",
      "[CV 5/5] END activation=tanh, alpha=0.001, hidden_layer_sizes=(50, 50);, score=0.877 total time=  13.4s\n",
      "[CV 1/5] END activation=tanh, alpha=0.01, hidden_layer_sizes=(50,);, score=0.905 total time=   3.8s\n",
      "[CV 2/5] END activation=tanh, alpha=0.01, hidden_layer_sizes=(50,);, score=0.914 total time=   5.5s\n",
      "[CV 3/5] END activation=tanh, alpha=0.01, hidden_layer_sizes=(50,);, score=0.904 total time=   5.0s\n",
      "[CV 4/5] END activation=tanh, alpha=0.01, hidden_layer_sizes=(50,);, score=0.895 total time=   3.2s\n",
      "[CV 5/5] END activation=tanh, alpha=0.01, hidden_layer_sizes=(50,);, score=0.882 total time=   5.8s\n",
      "[CV 1/5] END activation=tanh, alpha=0.01, hidden_layer_sizes=(100,);, score=0.886 total time=   6.1s\n",
      "[CV 2/5] END activation=tanh, alpha=0.01, hidden_layer_sizes=(100,);, score=0.916 total time=   6.0s\n",
      "[CV 3/5] END activation=tanh, alpha=0.01, hidden_layer_sizes=(100,);, score=0.903 total time=   8.2s\n",
      "[CV 4/5] END activation=tanh, alpha=0.01, hidden_layer_sizes=(100,);, score=0.900 total time=   6.6s\n",
      "[CV 5/5] END activation=tanh, alpha=0.01, hidden_layer_sizes=(100,);, score=0.884 total time=   6.7s\n",
      "[CV 1/5] END activation=tanh, alpha=0.01, hidden_layer_sizes=(50, 50);, score=0.904 total time=   8.3s\n",
      "[CV 2/5] END activation=tanh, alpha=0.01, hidden_layer_sizes=(50, 50);, score=0.920 total time=   5.2s\n",
      "[CV 3/5] END activation=tanh, alpha=0.01, hidden_layer_sizes=(50, 50);, score=0.905 total time=  12.2s\n",
      "[CV 4/5] END activation=tanh, alpha=0.01, hidden_layer_sizes=(50, 50);, score=0.905 total time=   6.4s\n",
      "[CV 5/5] END activation=tanh, alpha=0.01, hidden_layer_sizes=(50, 50);, score=0.887 total time=   8.0s\n"
     ]
    },
    {
     "name": "stderr",
     "output_type": "stream",
     "text": [
      "C:\\Users\\Gopala Kala\\AppData\\Local\\Programs\\Python\\Python310\\lib\\site-packages\\sklearn\\neural_network\\_multilayer_perceptron.py:686: ConvergenceWarning: Stochastic Optimizer: Maximum iterations (1000) reached and the optimization hasn't converged yet.\n",
      "  warnings.warn(\n"
     ]
    },
    {
     "name": "stdout",
     "output_type": "stream",
     "text": [
      "[CV 1/5] END activation=logistic, alpha=0.0001, hidden_layer_sizes=(50,);, score=0.890 total time=   7.8s\n",
      "[CV 2/5] END activation=logistic, alpha=0.0001, hidden_layer_sizes=(50,);, score=0.908 total time=   6.8s\n"
     ]
    },
    {
     "name": "stderr",
     "output_type": "stream",
     "text": [
      "C:\\Users\\Gopala Kala\\AppData\\Local\\Programs\\Python\\Python310\\lib\\site-packages\\sklearn\\neural_network\\_multilayer_perceptron.py:686: ConvergenceWarning: Stochastic Optimizer: Maximum iterations (1000) reached and the optimization hasn't converged yet.\n",
      "  warnings.warn(\n"
     ]
    },
    {
     "name": "stdout",
     "output_type": "stream",
     "text": [
      "[CV 3/5] END activation=logistic, alpha=0.0001, hidden_layer_sizes=(50,);, score=0.891 total time=   7.4s\n",
      "[CV 4/5] END activation=logistic, alpha=0.0001, hidden_layer_sizes=(50,);, score=0.908 total time=   6.9s\n",
      "[CV 5/5] END activation=logistic, alpha=0.0001, hidden_layer_sizes=(50,);, score=0.884 total time=   5.9s\n",
      "[CV 1/5] END activation=logistic, alpha=0.0001, hidden_layer_sizes=(100,);, score=0.896 total time=  11.9s\n",
      "[CV 2/5] END activation=logistic, alpha=0.0001, hidden_layer_sizes=(100,);, score=0.905 total time=   8.5s\n",
      "[CV 3/5] END activation=logistic, alpha=0.0001, hidden_layer_sizes=(100,);, score=0.903 total time=   8.8s\n",
      "[CV 4/5] END activation=logistic, alpha=0.0001, hidden_layer_sizes=(100,);, score=0.903 total time=  11.3s\n",
      "[CV 5/5] END activation=logistic, alpha=0.0001, hidden_layer_sizes=(100,);, score=0.883 total time=   9.4s\n",
      "[CV 1/5] END activation=logistic, alpha=0.0001, hidden_layer_sizes=(50, 50);, score=0.876 total time=   8.4s\n",
      "[CV 2/5] END activation=logistic, alpha=0.0001, hidden_layer_sizes=(50, 50);, score=0.910 total time=   7.3s\n",
      "[CV 3/5] END activation=logistic, alpha=0.0001, hidden_layer_sizes=(50, 50);, score=0.888 total time=   8.2s\n",
      "[CV 4/5] END activation=logistic, alpha=0.0001, hidden_layer_sizes=(50, 50);, score=0.902 total time=   8.2s\n"
     ]
    },
    {
     "name": "stderr",
     "output_type": "stream",
     "text": [
      "C:\\Users\\Gopala Kala\\AppData\\Local\\Programs\\Python\\Python310\\lib\\site-packages\\sklearn\\neural_network\\_multilayer_perceptron.py:686: ConvergenceWarning: Stochastic Optimizer: Maximum iterations (1000) reached and the optimization hasn't converged yet.\n",
      "  warnings.warn(\n"
     ]
    },
    {
     "name": "stdout",
     "output_type": "stream",
     "text": [
      "[CV 5/5] END activation=logistic, alpha=0.0001, hidden_layer_sizes=(50, 50);, score=0.876 total time=  18.3s\n"
     ]
    },
    {
     "name": "stderr",
     "output_type": "stream",
     "text": [
      "C:\\Users\\Gopala Kala\\AppData\\Local\\Programs\\Python\\Python310\\lib\\site-packages\\sklearn\\neural_network\\_multilayer_perceptron.py:686: ConvergenceWarning: Stochastic Optimizer: Maximum iterations (1000) reached and the optimization hasn't converged yet.\n",
      "  warnings.warn(\n"
     ]
    },
    {
     "name": "stdout",
     "output_type": "stream",
     "text": [
      "[CV 1/5] END activation=logistic, alpha=0.001, hidden_layer_sizes=(50,);, score=0.898 total time=   7.3s\n",
      "[CV 2/5] END activation=logistic, alpha=0.001, hidden_layer_sizes=(50,);, score=0.915 total time=   4.8s\n",
      "[CV 3/5] END activation=logistic, alpha=0.001, hidden_layer_sizes=(50,);, score=0.899 total time=   6.8s\n"
     ]
    },
    {
     "name": "stderr",
     "output_type": "stream",
     "text": [
      "C:\\Users\\Gopala Kala\\AppData\\Local\\Programs\\Python\\Python310\\lib\\site-packages\\sklearn\\neural_network\\_multilayer_perceptron.py:686: ConvergenceWarning: Stochastic Optimizer: Maximum iterations (1000) reached and the optimization hasn't converged yet.\n",
      "  warnings.warn(\n"
     ]
    },
    {
     "name": "stdout",
     "output_type": "stream",
     "text": [
      "[CV 4/5] END activation=logistic, alpha=0.001, hidden_layer_sizes=(50,);, score=0.905 total time=   7.6s\n"
     ]
    },
    {
     "name": "stderr",
     "output_type": "stream",
     "text": [
      "C:\\Users\\Gopala Kala\\AppData\\Local\\Programs\\Python\\Python310\\lib\\site-packages\\sklearn\\neural_network\\_multilayer_perceptron.py:686: ConvergenceWarning: Stochastic Optimizer: Maximum iterations (1000) reached and the optimization hasn't converged yet.\n",
      "  warnings.warn(\n"
     ]
    },
    {
     "name": "stdout",
     "output_type": "stream",
     "text": [
      "[CV 5/5] END activation=logistic, alpha=0.001, hidden_layer_sizes=(50,);, score=0.883 total time=   7.7s\n",
      "[CV 1/5] END activation=logistic, alpha=0.001, hidden_layer_sizes=(100,);, score=0.886 total time=   8.3s\n",
      "[CV 2/5] END activation=logistic, alpha=0.001, hidden_layer_sizes=(100,);, score=0.914 total time=   9.2s\n",
      "[CV 3/5] END activation=logistic, alpha=0.001, hidden_layer_sizes=(100,);, score=0.898 total time=   8.9s\n",
      "[CV 4/5] END activation=logistic, alpha=0.001, hidden_layer_sizes=(100,);, score=0.906 total time=  11.9s\n",
      "[CV 5/5] END activation=logistic, alpha=0.001, hidden_layer_sizes=(100,);, score=0.890 total time=  12.4s\n",
      "[CV 1/5] END activation=logistic, alpha=0.001, hidden_layer_sizes=(50, 50);, score=0.876 total time=  11.4s\n",
      "[CV 2/5] END activation=logistic, alpha=0.001, hidden_layer_sizes=(50, 50);, score=0.912 total time=  11.9s\n",
      "[CV 3/5] END activation=logistic, alpha=0.001, hidden_layer_sizes=(50, 50);, score=0.890 total time=   5.7s\n",
      "[CV 4/5] END activation=logistic, alpha=0.001, hidden_layer_sizes=(50, 50);, score=0.906 total time=  14.0s\n",
      "[CV 5/5] END activation=logistic, alpha=0.001, hidden_layer_sizes=(50, 50);, score=0.875 total time=   8.7s\n",
      "[CV 1/5] END activation=logistic, alpha=0.01, hidden_layer_sizes=(50,);, score=0.897 total time=   6.7s\n",
      "[CV 2/5] END activation=logistic, alpha=0.01, hidden_layer_sizes=(50,);, score=0.909 total time=   6.3s\n",
      "[CV 3/5] END activation=logistic, alpha=0.01, hidden_layer_sizes=(50,);, score=0.892 total time=   5.6s\n",
      "[CV 4/5] END activation=logistic, alpha=0.01, hidden_layer_sizes=(50,);, score=0.897 total time=   6.4s\n",
      "[CV 5/5] END activation=logistic, alpha=0.01, hidden_layer_sizes=(50,);, score=0.883 total time=   7.2s\n",
      "[CV 1/5] END activation=logistic, alpha=0.01, hidden_layer_sizes=(100,);, score=0.883 total time=   8.2s\n",
      "[CV 2/5] END activation=logistic, alpha=0.01, hidden_layer_sizes=(100,);, score=0.915 total time=   8.9s\n",
      "[CV 3/5] END activation=logistic, alpha=0.01, hidden_layer_sizes=(100,);, score=0.898 total time=   8.5s\n",
      "[CV 4/5] END activation=logistic, alpha=0.01, hidden_layer_sizes=(100,);, score=0.901 total time=  10.5s\n",
      "[CV 5/5] END activation=logistic, alpha=0.01, hidden_layer_sizes=(100,);, score=0.886 total time=   8.5s\n",
      "[CV 1/5] END activation=logistic, alpha=0.01, hidden_layer_sizes=(50, 50);, score=0.882 total time=   8.1s\n",
      "[CV 2/5] END activation=logistic, alpha=0.01, hidden_layer_sizes=(50, 50);, score=0.907 total time=   6.1s\n",
      "[CV 3/5] END activation=logistic, alpha=0.01, hidden_layer_sizes=(50, 50);, score=0.886 total time=   9.0s\n",
      "[CV 4/5] END activation=logistic, alpha=0.01, hidden_layer_sizes=(50, 50);, score=0.900 total time=   9.1s\n",
      "[CV 5/5] END activation=logistic, alpha=0.01, hidden_layer_sizes=(50, 50);, score=0.878 total time=   7.6s\n",
      "Best parameters found for Neural Network: {'activation': 'tanh', 'alpha': 0.01, 'hidden_layer_sizes': (50, 50)}\n",
      "Memorization Performance: 0.9617806471066952\n",
      "Generalization Performance: 0.8626188374901812\n"
     ]
    }
   ],
   "source": [
    "from sklearn.neural_network import MLPClassifier\n",
    "\n",
    "# Define the hyperparameter grid\n",
    "param_grid_mlp = {'hidden_layer_sizes': [(50,), (100,), (50, 50)],\n",
    "                  'activation': ['relu', 'tanh', 'logistic'],\n",
    "                  'alpha': [0.0001, 0.001, 0.01]}\n",
    "\n",
    "# Initialize the model\n",
    "mlp = MLPClassifier(max_iter=1000)\n",
    "\n",
    "# Perform hyperparameter optimization\n",
    "grid_search_mlp = GridSearchCV(mlp, param_grid_mlp, cv=5, scoring='f1_weighted', verbose=3)\n",
    "grid_search_mlp.fit(X_train_s_r_c, y_train)\n",
    "\n",
    "# Get the best model\n",
    "best_mlp = grid_search_mlp.best_estimator_\n",
    "\n",
    "# Print best parameters found\n",
    "print(\"Best parameters found for Neural Network:\", grid_search_mlp.best_params_)\n",
    "\n",
    "# Evaluate the model\n",
    "mlp_train_pred = grid_search_mlp.predict(X_train_s_r_c)\n",
    "mlp_test_pred = grid_search_mlp.predict(X_test_s_r_c)\n",
    "\n",
    "f1_score_train_mlp = f1_score(y_train, mlp_train_pred, average='weighted')\n",
    "f1_score_test_mlp = f1_score(y_test, mlp_test_pred, average='weighted')\n",
    "\n",
    "print(\"Memorization Performance:\", f1_score_train_mlp)\n",
    "print(\"Generalization Performance:\", f1_score_test_mlp)\n"
   ]
  },
  {
   "cell_type": "raw",
   "id": "4b9ff252",
   "metadata": {},
   "source": []
  },
  {
   "cell_type": "code",
   "execution_count": null,
   "id": "23b199ee",
   "metadata": {},
   "outputs": [],
   "source": []
  },
  {
   "cell_type": "markdown",
   "id": "f0210aad",
   "metadata": {},
   "source": [
    "### Evaluate the classifiers using 3 sklearn metrics, F1 score, Area under the Curve, and Matthews correlation coefficient. Can the metrics take care of class imbalance? Try to ensure the metrics take care of class imbalance. Which is the best metric for the desired task given the class imbalance? –"
   ]
  },
  {
   "cell_type": "code",
   "execution_count": 94,
   "id": "41d2f418",
   "metadata": {},
   "outputs": [
    {
     "name": "stdout",
     "output_type": "stream",
     "text": [
      "Logistic Regression:\n",
      "F1 Score: 0.8304918311500147\n",
      "AUC: 0.9531839827792911\n",
      "MCC: 0.7581253577009252\n"
     ]
    }
   ],
   "source": [
    "from sklearn.metrics import f1_score, roc_auc_score, matthews_corrcoef\n",
    "from sklearn.preprocessing import label_binarize\n",
    "\n",
    "# Define a function to evaluate the model\n",
    "def evaluate_model(y_true, model, X_test, y_pred):\n",
    "    #y_pred = model.predict(X_test)  # Predicted labels\n",
    "    y_scores = model.predict_proba(X_test)  # Probability scores\n",
    "    \n",
    "\n",
    "    f1 = f1_score(y_true, y_pred, average='weighted')\n",
    "    auc = roc_auc_score(label_binarize(y_true, classes=np.unique(y_true)), y_scores, average='weighted', multi_class='ovr')\n",
    "    mcc = matthews_corrcoef(y_true, y_pred)\n",
    "    return f1, auc, mcc\n",
    "\n",
    "# Example of evaluating a Logistic Regression model\n",
    "f1_lr, auc_lr, mcc_lr = evaluate_model(y_test, best_lr, X_test_s_r_c, y_test_pred_lr)\n",
    "print(\"Logistic Regression:\")\n",
    "print(\"F1 Score:\", f1_lr)\n",
    "print(\"AUC:\", auc_lr)\n",
    "print(\"MCC:\", mcc_lr)"
   ]
  },
  {
   "cell_type": "code",
   "execution_count": 95,
   "id": "ab85f5cb",
   "metadata": {},
   "outputs": [
    {
     "name": "stdout",
     "output_type": "stream",
     "text": [
      "\n",
      "K-Nearest Neighbor:\n",
      "F1 Score: 0.8531609084876551\n",
      "AUC: 0.9420016335599873\n",
      "MCC: 0.7894124413510375\n"
     ]
    }
   ],
   "source": [
    "f1_knn, auc_knn, mcc_knn = evaluate_model(y_test, best_knn, X_test_s_r_c, knn_test_pred)\n",
    "print(\"\\nK-Nearest Neighbor:\")\n",
    "print(\"F1 Score:\", f1_knn)\n",
    "print(\"AUC:\", auc_knn)\n",
    "print(\"MCC:\", mcc_knn)\n"
   ]
  },
  {
   "cell_type": "code",
   "execution_count": 96,
   "id": "ec0478ef",
   "metadata": {},
   "outputs": [
    {
     "name": "stdout",
     "output_type": "stream",
     "text": [
      "\n",
      "GB:\n",
      "F1 Score: 0.7698433049477661\n",
      "AUC: 0.9416550999625097\n",
      "MCC: 0.6605233199640133\n"
     ]
    }
   ],
   "source": [
    "f1_nb, auc_nb, mcc_nb = evaluate_model(y_test, nb, X_test_s_r_c, nb_test_pred)\n",
    "print(\"\\nGB:\")\n",
    "print(\"F1 Score:\", f1_nb)\n",
    "print(\"AUC:\", auc_nb)\n",
    "print(\"MCC:\", mcc_nb)"
   ]
  },
  {
   "cell_type": "code",
   "execution_count": 97,
   "id": "38faf7ea",
   "metadata": {},
   "outputs": [
    {
     "name": "stdout",
     "output_type": "stream",
     "text": [
      "\n",
      "SVC Linear:\n",
      "F1 Score: 0.8355202283575204\n",
      "AUC: 0.9563870080160749\n",
      "MCC: 0.7675522557456067\n"
     ]
    }
   ],
   "source": [
    "f1_svclin, auc_svclin, mcc_svclin = evaluate_model(y_test, best_svm_linear, X_test_s_r_c, svm_linear_test_pred)\n",
    "print(\"\\nSVC Linear:\")\n",
    "print(\"F1 Score:\", f1_svclin)\n",
    "print(\"AUC:\", auc_svclin)\n",
    "print(\"MCC:\", mcc_svclin)"
   ]
  },
  {
   "cell_type": "code",
   "execution_count": 98,
   "id": "bf868108",
   "metadata": {},
   "outputs": [
    {
     "name": "stdout",
     "output_type": "stream",
     "text": [
      "\n",
      "K-SVC RBF:\n",
      "F1 Score: 0.8606821861795949\n",
      "AUC: 0.9764651684452605\n",
      "MCC: 0.8031364530555577\n"
     ]
    }
   ],
   "source": [
    "f1_svcrbf, auc_svcrbf, mcc_svcrbf = evaluate_model(y_test, best_svm_rbf, X_test_s_r_c, svm_rbf_test_pred)\n",
    "print(\"\\nK-SVC RBF:\")\n",
    "print(\"F1 Score:\", f1_svcrbf)\n",
    "print(\"AUC:\", auc_svcrbf)\n",
    "print(\"MCC:\", mcc_svcrbf)"
   ]
  },
  {
   "cell_type": "code",
   "execution_count": 99,
   "id": "4b50e689",
   "metadata": {},
   "outputs": [
    {
     "name": "stdout",
     "output_type": "stream",
     "text": [
      "\n",
      "Adaboost:\n",
      "F1 Score: 0.8225398587537951\n",
      "AUC: 0.8985495134665645\n",
      "MCC: 0.7623038913187057\n"
     ]
    }
   ],
   "source": [
    "f1_svcada, auc_svcada, mcc_svcada = evaluate_model(y_test, best_adaboost, X_test_s_r_c, adaboost_test_pred)\n",
    "print(\"\\nAdaboost:\")\n",
    "print(\"F1 Score:\", f1_svcada)\n",
    "print(\"AUC:\", auc_svcada)\n",
    "print(\"MCC:\", mcc_svcada)"
   ]
  },
  {
   "cell_type": "code",
   "execution_count": 100,
   "id": "e21bcbae",
   "metadata": {},
   "outputs": [
    {
     "name": "stdout",
     "output_type": "stream",
     "text": [
      "\n",
      "RF:\n",
      "F1 Score: 0.8769985846546079\n",
      "AUC: 0.9757557194652712\n",
      "MCC: 0.8215095712150706\n"
     ]
    }
   ],
   "source": [
    "f1_svcrf, auc_svcrf, mcc_svcrf = evaluate_model(y_test, best_rf, X_test_s_r_c, rf_test_pred)\n",
    "print(\"\\nRF:\")\n",
    "print(\"F1 Score:\", f1_svcrf)\n",
    "print(\"AUC:\", auc_svcrf)\n",
    "print(\"MCC:\", mcc_svcrf)"
   ]
  },
  {
   "cell_type": "code",
   "execution_count": 101,
   "id": "371cdcf5",
   "metadata": {},
   "outputs": [
    {
     "name": "stdout",
     "output_type": "stream",
     "text": [
      "\n",
      "GB:\n",
      "F1 Score: 0.8831942232020688\n",
      "AUC: 0.9757035061732547\n",
      "MCC: 0.8311335799800698\n"
     ]
    }
   ],
   "source": [
    "f1_svcgb, auc_svcgb, mcc_svcgb = evaluate_model(y_test, best_gb, X_test_s_r_c, gb_test_pred)\n",
    "print(\"\\nGB:\")\n",
    "print(\"F1 Score:\", f1_svcgb)\n",
    "print(\"AUC:\", auc_svcgb)\n",
    "print(\"MCC:\", mcc_svcgb)"
   ]
  },
  {
   "cell_type": "code",
   "execution_count": 102,
   "id": "890ed4d9",
   "metadata": {},
   "outputs": [
    {
     "name": "stdout",
     "output_type": "stream",
     "text": [
      "\n",
      "MLP:\n",
      "F1 Score: 0.8626188374901812\n",
      "AUC: 0.9731393637215419\n",
      "MCC: 0.8006224472554867\n"
     ]
    }
   ],
   "source": [
    "f1_svcmlp, auc_svcmlp, mcc_svcmlp = evaluate_model(y_test, best_mlp, X_test_s_r_c, mlp_test_pred)\n",
    "print(\"\\nMLP:\")\n",
    "print(\"F1 Score:\", f1_svcmlp)\n",
    "print(\"AUC:\", auc_svcmlp)\n",
    "print(\"MCC:\", mcc_svcmlp)"
   ]
  },
  {
   "attachments": {
    "image.png": {
     "image/png": "[encoded data removed]"
    }
   },
   "cell_type": "markdown",
   "id": "ffd8c86b",
   "metadata": {},
   "source": [
    "### Best metric used for evaluation: MCC indicates a more balanced performance with regard to class imbalance. It considers all the quadrants of the confusion matrix and doesn't indicate any bias towards any class. Hence we took MCC as a measurement metric to decide on the best performing model.\n",
    "![image.png](attachment:image.png)\n",
    "\n",
    "### Source: https://www.sciencedirect.com/science/article/abs/pii/S016786552030115X"
   ]
  },
  {
   "cell_type": "code",
   "execution_count": 103,
   "id": "b4406a67",
   "metadata": {},
   "outputs": [
    {
     "name": "stdout",
     "output_type": "stream",
     "text": [
      "The model with the highest MCC score is Gradient Boosting with an MCC of 0.8311.\n"
     ]
    }
   ],
   "source": [
    "# Store the MCC scores with model names\n",
    "mcc_scores = {\n",
    "    \"Logistic Regression\": mcc_lr,\n",
    "    \"K-Nearest Neighbors\": mcc_knn,\n",
    "    \"Naive Bayes\": mcc_nb,\n",
    "    \"SVC Linear\": mcc_svclin,\n",
    "    \"SVC RBF\": mcc_svcrbf,\n",
    "    \"Adaboost\": mcc_svcada,\n",
    "    \"Random Forest\": mcc_svcrf,\n",
    "    \"Gradient Boosting\": mcc_svcgb,\n",
    "    \"MLP\": mcc_svcmlp\n",
    "}\n",
    "\n",
    "# Find the model with the highest MCC score\n",
    "best_model = max(mcc_scores, key=mcc_scores.get)\n",
    "best_mcc_score = mcc_scores[best_model]\n",
    "\n",
    "print(f\"The model with the highest MCC score is {best_model} with an MCC of {best_mcc_score:.4f}.\")\n"
   ]
  },
  {
   "cell_type": "code",
   "execution_count": 104,
   "id": "7fd7b2cb",
   "metadata": {},
   "outputs": [
    {
     "data": {
      "image/png": "[encoded data removed]",
      "text/plain": [
       "<Figure size 1000x700 with 2 Axes>"
      ]
     },
     "metadata": {},
     "output_type": "display_data"
    }
   ],
   "source": [
    "from sklearn.metrics import confusion_matrix\n",
    "import seaborn as sns\n",
    "import matplotlib.pyplot as plt\n",
    "\n",
    "# Assuming 'gb_test_pred' are the predicted labels from the best Gradient Boosting model\n",
    "# and 'y_test' are the true labels\n",
    "cm = confusion_matrix(y_test, gb_test_pred)\n",
    "\n",
    "# Plotting the confusion matrix\n",
    "plt.figure(figsize=(10, 7))\n",
    "sns.heatmap(cm, annot=True, fmt=\"d\", cmap='Blues', xticklabels=np.unique(y_test), yticklabels=np.unique(y_test))\n",
    "plt.title('Confusion Matrix for Gradient Boosting')\n",
    "plt.xlabel('Predicted Labels')\n",
    "plt.ylabel('True Labels')\n",
    "plt.show()\n"
   ]
  },
  {
   "cell_type": "markdown",
   "id": "384efb9a",
   "metadata": {},
   "source": [
    "### Easy to predict and Hard to Predict:\n",
    "#### Class 0 (CB) has 229 correct predictions and minor misclassifications. It shows a high accuracy in prediction and it is very easy to predict. Class 1 (SH) has 162 predictions and few minor misclassifications making it also easy to predict. Class 2 (SS) shows 165 correct predictions and class 3 (UN) has 22 misclassifications indicating that it is the hardest to predict.\n",
    "\n",
    "#### Class 3 (UN) is the hardest to predict"
   ]
  },
  {
   "cell_type": "markdown",
   "id": "9148b8ed",
   "metadata": {},
   "source": [
    "# Question 2: Based on the metrics used above, find 3 top performing models (sufficiently different hyperparameters or belong to different techniques).\n",
    "• Deploy the 3 top performing models on Well 1. When deploying, ensure all feature engineering\n",
    "and preprocessing is performed in the right sequence/order. Well 1 needs to be used for only\n",
    "deployment. – 1\n",
    "• Plot the variations in predictions of the 3 top performing models on Well 1 as a function of\n",
    "depth. – 1\n",
    "• Export the mean and range (max-min) of predictions for Well 1 along with depth and GR log to a\n",
    "separate XLS file (Prediction.xlsx). – 1\n"
   ]
  },
  {
   "cell_type": "code",
   "execution_count": 105,
   "id": "0bd49676",
   "metadata": {},
   "outputs": [
    {
     "name": "stdout",
     "output_type": "stream",
     "text": [
      "Model: Gradient Boosting, MCC Score: 0.8311\n",
      "Model: Random Forest, MCC Score: 0.8215\n",
      "Model: SVC RBF, MCC Score: 0.8031\n"
     ]
    }
   ],
   "source": [
    "# Assuming 'mcc_scores' is a dictionary containing the MCC scores for each model\n",
    "mcc_scores = {\n",
    "    \"Logistic Regression\": mcc_lr,\n",
    "    \"K-Nearest Neighbors\": mcc_knn,\n",
    "    \"Naive Bayes\": mcc_nb,\n",
    "    \"SVC Linear\": mcc_svclin,\n",
    "    \"SVC RBF\": mcc_svcrbf,\n",
    "    \"Adaboost\": mcc_svcada,\n",
    "    \"Random Forest\": mcc_svcrf,\n",
    "    \"Gradient Boosting\": mcc_svcgb,\n",
    "    \"MLP\": mcc_svcmlp\n",
    "}\n",
    "\n",
    "# Sort the models based on their MCC scores in descending order\n",
    "top_models = sorted(mcc_scores.items(), key=lambda x: x[1], reverse=True)[:3]\n",
    "\n",
    "# Print the top 3 models with the highest MCC scores\n",
    "for model, score in top_models:\n",
    "    print(f\"Model: {model}, MCC Score: {score:.4f}\")\n"
   ]
  },
  {
   "cell_type": "code",
   "execution_count": 113,
   "id": "5997f19d",
   "metadata": {},
   "outputs": [
    {
     "data": {
      "text/plain": [
       "[('Gradient Boosting', 0.8311335799800698),\n",
       " ('Random Forest', 0.8215095712150706),\n",
       " ('SVC RBF', 0.8031364530555577)]"
      ]
     },
     "execution_count": 113,
     "metadata": {},
     "output_type": "execute_result"
    }
   ],
   "source": [
    "top_models"
   ]
  },
  {
   "cell_type": "code",
   "execution_count": 120,
   "id": "b638060a",
   "metadata": {},
   "outputs": [],
   "source": [
    "import pickle\n",
    "\n",
    "# Export the label encoder\n",
    "with open('to_drop.pkl', 'wb') as file:\n",
    "    pickle.dump(to_drop, file)\n",
    "\n",
    "# Export the Quantile Transformer\n",
    "with open('quantile_transformer.pkl', 'wb') as file:\n",
    "    pickle.dump(quantile_transformer, file)\n",
    "\n",
    "# Export the Standard Scaler\n",
    "with open('standard_scaler.pkl', 'wb') as file:\n",
    "    pickle.dump(scl, file)\n",
    "\n",
    "# Export KMeans clustering model\n",
    "with open('kmeans_model.pkl', 'wb') as file:\n",
    "    pickle.dump(kmeans, file)\n",
    "\n",
    "# Export Agglomerative clustering model\n",
    "with open('agglomerative_model.pkl', 'wb') as file:\n",
    "    pickle.dump(agglomerative, file)\n",
    "\n",
    "    \n",
    "# Save F-score and MI data\n",
    "feature_selection_scores = {\n",
    "    'F_score': F,\n",
    "    'p_values': p,\n",
    "    'mi_score': mi\n",
    "}\n",
    "\n",
    "with open('feature_selection_scores.pkl', 'wb') as f:\n",
    "    pickle.dump(feature_selection_scores, f)"
   ]
  },
  {
   "cell_type": "code",
   "execution_count": 115,
   "id": "6ddade4b",
   "metadata": {
    "scrolled": true
   },
   "outputs": [
    {
     "name": "stdout",
     "output_type": "stream",
     "text": [
      "Saved Gradient Boosting model as model1.pkl\n",
      "Saved Random Forest model as model2.pkl\n",
      "Saved SVC RBF model as model3.pkl\n"
     ]
    }
   ],
   "source": [
    "import pickle\n",
    "\n",
    "# Dictionary mapping model names to their corresponding GridSearchCV objects\n",
    "model_objects = {\n",
    "    \"Logistic Regression\": grid_search_lr,\n",
    "    \"K-Nearest Neighbors\": grid_search_knn,\n",
    "    \"Naive Bayes\": nb,  # Assuming 'nb' is the trained GaussianNB model object\n",
    "    \"SVC Linear\": grid_search_svm_linear,\n",
    "    \"SVC RBF\": grid_search_svm_rbf,\n",
    "    \"Adaboost\": grid_search_adaboost,\n",
    "    \"Random Forest\": grid_search_rf,\n",
    "    \"Gradient Boosting\": grid_search_gb,\n",
    "    \"MLP\": grid_search_mlp\n",
    "}\n",
    "\n",
    "\n",
    "\n",
    "# Save the top three models\n",
    "for i, (model_name, _) in enumerate(top_models, start=1):\n",
    "    model_to_save = model_objects[model_name]  # Get the model object from the dictionary\n",
    "    file_name = f\"model{i}.pkl\"  # Dynamic file name based on rank\n",
    "    with open(file_name, 'wb') as file:\n",
    "        pickle.dump(model_to_save, file)\n",
    "        print(f\"Saved {model_name} model as {file_name}\")\n"
   ]
  },
  {
   "cell_type": "code",
   "execution_count": 130,
   "id": "03018790",
   "metadata": {},
   "outputs": [],
   "source": [
    "top_4 = sorted(mcc_scores.items(), key=lambda x: x[1], reverse=True)[:4]"
   ]
  },
  {
   "cell_type": "code",
   "execution_count": 131,
   "id": "59846cf8",
   "metadata": {},
   "outputs": [
    {
     "data": {
      "text/plain": [
       "[('Gradient Boosting', 0.8311335799800698),\n",
       " ('Random Forest', 0.8215095712150706),\n",
       " ('SVC RBF', 0.8031364530555577),\n",
       " ('MLP', 0.8006224472554867)]"
      ]
     },
     "execution_count": 131,
     "metadata": {},
     "output_type": "execute_result"
    }
   ],
   "source": [
    "top_4"
   ]
  },
  {
   "cell_type": "code",
   "execution_count": null,
   "id": "2af1e62b",
   "metadata": {},
   "outputs": [],
   "source": []
  },
  {
   "cell_type": "code",
   "execution_count": null,
   "id": "ff0fee19",
   "metadata": {},
   "outputs": [],
   "source": []
  },
  {
   "cell_type": "code",
   "execution_count": null,
   "id": "25e6d721",
   "metadata": {},
   "outputs": [],
   "source": []
  },
  {
   "cell_type": "code",
   "execution_count": null,
   "id": "df1bfb92",
   "metadata": {},
   "outputs": [],
   "source": []
  },
  {
   "cell_type": "code",
   "execution_count": null,
   "id": "53558707",
   "metadata": {},
   "outputs": [],
   "source": []
  },
  {
   "cell_type": "code",
   "execution_count": null,
   "id": "e3c3bd42",
   "metadata": {},
   "outputs": [],
   "source": []
  },
  {
   "cell_type": "code",
   "execution_count": null,
   "id": "d512f549",
   "metadata": {},
   "outputs": [],
   "source": []
  },
  {
   "cell_type": "code",
   "execution_count": null,
   "id": "fab6e8ee",
   "metadata": {},
   "outputs": [],
   "source": []
  },
  {
   "cell_type": "code",
   "execution_count": null,
   "id": "71e67a2b",
   "metadata": {},
   "outputs": [],
   "source": []
  },
  {
   "cell_type": "code",
   "execution_count": null,
   "id": "69764fcd",
   "metadata": {},
   "outputs": [],
   "source": []
  },
  {
   "cell_type": "code",
   "execution_count": null,
   "id": "fb251da6",
   "metadata": {},
   "outputs": [],
   "source": []
  },
  {
   "cell_type": "code",
   "execution_count": null,
   "id": "32163c58",
   "metadata": {},
   "outputs": [],
   "source": []
  },
  {
   "cell_type": "code",
   "execution_count": null,
   "id": "f1abc199",
   "metadata": {},
   "outputs": [],
   "source": []
  },
  {
   "cell_type": "code",
   "execution_count": null,
   "id": "2fbe6d23",
   "metadata": {},
   "outputs": [],
   "source": []
  },
  {
   "cell_type": "code",
   "execution_count": null,
   "id": "96dc63ce",
   "metadata": {},
   "outputs": [],
   "source": []
  }
 ],
 "metadata": {
  "kernelspec": {
   "display_name": "Python 3 (ipykernel)",
   "language": "python",
   "name": "python3"
  },
  "language_info": {
   "codemirror_mode": {
    "name": "ipython",
    "version": 3
   },
   "file_extension": ".py",
   "mimetype": "text/x-python",
   "name": "python",
   "nbconvert_exporter": "python",
   "pygments_lexer": "ipython3",
   "version": "3.10.10"
  }
 },
 "nbformat": 4,
 "nbformat_minor": 5
}
